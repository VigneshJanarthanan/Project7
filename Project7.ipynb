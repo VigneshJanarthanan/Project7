{
 "cells": [
  {
   "cell_type": "markdown",
   "metadata": {},
   "source": [
    "# High Level Machine Learning Classification Project Life Cycle\n",
    "\n",
    "- <a href='#1'>1. Domain Introduction </a>\n",
    "- <a href='#2'>2. Problem statement </a>\n",
    "- <a href='#3'>3. Data Source </a>\n",
    "- <a href='#4'>4. Data Description </a>\n",
    "- <a href='#5'>5. Identify the target variable</a>\n",
    "- <a href='#6'>6. Read the data </a>\n",
    "- <a href='#7'>7. Inspect the data </a> \n",
    "     - <a href='#7.1'> Check few samples</a>\n",
    "     - <a href='#7.1'> Check the data types</a>\n",
    "     - <a href='#7.1'> Check the initial summary</a>\n",
    "- <a href='#7'>8. Data Manipulation  </a>   \n",
    "     - <a href='#8.1'> Check for missing values</a>\n",
    "     - <a href='#8.2'> Column string fomatting </a>\n",
    "     - <a href='#8.3'> Data fomatting </a>\n",
    "     - <a href='#8.4'> Imputation </a>\n",
    "- <a href='#9'>9. Exploratory Data Analysis</a>\n",
    "    - <a href='#9.1'> univariate analysis </a>\n",
    "    - <a href='#9.2'> class ditribution in data</a>\n",
    "    - <a href='#9.3'> Varibles distribution according to class</a>\n",
    "    - <a href='#9.4'> Bucketing </a>\n",
    "    - <a href='#9.5'> Correlation Matrix</a>\n",
    "    - <a href='#9.6'> feature elimination / addition / transformation </a>\n",
    "- <a href='#10'>10. Data preprocessing</a>\n",
    "    - <a href='#10.1'> Encoding categorical variable </a>\n",
    "    - <a href='#10.2'> Normalizing features </a>\n",
    "    - <a href='#10.3'> spliting train/val/test data </a>\n",
    "    - <a href='#'> feature compression </a>\n",
    "- <a href='#11'>11. Model Building</a>\n",
    "    - <a href='#11.1'> Baseline Model</a>\n",
    "    - <a href='#11.2'> Model Selection </a>\n",
    "    - <a href='#11.3'> Hyper parameter Selection </a>\n",
    "- <a href='#12'>12. Model Performances</a>\n",
    "    - <a href='#12.1'> model performance metrics</a>\n",
    "    - <a href='#12.2'> Compare model metrics</a>\n",
    "    - <a href='#12.3'> Confusion matrices for models</a>\n",
    "    - <a href='#12.4'> ROC - Curves  for models</a>\n",
    "    - <a href='#12.5'> Precision recall curves</a>\n",
    "- <a href='#13'>13. Model Interpretation</a>\n",
    "- <a href='#14'>14. Model Deployment</a>\n"
   ]
  },
  {
   "cell_type": "markdown",
   "metadata": {},
   "source": [
    "# <a id='1'>1.Domain Introduction</a>"
   ]
  },
  {
   "cell_type": "markdown",
   "metadata": {},
   "source": [
    "We have the customer data for a **telecom** company which offers many services like phone, internet, TV Streaming and Movie Streaming. "
   ]
  },
  {
   "cell_type": "markdown",
   "metadata": {},
   "source": [
    "# <a id='2'>2.Problem Statement</a>"
   ]
  },
  {
   "cell_type": "markdown",
   "metadata": {},
   "source": [
    "\n",
    "\"Find the Best model to predict behavior to retain customers. You can analyze all relevant customer data and develop focused customer retention programs.\"\n"
   ]
  },
  {
   "cell_type": "markdown",
   "metadata": {},
   "source": [
    "# <a id='3'>3. Data Source </a>"
   ]
  },
  {
   "cell_type": "markdown",
   "metadata": {},
   "source": [
    "Available at : [IBM watson analytics page](https://community.watsonanalytics.com/wp-content/uploads/2015/03/WA_Fn-UseC_-Telco-Customer-Churn.csv?cm_mc_uid=14714377267115403444551&cm_mc_sid_50200000=12578191540344455127&cm_mc_sid_52640000=36692891540344455130)\n"
   ]
  },
  {
   "cell_type": "markdown",
   "metadata": {},
   "source": [
    "# <a id='4'>4. Data Description </a>"
   ]
  },
  {
   "cell_type": "markdown",
   "metadata": {},
   "source": [
    "This data set provides info to help you predict behavior to retain customers. You can analyze all relevant customer data and develop focused customer retention programs.\n",
    "\n",
    "A telecommunications company is concerned about the number of customers leaving their landline business for cable competitors. They need to understand who is leaving. **Imagine that you’re an analyst at this company and you have to find out who is leaving and why.**\n",
    "\n",
    "> The data set includes information about:\n",
    "* Customers who left within the last month – the column is called Churn\n",
    "* Services that each customer has signed up for – phone, multiple lines, internet, online security, online backup, device protection, tech support, and streaming TV and movies\n",
    "* Customer account information – how long they’ve been a customer, contract, payment method, paperless billing, monthly charges, and total charges\n",
    "* Demographic info about customers – gender, age range, and if they have partners and dependents"
   ]
  },
  {
   "cell_type": "markdown",
   "metadata": {},
   "source": [
    "# <a id='5'>5. Identify the target variable </a>"
   ]
  },
  {
   "cell_type": "markdown",
   "metadata": {},
   "source": [
    "**The Goal is to predict whether or not a particular customer is likely to retain services.** This is represented by the Churn column in dataset. Churn=Yes means customer leaves the company, whereas Churn=No implies customer is retained by the company."
   ]
  },
  {
   "cell_type": "markdown",
   "metadata": {},
   "source": [
    "# <a id='6'>6. Read the data </a>"
   ]
  },
  {
   "cell_type": "code",
   "execution_count": 1,
   "metadata": {},
   "outputs": [],
   "source": [
    "import numpy as np # linear algebra\n",
    "import pandas as pd # data processing, CSV file I/O (e.g. pd.read_csv)\n",
    "import matplotlib.pyplot as plt\n",
    "%matplotlib inline\n",
    "import seaborn as sns"
   ]
  },
  {
   "cell_type": "code",
   "execution_count": 2,
   "metadata": {},
   "outputs": [
    {
     "data": {
      "text/plain": [
       "(140860, (7043, 20))"
      ]
     },
     "execution_count": 2,
     "metadata": {},
     "output_type": "execute_result"
    }
   ],
   "source": [
    "df = pd.read_csv('WA_Fn-UseC_-Telco-Customer-Churn.csv',index_col='customerID')\n",
    "df.size, df.shape\n",
    "# Data: https://www.kaggle.com/blastchar/telco-customer-churn#WA_Fn-UseC_-Telco-Customer-Churn.csv"
   ]
  },
  {
   "cell_type": "markdown",
   "metadata": {},
   "source": [
    "# <a id='7'>7. Inspect the data </a>"
   ]
  },
  {
   "cell_type": "markdown",
   "metadata": {},
   "source": [
    "https://www.kaggle.com/blastchar/telco-customer-churn#"
   ]
  },
  {
   "cell_type": "code",
   "execution_count": 3,
   "metadata": {
    "scrolled": true
   },
   "outputs": [
    {
     "data": {
      "text/html": [
       "<div>\n",
       "<style scoped>\n",
       "    .dataframe tbody tr th:only-of-type {\n",
       "        vertical-align: middle;\n",
       "    }\n",
       "\n",
       "    .dataframe tbody tr th {\n",
       "        vertical-align: top;\n",
       "    }\n",
       "\n",
       "    .dataframe thead th {\n",
       "        text-align: right;\n",
       "    }\n",
       "</style>\n",
       "<table border=\"1\" class=\"dataframe\">\n",
       "  <thead>\n",
       "    <tr style=\"text-align: right;\">\n",
       "      <th></th>\n",
       "      <th>gender</th>\n",
       "      <th>SeniorCitizen</th>\n",
       "      <th>Partner</th>\n",
       "      <th>Dependents</th>\n",
       "      <th>tenure</th>\n",
       "      <th>PhoneService</th>\n",
       "      <th>MultipleLines</th>\n",
       "      <th>InternetService</th>\n",
       "      <th>OnlineSecurity</th>\n",
       "      <th>OnlineBackup</th>\n",
       "      <th>DeviceProtection</th>\n",
       "      <th>TechSupport</th>\n",
       "      <th>StreamingTV</th>\n",
       "      <th>StreamingMovies</th>\n",
       "      <th>Contract</th>\n",
       "      <th>PaperlessBilling</th>\n",
       "      <th>PaymentMethod</th>\n",
       "      <th>MonthlyCharges</th>\n",
       "      <th>TotalCharges</th>\n",
       "      <th>Churn</th>\n",
       "    </tr>\n",
       "    <tr>\n",
       "      <th>customerID</th>\n",
       "      <th></th>\n",
       "      <th></th>\n",
       "      <th></th>\n",
       "      <th></th>\n",
       "      <th></th>\n",
       "      <th></th>\n",
       "      <th></th>\n",
       "      <th></th>\n",
       "      <th></th>\n",
       "      <th></th>\n",
       "      <th></th>\n",
       "      <th></th>\n",
       "      <th></th>\n",
       "      <th></th>\n",
       "      <th></th>\n",
       "      <th></th>\n",
       "      <th></th>\n",
       "      <th></th>\n",
       "      <th></th>\n",
       "      <th></th>\n",
       "    </tr>\n",
       "  </thead>\n",
       "  <tbody>\n",
       "    <tr>\n",
       "      <th>7590-VHVEG</th>\n",
       "      <td>Female</td>\n",
       "      <td>0</td>\n",
       "      <td>Yes</td>\n",
       "      <td>No</td>\n",
       "      <td>1</td>\n",
       "      <td>No</td>\n",
       "      <td>No phone service</td>\n",
       "      <td>DSL</td>\n",
       "      <td>No</td>\n",
       "      <td>Yes</td>\n",
       "      <td>No</td>\n",
       "      <td>No</td>\n",
       "      <td>No</td>\n",
       "      <td>No</td>\n",
       "      <td>Month-to-month</td>\n",
       "      <td>Yes</td>\n",
       "      <td>Electronic check</td>\n",
       "      <td>29.85</td>\n",
       "      <td>29.85</td>\n",
       "      <td>No</td>\n",
       "    </tr>\n",
       "    <tr>\n",
       "      <th>5575-GNVDE</th>\n",
       "      <td>Male</td>\n",
       "      <td>0</td>\n",
       "      <td>No</td>\n",
       "      <td>No</td>\n",
       "      <td>34</td>\n",
       "      <td>Yes</td>\n",
       "      <td>No</td>\n",
       "      <td>DSL</td>\n",
       "      <td>Yes</td>\n",
       "      <td>No</td>\n",
       "      <td>Yes</td>\n",
       "      <td>No</td>\n",
       "      <td>No</td>\n",
       "      <td>No</td>\n",
       "      <td>One year</td>\n",
       "      <td>No</td>\n",
       "      <td>Mailed check</td>\n",
       "      <td>56.95</td>\n",
       "      <td>1889.5</td>\n",
       "      <td>No</td>\n",
       "    </tr>\n",
       "    <tr>\n",
       "      <th>3668-QPYBK</th>\n",
       "      <td>Male</td>\n",
       "      <td>0</td>\n",
       "      <td>No</td>\n",
       "      <td>No</td>\n",
       "      <td>2</td>\n",
       "      <td>Yes</td>\n",
       "      <td>No</td>\n",
       "      <td>DSL</td>\n",
       "      <td>Yes</td>\n",
       "      <td>Yes</td>\n",
       "      <td>No</td>\n",
       "      <td>No</td>\n",
       "      <td>No</td>\n",
       "      <td>No</td>\n",
       "      <td>Month-to-month</td>\n",
       "      <td>Yes</td>\n",
       "      <td>Mailed check</td>\n",
       "      <td>53.85</td>\n",
       "      <td>108.15</td>\n",
       "      <td>Yes</td>\n",
       "    </tr>\n",
       "    <tr>\n",
       "      <th>7795-CFOCW</th>\n",
       "      <td>Male</td>\n",
       "      <td>0</td>\n",
       "      <td>No</td>\n",
       "      <td>No</td>\n",
       "      <td>45</td>\n",
       "      <td>No</td>\n",
       "      <td>No phone service</td>\n",
       "      <td>DSL</td>\n",
       "      <td>Yes</td>\n",
       "      <td>No</td>\n",
       "      <td>Yes</td>\n",
       "      <td>Yes</td>\n",
       "      <td>No</td>\n",
       "      <td>No</td>\n",
       "      <td>One year</td>\n",
       "      <td>No</td>\n",
       "      <td>Bank transfer (automatic)</td>\n",
       "      <td>42.30</td>\n",
       "      <td>1840.75</td>\n",
       "      <td>No</td>\n",
       "    </tr>\n",
       "    <tr>\n",
       "      <th>9237-HQITU</th>\n",
       "      <td>Female</td>\n",
       "      <td>0</td>\n",
       "      <td>No</td>\n",
       "      <td>No</td>\n",
       "      <td>2</td>\n",
       "      <td>Yes</td>\n",
       "      <td>No</td>\n",
       "      <td>Fiber optic</td>\n",
       "      <td>No</td>\n",
       "      <td>No</td>\n",
       "      <td>No</td>\n",
       "      <td>No</td>\n",
       "      <td>No</td>\n",
       "      <td>No</td>\n",
       "      <td>Month-to-month</td>\n",
       "      <td>Yes</td>\n",
       "      <td>Electronic check</td>\n",
       "      <td>70.70</td>\n",
       "      <td>151.65</td>\n",
       "      <td>Yes</td>\n",
       "    </tr>\n",
       "  </tbody>\n",
       "</table>\n",
       "</div>"
      ],
      "text/plain": [
       "            gender  SeniorCitizen Partner Dependents  tenure PhoneService  \\\n",
       "customerID                                                                  \n",
       "7590-VHVEG  Female              0     Yes         No       1           No   \n",
       "5575-GNVDE    Male              0      No         No      34          Yes   \n",
       "3668-QPYBK    Male              0      No         No       2          Yes   \n",
       "7795-CFOCW    Male              0      No         No      45           No   \n",
       "9237-HQITU  Female              0      No         No       2          Yes   \n",
       "\n",
       "               MultipleLines InternetService OnlineSecurity OnlineBackup  \\\n",
       "customerID                                                                 \n",
       "7590-VHVEG  No phone service             DSL             No          Yes   \n",
       "5575-GNVDE                No             DSL            Yes           No   \n",
       "3668-QPYBK                No             DSL            Yes          Yes   \n",
       "7795-CFOCW  No phone service             DSL            Yes           No   \n",
       "9237-HQITU                No     Fiber optic             No           No   \n",
       "\n",
       "           DeviceProtection TechSupport StreamingTV StreamingMovies  \\\n",
       "customerID                                                            \n",
       "7590-VHVEG               No          No          No              No   \n",
       "5575-GNVDE              Yes          No          No              No   \n",
       "3668-QPYBK               No          No          No              No   \n",
       "7795-CFOCW              Yes         Yes          No              No   \n",
       "9237-HQITU               No          No          No              No   \n",
       "\n",
       "                  Contract PaperlessBilling              PaymentMethod  \\\n",
       "customerID                                                               \n",
       "7590-VHVEG  Month-to-month              Yes           Electronic check   \n",
       "5575-GNVDE        One year               No               Mailed check   \n",
       "3668-QPYBK  Month-to-month              Yes               Mailed check   \n",
       "7795-CFOCW        One year               No  Bank transfer (automatic)   \n",
       "9237-HQITU  Month-to-month              Yes           Electronic check   \n",
       "\n",
       "            MonthlyCharges TotalCharges Churn  \n",
       "customerID                                     \n",
       "7590-VHVEG           29.85        29.85    No  \n",
       "5575-GNVDE           56.95       1889.5    No  \n",
       "3668-QPYBK           53.85       108.15   Yes  \n",
       "7795-CFOCW           42.30      1840.75    No  \n",
       "9237-HQITU           70.70       151.65   Yes  "
      ]
     },
     "execution_count": 3,
     "metadata": {},
     "output_type": "execute_result"
    }
   ],
   "source": [
    "df.head()"
   ]
  },
  {
   "cell_type": "code",
   "execution_count": 4,
   "metadata": {
    "scrolled": false
   },
   "outputs": [
    {
     "name": "stdout",
     "output_type": "stream",
     "text": [
      "gender  :  ['Female' 'Male']\n",
      "----------------------------------------------------------------------------------------------------\n",
      "SeniorCitizen  :  [0 1]\n",
      "----------------------------------------------------------------------------------------------------\n",
      "Partner  :  ['Yes' 'No']\n",
      "----------------------------------------------------------------------------------------------------\n",
      "Dependents  :  ['No' 'Yes']\n",
      "----------------------------------------------------------------------------------------------------\n",
      "PhoneService  :  ['No' 'Yes']\n",
      "----------------------------------------------------------------------------------------------------\n",
      "MultipleLines  :  ['No phone service' 'No' 'Yes']\n",
      "----------------------------------------------------------------------------------------------------\n",
      "InternetService  :  ['DSL' 'Fiber optic' 'No']\n",
      "----------------------------------------------------------------------------------------------------\n",
      "OnlineSecurity  :  ['No' 'Yes' 'No internet service']\n",
      "----------------------------------------------------------------------------------------------------\n",
      "OnlineBackup  :  ['Yes' 'No' 'No internet service']\n",
      "----------------------------------------------------------------------------------------------------\n",
      "DeviceProtection  :  ['No' 'Yes' 'No internet service']\n",
      "----------------------------------------------------------------------------------------------------\n",
      "TechSupport  :  ['No' 'Yes' 'No internet service']\n",
      "----------------------------------------------------------------------------------------------------\n",
      "StreamingTV  :  ['No' 'Yes' 'No internet service']\n",
      "----------------------------------------------------------------------------------------------------\n",
      "StreamingMovies  :  ['No' 'Yes' 'No internet service']\n",
      "----------------------------------------------------------------------------------------------------\n",
      "Contract  :  ['Month-to-month' 'One year' 'Two year']\n",
      "----------------------------------------------------------------------------------------------------\n",
      "PaperlessBilling  :  ['Yes' 'No']\n",
      "----------------------------------------------------------------------------------------------------\n",
      "PaymentMethod  :  ['Electronic check' 'Mailed check' 'Bank transfer (automatic)'\n",
      " 'Credit card (automatic)']\n",
      "----------------------------------------------------------------------------------------------------\n",
      "Churn  :  ['No' 'Yes']\n",
      "----------------------------------------------------------------------------------------------------\n"
     ]
    }
   ],
   "source": [
    "## print the unique values in every column in dataframe\n",
    "\n",
    "def print_unique_values_in_column(df, max_unique=30):\n",
    "    for col in df:\n",
    "        if len(df[col].unique()) < max_unique:\n",
    "            print(df[col].name, ' : ', df[col].unique())\n",
    "            print('-'*100)\n",
    "\n",
    "            \n",
    "print_unique_values_in_column(df)"
   ]
  },
  {
   "cell_type": "code",
   "execution_count": 5,
   "metadata": {},
   "outputs": [
    {
     "name": "stdout",
     "output_type": "stream",
     "text": [
      "<class 'pandas.core.frame.DataFrame'>\n",
      "Index: 7043 entries, 7590-VHVEG to 3186-AJIEK\n",
      "Data columns (total 20 columns):\n",
      "gender              7043 non-null object\n",
      "SeniorCitizen       7043 non-null int64\n",
      "Partner             7043 non-null object\n",
      "Dependents          7043 non-null object\n",
      "tenure              7043 non-null int64\n",
      "PhoneService        7043 non-null object\n",
      "MultipleLines       7043 non-null object\n",
      "InternetService     7043 non-null object\n",
      "OnlineSecurity      7043 non-null object\n",
      "OnlineBackup        7043 non-null object\n",
      "DeviceProtection    7043 non-null object\n",
      "TechSupport         7043 non-null object\n",
      "StreamingTV         7043 non-null object\n",
      "StreamingMovies     7043 non-null object\n",
      "Contract            7043 non-null object\n",
      "PaperlessBilling    7043 non-null object\n",
      "PaymentMethod       7043 non-null object\n",
      "MonthlyCharges      7043 non-null float64\n",
      "TotalCharges        7043 non-null object\n",
      "Churn               7043 non-null object\n",
      "dtypes: float64(1), int64(2), object(17)\n",
      "memory usage: 1.1+ MB\n"
     ]
    }
   ],
   "source": [
    "df.info()"
   ]
  },
  {
   "cell_type": "code",
   "execution_count": 6,
   "metadata": {
    "scrolled": true
   },
   "outputs": [
    {
     "data": {
      "text/html": [
       "<div>\n",
       "<style scoped>\n",
       "    .dataframe tbody tr th:only-of-type {\n",
       "        vertical-align: middle;\n",
       "    }\n",
       "\n",
       "    .dataframe tbody tr th {\n",
       "        vertical-align: top;\n",
       "    }\n",
       "\n",
       "    .dataframe thead th {\n",
       "        text-align: right;\n",
       "    }\n",
       "</style>\n",
       "<table border=\"1\" class=\"dataframe\">\n",
       "  <thead>\n",
       "    <tr style=\"text-align: right;\">\n",
       "      <th></th>\n",
       "      <th>SeniorCitizen</th>\n",
       "      <th>tenure</th>\n",
       "      <th>MonthlyCharges</th>\n",
       "    </tr>\n",
       "  </thead>\n",
       "  <tbody>\n",
       "    <tr>\n",
       "      <th>count</th>\n",
       "      <td>7043.000000</td>\n",
       "      <td>7043.000000</td>\n",
       "      <td>7043.000000</td>\n",
       "    </tr>\n",
       "    <tr>\n",
       "      <th>mean</th>\n",
       "      <td>0.162147</td>\n",
       "      <td>32.371149</td>\n",
       "      <td>64.761692</td>\n",
       "    </tr>\n",
       "    <tr>\n",
       "      <th>std</th>\n",
       "      <td>0.368612</td>\n",
       "      <td>24.559481</td>\n",
       "      <td>30.090047</td>\n",
       "    </tr>\n",
       "    <tr>\n",
       "      <th>min</th>\n",
       "      <td>0.000000</td>\n",
       "      <td>0.000000</td>\n",
       "      <td>18.250000</td>\n",
       "    </tr>\n",
       "    <tr>\n",
       "      <th>25%</th>\n",
       "      <td>0.000000</td>\n",
       "      <td>9.000000</td>\n",
       "      <td>35.500000</td>\n",
       "    </tr>\n",
       "    <tr>\n",
       "      <th>50%</th>\n",
       "      <td>0.000000</td>\n",
       "      <td>29.000000</td>\n",
       "      <td>70.350000</td>\n",
       "    </tr>\n",
       "    <tr>\n",
       "      <th>75%</th>\n",
       "      <td>0.000000</td>\n",
       "      <td>55.000000</td>\n",
       "      <td>89.850000</td>\n",
       "    </tr>\n",
       "    <tr>\n",
       "      <th>max</th>\n",
       "      <td>1.000000</td>\n",
       "      <td>72.000000</td>\n",
       "      <td>118.750000</td>\n",
       "    </tr>\n",
       "  </tbody>\n",
       "</table>\n",
       "</div>"
      ],
      "text/plain": [
       "       SeniorCitizen       tenure  MonthlyCharges\n",
       "count    7043.000000  7043.000000     7043.000000\n",
       "mean        0.162147    32.371149       64.761692\n",
       "std         0.368612    24.559481       30.090047\n",
       "min         0.000000     0.000000       18.250000\n",
       "25%         0.000000     9.000000       35.500000\n",
       "50%         0.000000    29.000000       70.350000\n",
       "75%         0.000000    55.000000       89.850000\n",
       "max         1.000000    72.000000      118.750000"
      ]
     },
     "execution_count": 6,
     "metadata": {},
     "output_type": "execute_result"
    }
   ],
   "source": [
    "df.describe()"
   ]
  },
  {
   "cell_type": "code",
   "execution_count": 7,
   "metadata": {},
   "outputs": [
    {
     "data": {
      "text/html": [
       "<div>\n",
       "<style scoped>\n",
       "    .dataframe tbody tr th:only-of-type {\n",
       "        vertical-align: middle;\n",
       "    }\n",
       "\n",
       "    .dataframe tbody tr th {\n",
       "        vertical-align: top;\n",
       "    }\n",
       "\n",
       "    .dataframe thead th {\n",
       "        text-align: right;\n",
       "    }\n",
       "</style>\n",
       "<table border=\"1\" class=\"dataframe\">\n",
       "  <thead>\n",
       "    <tr style=\"text-align: right;\">\n",
       "      <th></th>\n",
       "      <th>gender</th>\n",
       "      <th>Partner</th>\n",
       "      <th>Dependents</th>\n",
       "      <th>PhoneService</th>\n",
       "      <th>MultipleLines</th>\n",
       "      <th>InternetService</th>\n",
       "      <th>OnlineSecurity</th>\n",
       "      <th>OnlineBackup</th>\n",
       "      <th>DeviceProtection</th>\n",
       "      <th>TechSupport</th>\n",
       "      <th>StreamingTV</th>\n",
       "      <th>StreamingMovies</th>\n",
       "      <th>Contract</th>\n",
       "      <th>PaperlessBilling</th>\n",
       "      <th>PaymentMethod</th>\n",
       "      <th>TotalCharges</th>\n",
       "      <th>Churn</th>\n",
       "    </tr>\n",
       "  </thead>\n",
       "  <tbody>\n",
       "    <tr>\n",
       "      <th>count</th>\n",
       "      <td>7043</td>\n",
       "      <td>7043</td>\n",
       "      <td>7043</td>\n",
       "      <td>7043</td>\n",
       "      <td>7043</td>\n",
       "      <td>7043</td>\n",
       "      <td>7043</td>\n",
       "      <td>7043</td>\n",
       "      <td>7043</td>\n",
       "      <td>7043</td>\n",
       "      <td>7043</td>\n",
       "      <td>7043</td>\n",
       "      <td>7043</td>\n",
       "      <td>7043</td>\n",
       "      <td>7043</td>\n",
       "      <td>7043</td>\n",
       "      <td>7043</td>\n",
       "    </tr>\n",
       "    <tr>\n",
       "      <th>unique</th>\n",
       "      <td>2</td>\n",
       "      <td>2</td>\n",
       "      <td>2</td>\n",
       "      <td>2</td>\n",
       "      <td>3</td>\n",
       "      <td>3</td>\n",
       "      <td>3</td>\n",
       "      <td>3</td>\n",
       "      <td>3</td>\n",
       "      <td>3</td>\n",
       "      <td>3</td>\n",
       "      <td>3</td>\n",
       "      <td>3</td>\n",
       "      <td>2</td>\n",
       "      <td>4</td>\n",
       "      <td>6531</td>\n",
       "      <td>2</td>\n",
       "    </tr>\n",
       "    <tr>\n",
       "      <th>top</th>\n",
       "      <td>Male</td>\n",
       "      <td>No</td>\n",
       "      <td>No</td>\n",
       "      <td>Yes</td>\n",
       "      <td>No</td>\n",
       "      <td>Fiber optic</td>\n",
       "      <td>No</td>\n",
       "      <td>No</td>\n",
       "      <td>No</td>\n",
       "      <td>No</td>\n",
       "      <td>No</td>\n",
       "      <td>No</td>\n",
       "      <td>Month-to-month</td>\n",
       "      <td>Yes</td>\n",
       "      <td>Electronic check</td>\n",
       "      <td></td>\n",
       "      <td>No</td>\n",
       "    </tr>\n",
       "    <tr>\n",
       "      <th>freq</th>\n",
       "      <td>3555</td>\n",
       "      <td>3641</td>\n",
       "      <td>4933</td>\n",
       "      <td>6361</td>\n",
       "      <td>3390</td>\n",
       "      <td>3096</td>\n",
       "      <td>3498</td>\n",
       "      <td>3088</td>\n",
       "      <td>3095</td>\n",
       "      <td>3473</td>\n",
       "      <td>2810</td>\n",
       "      <td>2785</td>\n",
       "      <td>3875</td>\n",
       "      <td>4171</td>\n",
       "      <td>2365</td>\n",
       "      <td>11</td>\n",
       "      <td>5174</td>\n",
       "    </tr>\n",
       "  </tbody>\n",
       "</table>\n",
       "</div>"
      ],
      "text/plain": [
       "       gender Partner Dependents PhoneService MultipleLines InternetService  \\\n",
       "count    7043    7043       7043         7043          7043            7043   \n",
       "unique      2       2          2            2             3               3   \n",
       "top      Male      No         No          Yes            No     Fiber optic   \n",
       "freq     3555    3641       4933         6361          3390            3096   \n",
       "\n",
       "       OnlineSecurity OnlineBackup DeviceProtection TechSupport StreamingTV  \\\n",
       "count            7043         7043             7043        7043        7043   \n",
       "unique              3            3                3           3           3   \n",
       "top                No           No               No          No          No   \n",
       "freq             3498         3088             3095        3473        2810   \n",
       "\n",
       "       StreamingMovies        Contract PaperlessBilling     PaymentMethod  \\\n",
       "count             7043            7043             7043              7043   \n",
       "unique               3               3                2                 4   \n",
       "top                 No  Month-to-month              Yes  Electronic check   \n",
       "freq              2785            3875             4171              2365   \n",
       "\n",
       "       TotalCharges Churn  \n",
       "count          7043  7043  \n",
       "unique         6531     2  \n",
       "top                    No  \n",
       "freq             11  5174  "
      ]
     },
     "execution_count": 7,
     "metadata": {},
     "output_type": "execute_result"
    }
   ],
   "source": [
    "df.describe(include=object)"
   ]
  },
  {
   "cell_type": "markdown",
   "metadata": {},
   "source": [
    "# <a id='8'>8. Data Manipulation </a>\n"
   ]
  },
  {
   "cell_type": "code",
   "execution_count": 8,
   "metadata": {},
   "outputs": [
    {
     "data": {
      "text/html": [
       "<div>\n",
       "<style scoped>\n",
       "    .dataframe tbody tr th:only-of-type {\n",
       "        vertical-align: middle;\n",
       "    }\n",
       "\n",
       "    .dataframe tbody tr th {\n",
       "        vertical-align: top;\n",
       "    }\n",
       "\n",
       "    .dataframe thead th {\n",
       "        text-align: right;\n",
       "    }\n",
       "</style>\n",
       "<table border=\"1\" class=\"dataframe\">\n",
       "  <thead>\n",
       "    <tr style=\"text-align: right;\">\n",
       "      <th></th>\n",
       "      <th>gender</th>\n",
       "      <th>SeniorCitizen</th>\n",
       "      <th>Partner</th>\n",
       "      <th>Dependents</th>\n",
       "      <th>tenure</th>\n",
       "      <th>PhoneService</th>\n",
       "      <th>MultipleLines</th>\n",
       "      <th>InternetService</th>\n",
       "      <th>OnlineSecurity</th>\n",
       "      <th>OnlineBackup</th>\n",
       "      <th>DeviceProtection</th>\n",
       "      <th>TechSupport</th>\n",
       "      <th>StreamingTV</th>\n",
       "      <th>StreamingMovies</th>\n",
       "      <th>Contract</th>\n",
       "      <th>PaperlessBilling</th>\n",
       "      <th>PaymentMethod</th>\n",
       "      <th>MonthlyCharges</th>\n",
       "      <th>TotalCharges</th>\n",
       "      <th>Churn</th>\n",
       "    </tr>\n",
       "    <tr>\n",
       "      <th>customerID</th>\n",
       "      <th></th>\n",
       "      <th></th>\n",
       "      <th></th>\n",
       "      <th></th>\n",
       "      <th></th>\n",
       "      <th></th>\n",
       "      <th></th>\n",
       "      <th></th>\n",
       "      <th></th>\n",
       "      <th></th>\n",
       "      <th></th>\n",
       "      <th></th>\n",
       "      <th></th>\n",
       "      <th></th>\n",
       "      <th></th>\n",
       "      <th></th>\n",
       "      <th></th>\n",
       "      <th></th>\n",
       "      <th></th>\n",
       "      <th></th>\n",
       "    </tr>\n",
       "  </thead>\n",
       "  <tbody>\n",
       "    <tr>\n",
       "      <th>7590-VHVEG</th>\n",
       "      <td>Female</td>\n",
       "      <td>0</td>\n",
       "      <td>Yes</td>\n",
       "      <td>No</td>\n",
       "      <td>1</td>\n",
       "      <td>No</td>\n",
       "      <td>No phone service</td>\n",
       "      <td>DSL</td>\n",
       "      <td>No</td>\n",
       "      <td>Yes</td>\n",
       "      <td>No</td>\n",
       "      <td>No</td>\n",
       "      <td>No</td>\n",
       "      <td>No</td>\n",
       "      <td>Monthtomonth</td>\n",
       "      <td>Yes</td>\n",
       "      <td>Electronic check</td>\n",
       "      <td>29.85</td>\n",
       "      <td>2985</td>\n",
       "      <td>No</td>\n",
       "    </tr>\n",
       "    <tr>\n",
       "      <th>5575-GNVDE</th>\n",
       "      <td>Male</td>\n",
       "      <td>0</td>\n",
       "      <td>No</td>\n",
       "      <td>No</td>\n",
       "      <td>34</td>\n",
       "      <td>Yes</td>\n",
       "      <td>No</td>\n",
       "      <td>DSL</td>\n",
       "      <td>Yes</td>\n",
       "      <td>No</td>\n",
       "      <td>Yes</td>\n",
       "      <td>No</td>\n",
       "      <td>No</td>\n",
       "      <td>No</td>\n",
       "      <td>One year</td>\n",
       "      <td>No</td>\n",
       "      <td>Mailed check</td>\n",
       "      <td>56.95</td>\n",
       "      <td>18895</td>\n",
       "      <td>No</td>\n",
       "    </tr>\n",
       "    <tr>\n",
       "      <th>3668-QPYBK</th>\n",
       "      <td>Male</td>\n",
       "      <td>0</td>\n",
       "      <td>No</td>\n",
       "      <td>No</td>\n",
       "      <td>2</td>\n",
       "      <td>Yes</td>\n",
       "      <td>No</td>\n",
       "      <td>DSL</td>\n",
       "      <td>Yes</td>\n",
       "      <td>Yes</td>\n",
       "      <td>No</td>\n",
       "      <td>No</td>\n",
       "      <td>No</td>\n",
       "      <td>No</td>\n",
       "      <td>Monthtomonth</td>\n",
       "      <td>Yes</td>\n",
       "      <td>Mailed check</td>\n",
       "      <td>53.85</td>\n",
       "      <td>10815</td>\n",
       "      <td>Yes</td>\n",
       "    </tr>\n",
       "    <tr>\n",
       "      <th>7795-CFOCW</th>\n",
       "      <td>Male</td>\n",
       "      <td>0</td>\n",
       "      <td>No</td>\n",
       "      <td>No</td>\n",
       "      <td>45</td>\n",
       "      <td>No</td>\n",
       "      <td>No phone service</td>\n",
       "      <td>DSL</td>\n",
       "      <td>Yes</td>\n",
       "      <td>No</td>\n",
       "      <td>Yes</td>\n",
       "      <td>Yes</td>\n",
       "      <td>No</td>\n",
       "      <td>No</td>\n",
       "      <td>One year</td>\n",
       "      <td>No</td>\n",
       "      <td>Bank transfer automatic</td>\n",
       "      <td>42.30</td>\n",
       "      <td>184075</td>\n",
       "      <td>No</td>\n",
       "    </tr>\n",
       "    <tr>\n",
       "      <th>9237-HQITU</th>\n",
       "      <td>Female</td>\n",
       "      <td>0</td>\n",
       "      <td>No</td>\n",
       "      <td>No</td>\n",
       "      <td>2</td>\n",
       "      <td>Yes</td>\n",
       "      <td>No</td>\n",
       "      <td>Fiber optic</td>\n",
       "      <td>No</td>\n",
       "      <td>No</td>\n",
       "      <td>No</td>\n",
       "      <td>No</td>\n",
       "      <td>No</td>\n",
       "      <td>No</td>\n",
       "      <td>Monthtomonth</td>\n",
       "      <td>Yes</td>\n",
       "      <td>Electronic check</td>\n",
       "      <td>70.70</td>\n",
       "      <td>15165</td>\n",
       "      <td>Yes</td>\n",
       "    </tr>\n",
       "  </tbody>\n",
       "</table>\n",
       "</div>"
      ],
      "text/plain": [
       "            gender  SeniorCitizen Partner Dependents  tenure PhoneService  \\\n",
       "customerID                                                                  \n",
       "7590-VHVEG  Female              0     Yes         No       1           No   \n",
       "5575-GNVDE    Male              0      No         No      34          Yes   \n",
       "3668-QPYBK    Male              0      No         No       2          Yes   \n",
       "7795-CFOCW    Male              0      No         No      45           No   \n",
       "9237-HQITU  Female              0      No         No       2          Yes   \n",
       "\n",
       "               MultipleLines InternetService OnlineSecurity OnlineBackup  \\\n",
       "customerID                                                                 \n",
       "7590-VHVEG  No phone service             DSL             No          Yes   \n",
       "5575-GNVDE                No             DSL            Yes           No   \n",
       "3668-QPYBK                No             DSL            Yes          Yes   \n",
       "7795-CFOCW  No phone service             DSL            Yes           No   \n",
       "9237-HQITU                No     Fiber optic             No           No   \n",
       "\n",
       "           DeviceProtection TechSupport StreamingTV StreamingMovies  \\\n",
       "customerID                                                            \n",
       "7590-VHVEG               No          No          No              No   \n",
       "5575-GNVDE              Yes          No          No              No   \n",
       "3668-QPYBK               No          No          No              No   \n",
       "7795-CFOCW              Yes         Yes          No              No   \n",
       "9237-HQITU               No          No          No              No   \n",
       "\n",
       "                Contract PaperlessBilling            PaymentMethod  \\\n",
       "customerID                                                           \n",
       "7590-VHVEG  Monthtomonth              Yes         Electronic check   \n",
       "5575-GNVDE      One year               No             Mailed check   \n",
       "3668-QPYBK  Monthtomonth              Yes             Mailed check   \n",
       "7795-CFOCW      One year               No  Bank transfer automatic   \n",
       "9237-HQITU  Monthtomonth              Yes         Electronic check   \n",
       "\n",
       "            MonthlyCharges TotalCharges Churn  \n",
       "customerID                                     \n",
       "7590-VHVEG           29.85         2985    No  \n",
       "5575-GNVDE           56.95        18895    No  \n",
       "3668-QPYBK           53.85        10815   Yes  \n",
       "7795-CFOCW           42.30       184075    No  \n",
       "9237-HQITU           70.70        15165   Yes  "
      ]
     },
     "execution_count": 8,
     "metadata": {},
     "output_type": "execute_result"
    }
   ],
   "source": [
    "# remove_punctuation from col\n",
    "\n",
    "def filter_df(df):\n",
    "    \n",
    "    import string \n",
    "    def remove_punctuation(s):\n",
    "        s = ''.join([i for i in s if i not in frozenset(string.punctuation)])\n",
    "        return s\n",
    "    \n",
    "    #filter col_names\n",
    "    # df.columns = df.columns.str.strip().str.lower().str.replace(' ', '_').str.replace('(', '').str.replace(')', '')\n",
    "    df.columns = df.columns.str.strip().str.replace(' ', '_').str.replace('(', '').str.replace(')', '')\n",
    "    \n",
    "    #filter col_values\n",
    "    df_categorical = df.select_dtypes(include=object)\n",
    "    for col in df_categorical.columns:\n",
    "        df[col] = df[col].apply(remove_punctuation)\n",
    "    return df\n",
    "\n",
    "df = filter_df(df)\n",
    "\n",
    "df.head()\n",
    "\n",
    "#https://medium.com/@chaimgluck1/have-messy-text-data-clean-it-with-simple-lambda-functions-645918fcc2fc\n"
   ]
  },
  {
   "cell_type": "markdown",
   "metadata": {},
   "source": [
    "## <a id='8.1'>Data Manipulation </a>"
   ]
  },
  {
   "cell_type": "code",
   "execution_count": 9,
   "metadata": {
    "scrolled": false
   },
   "outputs": [
    {
     "data": {
      "text/plain": [
       "gender              False\n",
       "SeniorCitizen       False\n",
       "Partner             False\n",
       "Dependents          False\n",
       "tenure              False\n",
       "PhoneService        False\n",
       "MultipleLines       False\n",
       "InternetService     False\n",
       "OnlineSecurity      False\n",
       "OnlineBackup        False\n",
       "DeviceProtection    False\n",
       "TechSupport         False\n",
       "StreamingTV         False\n",
       "StreamingMovies     False\n",
       "Contract            False\n",
       "PaperlessBilling    False\n",
       "PaymentMethod       False\n",
       "MonthlyCharges      False\n",
       "TotalCharges        False\n",
       "Churn               False\n",
       "dtype: bool"
      ]
     },
     "execution_count": 9,
     "metadata": {},
     "output_type": "execute_result"
    }
   ],
   "source": [
    "df.isna().any()"
   ]
  },
  {
   "cell_type": "code",
   "execution_count": 10,
   "metadata": {},
   "outputs": [
    {
     "data": {
      "text/plain": [
       "gender              0\n",
       "SeniorCitizen       0\n",
       "Partner             0\n",
       "Dependents          0\n",
       "tenure              0\n",
       "PhoneService        0\n",
       "MultipleLines       0\n",
       "InternetService     0\n",
       "OnlineSecurity      0\n",
       "OnlineBackup        0\n",
       "DeviceProtection    0\n",
       "TechSupport         0\n",
       "StreamingTV         0\n",
       "StreamingMovies     0\n",
       "Contract            0\n",
       "PaperlessBilling    0\n",
       "PaymentMethod       0\n",
       "MonthlyCharges      0\n",
       "TotalCharges        0\n",
       "Churn               0\n",
       "dtype: int64"
      ]
     },
     "execution_count": 10,
     "metadata": {},
     "output_type": "execute_result"
    }
   ],
   "source": [
    "df.isna().sum()\n",
    "\n",
    "# df.isnull().sum()"
   ]
  },
  {
   "cell_type": "code",
   "execution_count": 11,
   "metadata": {},
   "outputs": [],
   "source": [
    "# df['TotalCharges'].isna()"
   ]
  },
  {
   "cell_type": "code",
   "execution_count": 12,
   "metadata": {
    "scrolled": true
   },
   "outputs": [
    {
     "data": {
      "text/html": [
       "<div>\n",
       "<style scoped>\n",
       "    .dataframe tbody tr th:only-of-type {\n",
       "        vertical-align: middle;\n",
       "    }\n",
       "\n",
       "    .dataframe tbody tr th {\n",
       "        vertical-align: top;\n",
       "    }\n",
       "\n",
       "    .dataframe thead th {\n",
       "        text-align: right;\n",
       "    }\n",
       "</style>\n",
       "<table border=\"1\" class=\"dataframe\">\n",
       "  <thead>\n",
       "    <tr style=\"text-align: right;\">\n",
       "      <th></th>\n",
       "      <th>gender</th>\n",
       "      <th>SeniorCitizen</th>\n",
       "      <th>Partner</th>\n",
       "      <th>Dependents</th>\n",
       "      <th>tenure</th>\n",
       "      <th>PhoneService</th>\n",
       "      <th>MultipleLines</th>\n",
       "      <th>InternetService</th>\n",
       "      <th>OnlineSecurity</th>\n",
       "      <th>OnlineBackup</th>\n",
       "      <th>DeviceProtection</th>\n",
       "      <th>TechSupport</th>\n",
       "      <th>StreamingTV</th>\n",
       "      <th>StreamingMovies</th>\n",
       "      <th>Contract</th>\n",
       "      <th>PaperlessBilling</th>\n",
       "      <th>PaymentMethod</th>\n",
       "      <th>MonthlyCharges</th>\n",
       "      <th>TotalCharges</th>\n",
       "      <th>Churn</th>\n",
       "    </tr>\n",
       "    <tr>\n",
       "      <th>customerID</th>\n",
       "      <th></th>\n",
       "      <th></th>\n",
       "      <th></th>\n",
       "      <th></th>\n",
       "      <th></th>\n",
       "      <th></th>\n",
       "      <th></th>\n",
       "      <th></th>\n",
       "      <th></th>\n",
       "      <th></th>\n",
       "      <th></th>\n",
       "      <th></th>\n",
       "      <th></th>\n",
       "      <th></th>\n",
       "      <th></th>\n",
       "      <th></th>\n",
       "      <th></th>\n",
       "      <th></th>\n",
       "      <th></th>\n",
       "      <th></th>\n",
       "    </tr>\n",
       "  </thead>\n",
       "  <tbody>\n",
       "  </tbody>\n",
       "</table>\n",
       "</div>"
      ],
      "text/plain": [
       "Empty DataFrame\n",
       "Columns: [gender, SeniorCitizen, Partner, Dependents, tenure, PhoneService, MultipleLines, InternetService, OnlineSecurity, OnlineBackup, DeviceProtection, TechSupport, StreamingTV, StreamingMovies, Contract, PaperlessBilling, PaymentMethod, MonthlyCharges, TotalCharges, Churn]\n",
       "Index: []"
      ]
     },
     "execution_count": 12,
     "metadata": {},
     "output_type": "execute_result"
    }
   ],
   "source": [
    "df[df['TotalCharges'].isna()]"
   ]
  },
  {
   "cell_type": "code",
   "execution_count": 13,
   "metadata": {},
   "outputs": [
    {
     "data": {
      "text/plain": [
       "0"
      ]
     },
     "execution_count": 13,
     "metadata": {},
     "output_type": "execute_result"
    }
   ],
   "source": [
    "len(df[df['TotalCharges'].isna()])"
   ]
  },
  {
   "cell_type": "markdown",
   "metadata": {},
   "source": [
    "**Here we can see that Total Charges is an object variable. Let's Change it to float**"
   ]
  },
  {
   "cell_type": "code",
   "execution_count": 14,
   "metadata": {},
   "outputs": [
    {
     "name": "stdout",
     "output_type": "stream",
     "text": [
      "<class 'pandas.core.frame.DataFrame'>\n",
      "Index: 7043 entries, 7590-VHVEG to 3186-AJIEK\n",
      "Data columns (total 20 columns):\n",
      "gender              7043 non-null object\n",
      "SeniorCitizen       7043 non-null int64\n",
      "Partner             7043 non-null object\n",
      "Dependents          7043 non-null object\n",
      "tenure              7043 non-null int64\n",
      "PhoneService        7043 non-null object\n",
      "MultipleLines       7043 non-null object\n",
      "InternetService     7043 non-null object\n",
      "OnlineSecurity      7043 non-null object\n",
      "OnlineBackup        7043 non-null object\n",
      "DeviceProtection    7043 non-null object\n",
      "TechSupport         7043 non-null object\n",
      "StreamingTV         7043 non-null object\n",
      "StreamingMovies     7043 non-null object\n",
      "Contract            7043 non-null object\n",
      "PaperlessBilling    7043 non-null object\n",
      "PaymentMethod       7043 non-null object\n",
      "MonthlyCharges      7043 non-null float64\n",
      "TotalCharges        7032 non-null float64\n",
      "Churn               7043 non-null object\n",
      "dtypes: float64(2), int64(2), object(16)\n",
      "memory usage: 1.1+ MB\n"
     ]
    }
   ],
   "source": [
    "# We need to convert the Total Charges from object type to Numeric\n",
    "df['TotalCharges'] = df['TotalCharges'].replace(r'\\s+', np.nan, regex=True)\n",
    "df['TotalCharges'] = pd.to_numeric(df['TotalCharges'])\n",
    "\n",
    "df.info()"
   ]
  },
  {
   "cell_type": "markdown",
   "metadata": {},
   "source": [
    "**every missing value record comes from customers who has not opted out**"
   ]
  },
  {
   "cell_type": "markdown",
   "metadata": {},
   "source": [
    "** Imputation **"
   ]
  },
  {
   "cell_type": "code",
   "execution_count": 15,
   "metadata": {},
   "outputs": [],
   "source": [
    "df['TotalCharges'] = df['TotalCharges'].fillna((df['TotalCharges'].mean()))"
   ]
  },
  {
   "cell_type": "markdown",
   "metadata": {},
   "source": [
    "** Data formating **"
   ]
  },
  {
   "cell_type": "markdown",
   "metadata": {},
   "source": [
    "# <a id='9'>9. Exploratory Data Analysis </a>"
   ]
  },
  {
   "cell_type": "code",
   "execution_count": 16,
   "metadata": {},
   "outputs": [
    {
     "data": {
      "text/plain": [
       "Index(['gender', 'Partner', 'Dependents', 'PhoneService', 'MultipleLines',\n",
       "       'InternetService', 'OnlineSecurity', 'OnlineBackup', 'DeviceProtection',\n",
       "       'TechSupport', 'StreamingTV', 'StreamingMovies', 'Contract',\n",
       "       'PaperlessBilling', 'PaymentMethod', 'Churn'],\n",
       "      dtype='object')"
      ]
     },
     "execution_count": 16,
     "metadata": {},
     "output_type": "execute_result"
    }
   ],
   "source": [
    "df_categorical = df.select_dtypes(include=object)\n",
    "\n",
    "column_categorical = df_categorical.columns\n",
    "column_categorical"
   ]
  },
  {
   "cell_type": "code",
   "execution_count": 17,
   "metadata": {},
   "outputs": [
    {
     "data": {
      "text/html": [
       "<div>\n",
       "<style scoped>\n",
       "    .dataframe tbody tr th:only-of-type {\n",
       "        vertical-align: middle;\n",
       "    }\n",
       "\n",
       "    .dataframe tbody tr th {\n",
       "        vertical-align: top;\n",
       "    }\n",
       "\n",
       "    .dataframe thead th {\n",
       "        text-align: right;\n",
       "    }\n",
       "</style>\n",
       "<table border=\"1\" class=\"dataframe\">\n",
       "  <thead>\n",
       "    <tr style=\"text-align: right;\">\n",
       "      <th></th>\n",
       "      <th>gender</th>\n",
       "      <th>Partner</th>\n",
       "      <th>Dependents</th>\n",
       "      <th>PhoneService</th>\n",
       "      <th>MultipleLines</th>\n",
       "      <th>InternetService</th>\n",
       "      <th>OnlineSecurity</th>\n",
       "      <th>OnlineBackup</th>\n",
       "      <th>DeviceProtection</th>\n",
       "      <th>TechSupport</th>\n",
       "      <th>StreamingTV</th>\n",
       "      <th>StreamingMovies</th>\n",
       "      <th>Contract</th>\n",
       "      <th>PaperlessBilling</th>\n",
       "      <th>PaymentMethod</th>\n",
       "      <th>Churn</th>\n",
       "    </tr>\n",
       "    <tr>\n",
       "      <th>customerID</th>\n",
       "      <th></th>\n",
       "      <th></th>\n",
       "      <th></th>\n",
       "      <th></th>\n",
       "      <th></th>\n",
       "      <th></th>\n",
       "      <th></th>\n",
       "      <th></th>\n",
       "      <th></th>\n",
       "      <th></th>\n",
       "      <th></th>\n",
       "      <th></th>\n",
       "      <th></th>\n",
       "      <th></th>\n",
       "      <th></th>\n",
       "      <th></th>\n",
       "    </tr>\n",
       "  </thead>\n",
       "  <tbody>\n",
       "    <tr>\n",
       "      <th>7590-VHVEG</th>\n",
       "      <td>Female</td>\n",
       "      <td>Yes</td>\n",
       "      <td>No</td>\n",
       "      <td>No</td>\n",
       "      <td>No phone service</td>\n",
       "      <td>DSL</td>\n",
       "      <td>No</td>\n",
       "      <td>Yes</td>\n",
       "      <td>No</td>\n",
       "      <td>No</td>\n",
       "      <td>No</td>\n",
       "      <td>No</td>\n",
       "      <td>Monthtomonth</td>\n",
       "      <td>Yes</td>\n",
       "      <td>Electronic check</td>\n",
       "      <td>No</td>\n",
       "    </tr>\n",
       "    <tr>\n",
       "      <th>5575-GNVDE</th>\n",
       "      <td>Male</td>\n",
       "      <td>No</td>\n",
       "      <td>No</td>\n",
       "      <td>Yes</td>\n",
       "      <td>No</td>\n",
       "      <td>DSL</td>\n",
       "      <td>Yes</td>\n",
       "      <td>No</td>\n",
       "      <td>Yes</td>\n",
       "      <td>No</td>\n",
       "      <td>No</td>\n",
       "      <td>No</td>\n",
       "      <td>One year</td>\n",
       "      <td>No</td>\n",
       "      <td>Mailed check</td>\n",
       "      <td>No</td>\n",
       "    </tr>\n",
       "    <tr>\n",
       "      <th>3668-QPYBK</th>\n",
       "      <td>Male</td>\n",
       "      <td>No</td>\n",
       "      <td>No</td>\n",
       "      <td>Yes</td>\n",
       "      <td>No</td>\n",
       "      <td>DSL</td>\n",
       "      <td>Yes</td>\n",
       "      <td>Yes</td>\n",
       "      <td>No</td>\n",
       "      <td>No</td>\n",
       "      <td>No</td>\n",
       "      <td>No</td>\n",
       "      <td>Monthtomonth</td>\n",
       "      <td>Yes</td>\n",
       "      <td>Mailed check</td>\n",
       "      <td>Yes</td>\n",
       "    </tr>\n",
       "    <tr>\n",
       "      <th>7795-CFOCW</th>\n",
       "      <td>Male</td>\n",
       "      <td>No</td>\n",
       "      <td>No</td>\n",
       "      <td>No</td>\n",
       "      <td>No phone service</td>\n",
       "      <td>DSL</td>\n",
       "      <td>Yes</td>\n",
       "      <td>No</td>\n",
       "      <td>Yes</td>\n",
       "      <td>Yes</td>\n",
       "      <td>No</td>\n",
       "      <td>No</td>\n",
       "      <td>One year</td>\n",
       "      <td>No</td>\n",
       "      <td>Bank transfer automatic</td>\n",
       "      <td>No</td>\n",
       "    </tr>\n",
       "    <tr>\n",
       "      <th>9237-HQITU</th>\n",
       "      <td>Female</td>\n",
       "      <td>No</td>\n",
       "      <td>No</td>\n",
       "      <td>Yes</td>\n",
       "      <td>No</td>\n",
       "      <td>Fiber optic</td>\n",
       "      <td>No</td>\n",
       "      <td>No</td>\n",
       "      <td>No</td>\n",
       "      <td>No</td>\n",
       "      <td>No</td>\n",
       "      <td>No</td>\n",
       "      <td>Monthtomonth</td>\n",
       "      <td>Yes</td>\n",
       "      <td>Electronic check</td>\n",
       "      <td>Yes</td>\n",
       "    </tr>\n",
       "  </tbody>\n",
       "</table>\n",
       "</div>"
      ],
      "text/plain": [
       "            gender Partner Dependents PhoneService     MultipleLines  \\\n",
       "customerID                                                             \n",
       "7590-VHVEG  Female     Yes         No           No  No phone service   \n",
       "5575-GNVDE    Male      No         No          Yes                No   \n",
       "3668-QPYBK    Male      No         No          Yes                No   \n",
       "7795-CFOCW    Male      No         No           No  No phone service   \n",
       "9237-HQITU  Female      No         No          Yes                No   \n",
       "\n",
       "           InternetService OnlineSecurity OnlineBackup DeviceProtection  \\\n",
       "customerID                                                                \n",
       "7590-VHVEG             DSL             No          Yes               No   \n",
       "5575-GNVDE             DSL            Yes           No              Yes   \n",
       "3668-QPYBK             DSL            Yes          Yes               No   \n",
       "7795-CFOCW             DSL            Yes           No              Yes   \n",
       "9237-HQITU     Fiber optic             No           No               No   \n",
       "\n",
       "           TechSupport StreamingTV StreamingMovies      Contract  \\\n",
       "customerID                                                         \n",
       "7590-VHVEG          No          No              No  Monthtomonth   \n",
       "5575-GNVDE          No          No              No      One year   \n",
       "3668-QPYBK          No          No              No  Monthtomonth   \n",
       "7795-CFOCW         Yes          No              No      One year   \n",
       "9237-HQITU          No          No              No  Monthtomonth   \n",
       "\n",
       "           PaperlessBilling            PaymentMethod Churn  \n",
       "customerID                                                  \n",
       "7590-VHVEG              Yes         Electronic check    No  \n",
       "5575-GNVDE               No             Mailed check    No  \n",
       "3668-QPYBK              Yes             Mailed check   Yes  \n",
       "7795-CFOCW               No  Bank transfer automatic    No  \n",
       "9237-HQITU              Yes         Electronic check   Yes  "
      ]
     },
     "execution_count": 17,
     "metadata": {},
     "output_type": "execute_result"
    }
   ],
   "source": [
    "df_categorical.head()"
   ]
  },
  {
   "cell_type": "code",
   "execution_count": 18,
   "metadata": {},
   "outputs": [],
   "source": [
    "df_numerical = df.select_dtypes(include=np.float)\n",
    "\n",
    "column_numerical = df_numerical.columns"
   ]
  },
  {
   "cell_type": "code",
   "execution_count": 19,
   "metadata": {},
   "outputs": [
    {
     "data": {
      "text/html": [
       "<div>\n",
       "<style scoped>\n",
       "    .dataframe tbody tr th:only-of-type {\n",
       "        vertical-align: middle;\n",
       "    }\n",
       "\n",
       "    .dataframe tbody tr th {\n",
       "        vertical-align: top;\n",
       "    }\n",
       "\n",
       "    .dataframe thead th {\n",
       "        text-align: right;\n",
       "    }\n",
       "</style>\n",
       "<table border=\"1\" class=\"dataframe\">\n",
       "  <thead>\n",
       "    <tr style=\"text-align: right;\">\n",
       "      <th></th>\n",
       "      <th>MonthlyCharges</th>\n",
       "      <th>TotalCharges</th>\n",
       "    </tr>\n",
       "    <tr>\n",
       "      <th>customerID</th>\n",
       "      <th></th>\n",
       "      <th></th>\n",
       "    </tr>\n",
       "  </thead>\n",
       "  <tbody>\n",
       "    <tr>\n",
       "      <th>7590-VHVEG</th>\n",
       "      <td>29.85</td>\n",
       "      <td>2985.0</td>\n",
       "    </tr>\n",
       "    <tr>\n",
       "      <th>5575-GNVDE</th>\n",
       "      <td>56.95</td>\n",
       "      <td>18895.0</td>\n",
       "    </tr>\n",
       "    <tr>\n",
       "      <th>3668-QPYBK</th>\n",
       "      <td>53.85</td>\n",
       "      <td>10815.0</td>\n",
       "    </tr>\n",
       "    <tr>\n",
       "      <th>7795-CFOCW</th>\n",
       "      <td>42.30</td>\n",
       "      <td>184075.0</td>\n",
       "    </tr>\n",
       "    <tr>\n",
       "      <th>9237-HQITU</th>\n",
       "      <td>70.70</td>\n",
       "      <td>15165.0</td>\n",
       "    </tr>\n",
       "  </tbody>\n",
       "</table>\n",
       "</div>"
      ],
      "text/plain": [
       "            MonthlyCharges  TotalCharges\n",
       "customerID                              \n",
       "7590-VHVEG           29.85        2985.0\n",
       "5575-GNVDE           56.95       18895.0\n",
       "3668-QPYBK           53.85       10815.0\n",
       "7795-CFOCW           42.30      184075.0\n",
       "9237-HQITU           70.70       15165.0"
      ]
     },
     "execution_count": 19,
     "metadata": {},
     "output_type": "execute_result"
    }
   ],
   "source": [
    "df_numerical.head()"
   ]
  },
  {
   "cell_type": "markdown",
   "metadata": {},
   "source": [
    "### <a id='9.1'> Univariate Analysis</a>"
   ]
  },
  {
   "cell_type": "code",
   "execution_count": 20,
   "metadata": {},
   "outputs": [],
   "source": [
    "def display_plot(df, col_to_exclude, object_mode = True):\n",
    "    \"\"\" \n",
    "     This function plots the count or distribution of each column in the dataframe based on specified inputs\n",
    "     @Args\n",
    "       df: pandas dataframe\n",
    "       col_to_exclude: specific column to exclude from the plot, used for excluded key \n",
    "       object_mode: whether to plot on object data types or not (default: True)\n",
    "       \n",
    "     Return\n",
    "       No object returned but visualized plot will return based on specified inputs\n",
    "    \"\"\"\n",
    "    n = 0\n",
    "    this = []\n",
    "    \n",
    "    if object_mode:\n",
    "        nrows = 4\n",
    "        ncols = 4\n",
    "        width = 20\n",
    "        height = 20\n",
    "    \n",
    "    else:\n",
    "        nrows = 2\n",
    "        ncols = 2\n",
    "        width = 14\n",
    "        height = 10\n",
    "    \n",
    "    \n",
    "    for column in df.columns:\n",
    "        if object_mode:\n",
    "            if (df[column].dtypes == 'O') & (column != col_to_exclude):\n",
    "                this.append(column)\n",
    "                \n",
    "                \n",
    "        else:\n",
    "            if (df[column].dtypes != 'O'):\n",
    "                this.append(column)\n",
    "     \n",
    "    \n",
    "    fig, ax = plt.subplots(nrows, ncols, sharex=False, sharey=False, figsize=(width, height))\n",
    "    for row in range(nrows):\n",
    "        for col in range(ncols):\n",
    "            if object_mode:\n",
    "                g = sns.countplot(df[this[n]], ax=ax[row][col]) \n",
    "            else:\n",
    "                g = sns.distplot(df[this[n]], ax = ax[row][col])\n",
    "\n",
    "\n",
    "            \n",
    "            ax[row,col].set_title(\"Column name: {}\".format(this[n]))\n",
    "            ax[row, col].set_xlabel(\"\")\n",
    "            ax[row, col].set_ylabel(\"\")\n",
    "            n += 1\n",
    "    plt.show();\n",
    "    return None\n"
   ]
  },
  {
   "cell_type": "code",
   "execution_count": 21,
   "metadata": {},
   "outputs": [
    {
     "data": {
      "image/png": "[encoded data removed]",
      "text/plain": [
       "<Figure size 1440x1440 with 16 Axes>"
      ]
     },
     "metadata": {
      "needs_background": "light"
     },
     "output_type": "display_data"
    }
   ],
   "source": [
    "display_plot(df, 'customerid', object_mode = True)"
   ]
  },
  {
   "cell_type": "code",
   "execution_count": 22,
   "metadata": {},
   "outputs": [
    {
     "name": "stderr",
     "output_type": "stream",
     "text": [
      "/Library/Frameworks/Python.framework/Versions/3.5/lib/python3.5/site-packages/scipy/stats/stats.py:1713: FutureWarning: Using a non-tuple sequence for multidimensional indexing is deprecated; use `arr[tuple(seq)]` instead of `arr[seq]`. In the future this will be interpreted as an array index, `arr[np.array(seq)]`, which will result either in an error or a different result.\n",
      "  return np.add.reduce(sorted[indexer] * weights, axis=axis) / sumval\n"
     ]
    },
    {
     "data": {
      "image/png": "[encoded data removed]",
      "text/plain": [
       "<Figure size 1008x720 with 4 Axes>"
      ]
     },
     "metadata": {
      "needs_background": "light"
     },
     "output_type": "display_data"
    }
   ],
   "source": [
    "display_plot(df, 'customerid', object_mode = False)"
   ]
  },
  {
   "cell_type": "markdown",
   "metadata": {},
   "source": [
    "###  feature Engineering "
   ]
  },
  {
   "cell_type": "markdown",
   "metadata": {},
   "source": [
    "Based on the value of the services the subscribers subscribed to, there are **yes**, **no**, and **no phone / internet service**. These are somewhat related to primary products. Examples are illustrated through *panda crosstab* function below:\n",
    "\n",
    "1. **Phone service (Primary) and Multiple lines (Secondary)**\n",
    " \n",
    " - If the subscribers have phone service, they may have multiple lines (yes or no). \n",
    " - But if the subscribers don't have phone service, the subscribers will never have multiple lines.\n",
    " "
   ]
  },
  {
   "cell_type": "code",
   "execution_count": 23,
   "metadata": {},
   "outputs": [
    {
     "data": {
      "text/html": [
       "<div>\n",
       "<style scoped>\n",
       "    .dataframe tbody tr th:only-of-type {\n",
       "        vertical-align: middle;\n",
       "    }\n",
       "\n",
       "    .dataframe tbody tr th {\n",
       "        vertical-align: top;\n",
       "    }\n",
       "\n",
       "    .dataframe thead th {\n",
       "        text-align: right;\n",
       "    }\n",
       "</style>\n",
       "<table border=\"1\" class=\"dataframe\">\n",
       "  <thead>\n",
       "    <tr style=\"text-align: right;\">\n",
       "      <th>MultipleLines</th>\n",
       "      <th>No</th>\n",
       "      <th>No phone service</th>\n",
       "      <th>Yes</th>\n",
       "    </tr>\n",
       "    <tr>\n",
       "      <th>PhoneService</th>\n",
       "      <th></th>\n",
       "      <th></th>\n",
       "      <th></th>\n",
       "    </tr>\n",
       "  </thead>\n",
       "  <tbody>\n",
       "    <tr>\n",
       "      <th>No</th>\n",
       "      <td>0</td>\n",
       "      <td>682</td>\n",
       "      <td>0</td>\n",
       "    </tr>\n",
       "    <tr>\n",
       "      <th>Yes</th>\n",
       "      <td>3390</td>\n",
       "      <td>0</td>\n",
       "      <td>2971</td>\n",
       "    </tr>\n",
       "  </tbody>\n",
       "</table>\n",
       "</div>"
      ],
      "text/plain": [
       "MultipleLines    No  No phone service   Yes\n",
       "PhoneService                               \n",
       "No                0               682     0\n",
       "Yes            3390                 0  2971"
      ]
     },
     "execution_count": 23,
     "metadata": {},
     "output_type": "execute_result"
    }
   ],
   "source": [
    "pd.crosstab(index = df[\"PhoneService\"], columns = df[\"MultipleLines\"])"
   ]
  },
  {
   "cell_type": "markdown",
   "metadata": {},
   "source": [
    "2. **Internet Service (Primary) and other services, let's say streaming TV (secondary)**\n",
    "\n",
    " - If the subscribers have Internet services (either DSL or Fiber optic), the subscribers may opt to have other services related to Internet (i.e. streaming TV, device protection).\n",
    " - But if the subscribers don't have the Internet services, this secondary service will not be available for the subscribers.\n",
    " "
   ]
  },
  {
   "cell_type": "code",
   "execution_count": 24,
   "metadata": {},
   "outputs": [
    {
     "data": {
      "text/html": [
       "<div>\n",
       "<style scoped>\n",
       "    .dataframe tbody tr th:only-of-type {\n",
       "        vertical-align: middle;\n",
       "    }\n",
       "\n",
       "    .dataframe tbody tr th {\n",
       "        vertical-align: top;\n",
       "    }\n",
       "\n",
       "    .dataframe thead th {\n",
       "        text-align: right;\n",
       "    }\n",
       "</style>\n",
       "<table border=\"1\" class=\"dataframe\">\n",
       "  <thead>\n",
       "    <tr style=\"text-align: right;\">\n",
       "      <th>StreamingTV</th>\n",
       "      <th>No</th>\n",
       "      <th>No internet service</th>\n",
       "      <th>Yes</th>\n",
       "    </tr>\n",
       "    <tr>\n",
       "      <th>InternetService</th>\n",
       "      <th></th>\n",
       "      <th></th>\n",
       "      <th></th>\n",
       "    </tr>\n",
       "  </thead>\n",
       "  <tbody>\n",
       "    <tr>\n",
       "      <th>DSL</th>\n",
       "      <td>1464</td>\n",
       "      <td>0</td>\n",
       "      <td>957</td>\n",
       "    </tr>\n",
       "    <tr>\n",
       "      <th>Fiber optic</th>\n",
       "      <td>1346</td>\n",
       "      <td>0</td>\n",
       "      <td>1750</td>\n",
       "    </tr>\n",
       "    <tr>\n",
       "      <th>No</th>\n",
       "      <td>0</td>\n",
       "      <td>1526</td>\n",
       "      <td>0</td>\n",
       "    </tr>\n",
       "  </tbody>\n",
       "</table>\n",
       "</div>"
      ],
      "text/plain": [
       "StreamingTV        No  No internet service   Yes\n",
       "InternetService                                 \n",
       "DSL              1464                    0   957\n",
       "Fiber optic      1346                    0  1750\n",
       "No                  0                 1526     0"
      ]
     },
     "execution_count": 24,
     "metadata": {},
     "output_type": "execute_result"
    }
   ],
   "source": [
    "pd.crosstab(index = df[\"InternetService\"], columns = df[\"StreamingTV\"])"
   ]
  },
  {
   "cell_type": "markdown",
   "metadata": {},
   "source": [
    "\n",
    "With this conclusion, I opt to transform the feature value of **No Phone / Internet service** to be the same **No** because it can be used another features (hence, **phone service** and **internet service** column) to explain."
   ]
  },
  {
   "cell_type": "code",
   "execution_count": 25,
   "metadata": {},
   "outputs": [],
   "source": [
    "def convert_no_service (df):\n",
    "    col_to_transform = []\n",
    "    for col in df.columns:\n",
    "        if (df[col].dtype == 'O') & (col != 'customerid'):\n",
    "            if len(df[df[col].str.contains(\"No\")][col].unique()) > 1:\n",
    "                col_to_transform.append(col)\n",
    "    \n",
    "    print(\"Total column(s) to transform: {}\".format(col_to_transform))\n",
    "    for col in col_to_transform:\n",
    "        df.loc[df[col].str.contains(\"No\"), col] = 'No'\n",
    "        \n",
    "    return df"
   ]
  },
  {
   "cell_type": "code",
   "execution_count": 26,
   "metadata": {},
   "outputs": [
    {
     "name": "stdout",
     "output_type": "stream",
     "text": [
      "Total column(s) to transform: ['MultipleLines', 'OnlineSecurity', 'OnlineBackup', 'DeviceProtection', 'TechSupport', 'StreamingTV', 'StreamingMovies']\n"
     ]
    }
   ],
   "source": [
    "df = convert_no_service(df)"
   ]
  },
  {
   "cell_type": "code",
   "execution_count": 27,
   "metadata": {},
   "outputs": [
    {
     "data": {
      "image/png": "[encoded data removed]",
      "text/plain": [
       "<Figure size 1440x1440 with 16 Axes>"
      ]
     },
     "metadata": {
      "needs_background": "light"
     },
     "output_type": "display_data"
    }
   ],
   "source": [
    "# Let's see the data after transformation.\n",
    "\n",
    "display_plot(df, 'customerid', object_mode = True)"
   ]
  },
  {
   "cell_type": "code",
   "execution_count": 28,
   "metadata": {},
   "outputs": [
    {
     "name": "stdout",
     "output_type": "stream",
     "text": [
      "Churn     No   Yes   All\n",
      "gender                  \n",
      "Female  2549   939  3488\n",
      "Male    2625   930  3555\n",
      "All     5174  1869  7043\n",
      "Percent of Females that Left the Company 50.24077046548957\n",
      "Percent of Males that Left the Company 49.75922953451043\n"
     ]
    },
    {
     "data": {
      "image/png": "[encoded data removed]",
      "text/plain": [
       "<Figure size 504x360 with 1 Axes>"
      ]
     },
     "metadata": {
      "needs_background": "light"
     },
     "output_type": "display_data"
    }
   ],
   "source": [
    "# Now Let's Start Comparing.\n",
    "# Gender Vs Churn\n",
    "print(pd.crosstab(df.gender,df.Churn,margins=True))\n",
    "pd.crosstab(df.gender,df.Churn,margins=True).plot(kind='bar',figsize=(7,5));\n",
    "\n",
    "print('Percent of Females that Left the Company {0}'.format((939/1869)*100))\n",
    "print('Percent of Males that Left the Company {0}'.format((930/1869)*100))     "
   ]
  },
  {
   "cell_type": "markdown",
   "metadata": {},
   "source": [
    "**We can See that Gender Does'nt Play an important Role in Predicting Our Target Variable.**"
   ]
  },
  {
   "cell_type": "code",
   "execution_count": 29,
   "metadata": {},
   "outputs": [
    {
     "name": "stdout",
     "output_type": "stream",
     "text": [
      "Churn           No   Yes   All\n",
      "Contract                      \n",
      "Monthtomonth  2220  1655  3875\n",
      "One year      1307   166  1473\n",
      "Two year      1647    48  1695\n",
      "All           5174  1869  7043\n",
      "Percent of Month-to-Month Contract People that Left the Company 88.55002675227395\n",
      "Percent of One-Year Contract People that Left the Company 8.881754949170679\n",
      "Percent of Two-Year Contract People that Left the Company 2.568218298555377\n"
     ]
    },
    {
     "data": {
      "image/png": "[encoded data removed]",
      "text/plain": [
       "<Figure size 504x360 with 1 Axes>"
      ]
     },
     "metadata": {
      "needs_background": "light"
     },
     "output_type": "display_data"
    }
   ],
   "source": [
    "# Contract Vs Churn\n",
    "print(pd.crosstab(df.Contract,df.Churn,margins=True))\n",
    "pd.crosstab(df.Contract,df.Churn,margins=True).plot(kind='bar',figsize=(7,5));\n",
    "\n",
    "print('Percent of Month-to-Month Contract People that Left the Company {0}'.format((1655/1869)*100))\n",
    "print('Percent of One-Year Contract People that Left the Company {0}'.format((166/1869)*100)) \n",
    "print('Percent of Two-Year Contract People that Left the Company {0}'.format((48/1869)*100))     "
   ]
  },
  {
   "cell_type": "markdown",
   "metadata": {},
   "source": [
    "**Most of the People that Left were the Ones who had Month-to-Month  Contract.**"
   ]
  },
  {
   "cell_type": "code",
   "execution_count": 30,
   "metadata": {},
   "outputs": [
    {
     "name": "stdout",
     "output_type": "stream",
     "text": [
      "Churn              No   Yes   All\n",
      "InternetService                  \n",
      "DSL              1962   459  2421\n",
      "Fiber optic      1799  1297  3096\n",
      "No               1413   113  1526\n",
      "All              5174  1869  7043\n",
      "Percent of DSL Internet-Service People that Left the Company 24.558587479935795\n",
      "Percent of Fiber Optic Internet-Service People that Left the Company 69.39539860888175\n",
      "Percent of No Internet-Service People that Left the Company 6.046013911182451\n"
     ]
    },
    {
     "data": {
      "image/png": "[encoded data removed]",
      "text/plain": [
       "<Figure size 504x360 with 1 Axes>"
      ]
     },
     "metadata": {
      "needs_background": "light"
     },
     "output_type": "display_data"
    }
   ],
   "source": [
    "# Internet Service Vs Churn\n",
    "print(pd.crosstab(df.InternetService,df.Churn,margins=True))\n",
    "pd.crosstab(df.InternetService,df.Churn,margins=True).plot(kind='bar',figsize=(7,5));\n",
    "\n",
    "print('Percent of DSL Internet-Service People that Left the Company {0}'.format((459/1869)*100))\n",
    "print('Percent of Fiber Optic Internet-Service People that Left the Company {0}'.format((1297/1869)*100)) \n",
    "print('Percent of No Internet-Service People that Left the Company {0}'.format((113/1869)*100))     "
   ]
  },
  {
   "cell_type": "markdown",
   "metadata": {},
   "source": [
    "**Most of the people That Left had Fiber Optic Internet-Service.**"
   ]
  },
  {
   "cell_type": "code",
   "execution_count": 31,
   "metadata": {},
   "outputs": [
    {
     "name": "stdout",
     "output_type": "stream",
     "text": [
      "Dependents    No   Yes   All\n",
      "Partner                     \n",
      "No          3280   361  3641\n",
      "Yes         1653  1749  3402\n",
      "All         4933  2110  7043\n",
      "Percent of Partner that had Dependents 82.8909952606635\n",
      "Percent of Non-Partner that had Dependents 17.10900473933649\n"
     ]
    },
    {
     "data": {
      "image/png": "[encoded data removed]",
      "text/plain": [
       "<Figure size 360x360 with 1 Axes>"
      ]
     },
     "metadata": {
      "needs_background": "light"
     },
     "output_type": "display_data"
    }
   ],
   "source": [
    "# Partner Vs Dependents\n",
    "print(pd.crosstab(df.Partner,df.Dependents,margins=True))\n",
    "pd.crosstab(df.Partner,df.Dependents,margins=True).plot(kind='bar',figsize=(5,5));\n",
    "\n",
    "print('Percent of Partner that had Dependents {0}'.format((1749/2110)*100))\n",
    "print('Percent of Non-Partner that had Dependents {0}'.format((361/2110)*100))     "
   ]
  },
  {
   "cell_type": "markdown",
   "metadata": {},
   "source": [
    "**We can See Partners had a much larger percent of Dependents than Non-Partner this tells us that Most Partners might be Married.**"
   ]
  },
  {
   "cell_type": "code",
   "execution_count": 32,
   "metadata": {},
   "outputs": [
    {
     "name": "stdout",
     "output_type": "stream",
     "text": [
      "Churn      No   Yes   All\n",
      "Partner                  \n",
      "No       2441  1200  3641\n",
      "Yes      2733   669  3402\n",
      "All      5174  1869  7043\n"
     ]
    },
    {
     "data": {
      "image/png": "[encoded data removed]",
      "text/plain": [
       "<Figure size 360x360 with 1 Axes>"
      ]
     },
     "metadata": {
      "needs_background": "light"
     },
     "output_type": "display_data"
    }
   ],
   "source": [
    "# Partner Vs Churn\n",
    "print(pd.crosstab(df.Partner,df.Churn,margins=True))\n",
    "pd.crosstab(df.Partner,df.Churn,margins=True).plot(kind='bar',figsize=(5,5));"
   ]
  },
  {
   "cell_type": "code",
   "execution_count": 33,
   "metadata": {},
   "outputs": [
    {
     "data": {
      "image/png": "[encoded data removed]",
      "text/plain": [
       "<Figure size 1224x576 with 1 Axes>"
      ]
     },
     "metadata": {
      "needs_background": "light"
     },
     "output_type": "display_data"
    }
   ],
   "source": [
    "plt.figure(figsize=(17,8))\n",
    "sns.countplot(x=df['tenure'],hue=df.Partner);"
   ]
  },
  {
   "cell_type": "markdown",
   "metadata": {},
   "source": [
    "**Most of the People that Were Partner will Stay Longer with The Company. So Being a Partner is a Plus-Point For the Company as they will Stay Longer with Them.**"
   ]
  },
  {
   "cell_type": "code",
   "execution_count": 34,
   "metadata": {},
   "outputs": [
    {
     "name": "stdout",
     "output_type": "stream",
     "text": [
      "Churn      No   Yes   All\n",
      "Partner                  \n",
      "No       2441  1200  3641\n",
      "Yes      2733   669  3402\n",
      "All      5174  1869  7043\n"
     ]
    },
    {
     "data": {
      "image/png": "[encoded data removed]",
      "text/plain": [
       "<Figure size 432x288 with 1 Axes>"
      ]
     },
     "metadata": {
      "needs_background": "light"
     },
     "output_type": "display_data"
    }
   ],
   "source": [
    "# Partner Vs Churn\n",
    "print(pd.crosstab(df.Partner,df.Churn,margins=True))\n",
    "pd.crosstab(df.Partner,df.Churn,normalize=True).plot(kind='bar');"
   ]
  },
  {
   "cell_type": "code",
   "execution_count": 35,
   "metadata": {},
   "outputs": [
    {
     "name": "stdout",
     "output_type": "stream",
     "text": [
      "Churn            No   Yes   All\n",
      "SeniorCitizen                  \n",
      "0              4508  1393  5901\n",
      "1               666   476  1142\n",
      "All            5174  1869  7043\n"
     ]
    },
    {
     "data": {
      "image/png": "[encoded data removed]",
      "text/plain": [
       "<Figure size 432x288 with 1 Axes>"
      ]
     },
     "metadata": {
      "needs_background": "light"
     },
     "output_type": "display_data"
    }
   ],
   "source": [
    "# Senior Citizen Vs Churn\n",
    "print(pd.crosstab(df.SeniorCitizen,df.Churn,margins=True))\n",
    "pd.crosstab(df.SeniorCitizen,df.Churn,normalize=True).plot(kind='bar');"
   ]
  },
  {
   "cell_type": "markdown",
   "metadata": {},
   "source": [
    "**Let's Check for Outliers in Monthly Charges And Total Charges Using Box Plots**"
   ]
  },
  {
   "cell_type": "code",
   "execution_count": 36,
   "metadata": {
    "scrolled": true
   },
   "outputs": [
    {
     "data": {
      "image/png": "[encoded data removed]",
      "text/plain": [
       "<Figure size 432x288 with 1 Axes>"
      ]
     },
     "metadata": {
      "needs_background": "light"
     },
     "output_type": "display_data"
    }
   ],
   "source": [
    "df.boxplot('MonthlyCharges');"
   ]
  },
  {
   "cell_type": "markdown",
   "metadata": {},
   "source": [
    "**Monthly Charges don't have any Outliers so we don't have to Get into Extracting Information from Outliers.**"
   ]
  },
  {
   "cell_type": "code",
   "execution_count": 37,
   "metadata": {},
   "outputs": [
    {
     "data": {
      "image/png": "[encoded data removed]",
      "text/plain": [
       "<Figure size 432x288 with 2 Axes>"
      ]
     },
     "metadata": {
      "needs_background": "light"
     },
     "output_type": "display_data"
    }
   ],
   "source": [
    "## correlation matrix \n",
    "\n",
    "# Let's Check the Correaltion Matrix in Seaborn\n",
    "sns.heatmap(df.corr(),xticklabels=df.corr().columns.values,yticklabels=df.corr().columns.values,annot=True);"
   ]
  },
  {
   "cell_type": "markdown",
   "metadata": {},
   "source": [
    "**Here We can See Tenure and Total Charges are correlated and also Monthly charges and Total Charges are also correlated with each other.**"
   ]
  },
  {
   "cell_type": "markdown",
   "metadata": {},
   "source": [
    "**we can assume from our domain expertise that , Total Charges ~ Monthly Charges * Tenure + Additional Charges(Tax).**"
   ]
  },
  {
   "cell_type": "markdown",
   "metadata": {},
   "source": [
    "## <a id='9.4'> Bucketing </a>"
   ]
  },
  {
   "cell_type": "code",
   "execution_count": 38,
   "metadata": {},
   "outputs": [],
   "source": [
    "#Tenure to categorical column\n",
    "def tenure_lab(telcom) :\n",
    "#     print(telcom)\n",
    "#     print('-'*80)\n",
    "    \n",
    "    if telcom[\"tenure\"] <= 12 :\n",
    "        return \"Tenure_0-12\"\n",
    "    elif (telcom[\"tenure\"] > 12) & (telcom[\"tenure\"] <= 24 ):\n",
    "        return \"Tenure_12-24\"\n",
    "    elif (telcom[\"tenure\"] > 24) & (telcom[\"tenure\"] <= 48) :\n",
    "        return \"Tenure_24-48\"\n",
    "    elif (telcom[\"tenure\"] > 48) & (telcom[\"tenure\"] <= 60) :\n",
    "        return \"Tenure_48-60\"\n",
    "    elif telcom[\"tenure\"] > 60 :\n",
    "        return \"Tenure_gt_60\"\n",
    "    \n",
    "    \n",
    "df[\"tenure_group\"] = df.apply(lambda x:tenure_lab(x),axis = 1)"
   ]
  },
  {
   "cell_type": "code",
   "execution_count": 39,
   "metadata": {},
   "outputs": [
    {
     "data": {
      "text/html": [
       "<div>\n",
       "<style scoped>\n",
       "    .dataframe tbody tr th:only-of-type {\n",
       "        vertical-align: middle;\n",
       "    }\n",
       "\n",
       "    .dataframe tbody tr th {\n",
       "        vertical-align: top;\n",
       "    }\n",
       "\n",
       "    .dataframe thead th {\n",
       "        text-align: right;\n",
       "    }\n",
       "</style>\n",
       "<table border=\"1\" class=\"dataframe\">\n",
       "  <thead>\n",
       "    <tr style=\"text-align: right;\">\n",
       "      <th></th>\n",
       "      <th>gender</th>\n",
       "      <th>SeniorCitizen</th>\n",
       "      <th>Partner</th>\n",
       "      <th>Dependents</th>\n",
       "      <th>tenure</th>\n",
       "      <th>PhoneService</th>\n",
       "      <th>MultipleLines</th>\n",
       "      <th>InternetService</th>\n",
       "      <th>OnlineSecurity</th>\n",
       "      <th>OnlineBackup</th>\n",
       "      <th>...</th>\n",
       "      <th>TechSupport</th>\n",
       "      <th>StreamingTV</th>\n",
       "      <th>StreamingMovies</th>\n",
       "      <th>Contract</th>\n",
       "      <th>PaperlessBilling</th>\n",
       "      <th>PaymentMethod</th>\n",
       "      <th>MonthlyCharges</th>\n",
       "      <th>TotalCharges</th>\n",
       "      <th>Churn</th>\n",
       "      <th>tenure_group</th>\n",
       "    </tr>\n",
       "    <tr>\n",
       "      <th>customerID</th>\n",
       "      <th></th>\n",
       "      <th></th>\n",
       "      <th></th>\n",
       "      <th></th>\n",
       "      <th></th>\n",
       "      <th></th>\n",
       "      <th></th>\n",
       "      <th></th>\n",
       "      <th></th>\n",
       "      <th></th>\n",
       "      <th></th>\n",
       "      <th></th>\n",
       "      <th></th>\n",
       "      <th></th>\n",
       "      <th></th>\n",
       "      <th></th>\n",
       "      <th></th>\n",
       "      <th></th>\n",
       "      <th></th>\n",
       "      <th></th>\n",
       "      <th></th>\n",
       "    </tr>\n",
       "  </thead>\n",
       "  <tbody>\n",
       "    <tr>\n",
       "      <th>7590-VHVEG</th>\n",
       "      <td>Female</td>\n",
       "      <td>0</td>\n",
       "      <td>Yes</td>\n",
       "      <td>No</td>\n",
       "      <td>1</td>\n",
       "      <td>No</td>\n",
       "      <td>No</td>\n",
       "      <td>DSL</td>\n",
       "      <td>No</td>\n",
       "      <td>Yes</td>\n",
       "      <td>...</td>\n",
       "      <td>No</td>\n",
       "      <td>No</td>\n",
       "      <td>No</td>\n",
       "      <td>Monthtomonth</td>\n",
       "      <td>Yes</td>\n",
       "      <td>Electronic check</td>\n",
       "      <td>29.85</td>\n",
       "      <td>2985.0</td>\n",
       "      <td>No</td>\n",
       "      <td>Tenure_0-12</td>\n",
       "    </tr>\n",
       "    <tr>\n",
       "      <th>5575-GNVDE</th>\n",
       "      <td>Male</td>\n",
       "      <td>0</td>\n",
       "      <td>No</td>\n",
       "      <td>No</td>\n",
       "      <td>34</td>\n",
       "      <td>Yes</td>\n",
       "      <td>No</td>\n",
       "      <td>DSL</td>\n",
       "      <td>Yes</td>\n",
       "      <td>No</td>\n",
       "      <td>...</td>\n",
       "      <td>No</td>\n",
       "      <td>No</td>\n",
       "      <td>No</td>\n",
       "      <td>One year</td>\n",
       "      <td>No</td>\n",
       "      <td>Mailed check</td>\n",
       "      <td>56.95</td>\n",
       "      <td>18895.0</td>\n",
       "      <td>No</td>\n",
       "      <td>Tenure_24-48</td>\n",
       "    </tr>\n",
       "    <tr>\n",
       "      <th>3668-QPYBK</th>\n",
       "      <td>Male</td>\n",
       "      <td>0</td>\n",
       "      <td>No</td>\n",
       "      <td>No</td>\n",
       "      <td>2</td>\n",
       "      <td>Yes</td>\n",
       "      <td>No</td>\n",
       "      <td>DSL</td>\n",
       "      <td>Yes</td>\n",
       "      <td>Yes</td>\n",
       "      <td>...</td>\n",
       "      <td>No</td>\n",
       "      <td>No</td>\n",
       "      <td>No</td>\n",
       "      <td>Monthtomonth</td>\n",
       "      <td>Yes</td>\n",
       "      <td>Mailed check</td>\n",
       "      <td>53.85</td>\n",
       "      <td>10815.0</td>\n",
       "      <td>Yes</td>\n",
       "      <td>Tenure_0-12</td>\n",
       "    </tr>\n",
       "    <tr>\n",
       "      <th>7795-CFOCW</th>\n",
       "      <td>Male</td>\n",
       "      <td>0</td>\n",
       "      <td>No</td>\n",
       "      <td>No</td>\n",
       "      <td>45</td>\n",
       "      <td>No</td>\n",
       "      <td>No</td>\n",
       "      <td>DSL</td>\n",
       "      <td>Yes</td>\n",
       "      <td>No</td>\n",
       "      <td>...</td>\n",
       "      <td>Yes</td>\n",
       "      <td>No</td>\n",
       "      <td>No</td>\n",
       "      <td>One year</td>\n",
       "      <td>No</td>\n",
       "      <td>Bank transfer automatic</td>\n",
       "      <td>42.30</td>\n",
       "      <td>184075.0</td>\n",
       "      <td>No</td>\n",
       "      <td>Tenure_24-48</td>\n",
       "    </tr>\n",
       "    <tr>\n",
       "      <th>9237-HQITU</th>\n",
       "      <td>Female</td>\n",
       "      <td>0</td>\n",
       "      <td>No</td>\n",
       "      <td>No</td>\n",
       "      <td>2</td>\n",
       "      <td>Yes</td>\n",
       "      <td>No</td>\n",
       "      <td>Fiber optic</td>\n",
       "      <td>No</td>\n",
       "      <td>No</td>\n",
       "      <td>...</td>\n",
       "      <td>No</td>\n",
       "      <td>No</td>\n",
       "      <td>No</td>\n",
       "      <td>Monthtomonth</td>\n",
       "      <td>Yes</td>\n",
       "      <td>Electronic check</td>\n",
       "      <td>70.70</td>\n",
       "      <td>15165.0</td>\n",
       "      <td>Yes</td>\n",
       "      <td>Tenure_0-12</td>\n",
       "    </tr>\n",
       "  </tbody>\n",
       "</table>\n",
       "<p>5 rows × 21 columns</p>\n",
       "</div>"
      ],
      "text/plain": [
       "            gender  SeniorCitizen Partner Dependents  tenure PhoneService  \\\n",
       "customerID                                                                  \n",
       "7590-VHVEG  Female              0     Yes         No       1           No   \n",
       "5575-GNVDE    Male              0      No         No      34          Yes   \n",
       "3668-QPYBK    Male              0      No         No       2          Yes   \n",
       "7795-CFOCW    Male              0      No         No      45           No   \n",
       "9237-HQITU  Female              0      No         No       2          Yes   \n",
       "\n",
       "           MultipleLines InternetService OnlineSecurity OnlineBackup  \\\n",
       "customerID                                                             \n",
       "7590-VHVEG            No             DSL             No          Yes   \n",
       "5575-GNVDE            No             DSL            Yes           No   \n",
       "3668-QPYBK            No             DSL            Yes          Yes   \n",
       "7795-CFOCW            No             DSL            Yes           No   \n",
       "9237-HQITU            No     Fiber optic             No           No   \n",
       "\n",
       "                ...      TechSupport StreamingTV StreamingMovies  \\\n",
       "customerID      ...                                                \n",
       "7590-VHVEG      ...               No          No              No   \n",
       "5575-GNVDE      ...               No          No              No   \n",
       "3668-QPYBK      ...               No          No              No   \n",
       "7795-CFOCW      ...              Yes          No              No   \n",
       "9237-HQITU      ...               No          No              No   \n",
       "\n",
       "                Contract PaperlessBilling            PaymentMethod  \\\n",
       "customerID                                                           \n",
       "7590-VHVEG  Monthtomonth              Yes         Electronic check   \n",
       "5575-GNVDE      One year               No             Mailed check   \n",
       "3668-QPYBK  Monthtomonth              Yes             Mailed check   \n",
       "7795-CFOCW      One year               No  Bank transfer automatic   \n",
       "9237-HQITU  Monthtomonth              Yes         Electronic check   \n",
       "\n",
       "           MonthlyCharges  TotalCharges  Churn  tenure_group  \n",
       "customerID                                                    \n",
       "7590-VHVEG          29.85        2985.0     No   Tenure_0-12  \n",
       "5575-GNVDE          56.95       18895.0     No  Tenure_24-48  \n",
       "3668-QPYBK          53.85       10815.0    Yes   Tenure_0-12  \n",
       "7795-CFOCW          42.30      184075.0     No  Tenure_24-48  \n",
       "9237-HQITU          70.70       15165.0    Yes   Tenure_0-12  \n",
       "\n",
       "[5 rows x 21 columns]"
      ]
     },
     "execution_count": 39,
     "metadata": {},
     "output_type": "execute_result"
    }
   ],
   "source": [
    "df.head()"
   ]
  },
  {
   "cell_type": "markdown",
   "metadata": {},
   "source": [
    "# <a id='10'>10. Data preprocessing </a>"
   ]
  },
  {
   "cell_type": "markdown",
   "metadata": {},
   "source": [
    "## <a id='10.1'> Encoding categorical variable </a>"
   ]
  },
  {
   "cell_type": "code",
   "execution_count": 40,
   "metadata": {},
   "outputs": [],
   "source": [
    "#replace values\n",
    "df[\"SeniorCitizen\"] = df[\"SeniorCitizen\"].replace({1:\"Yes\",0:\"No\"})"
   ]
  },
  {
   "cell_type": "code",
   "execution_count": 41,
   "metadata": {},
   "outputs": [
    {
     "data": {
      "text/html": [
       "<div>\n",
       "<style scoped>\n",
       "    .dataframe tbody tr th:only-of-type {\n",
       "        vertical-align: middle;\n",
       "    }\n",
       "\n",
       "    .dataframe tbody tr th {\n",
       "        vertical-align: top;\n",
       "    }\n",
       "\n",
       "    .dataframe thead th {\n",
       "        text-align: right;\n",
       "    }\n",
       "</style>\n",
       "<table border=\"1\" class=\"dataframe\">\n",
       "  <thead>\n",
       "    <tr style=\"text-align: right;\">\n",
       "      <th></th>\n",
       "      <th>gender</th>\n",
       "      <th>SeniorCitizen</th>\n",
       "      <th>Partner</th>\n",
       "      <th>Dependents</th>\n",
       "      <th>tenure</th>\n",
       "      <th>PhoneService</th>\n",
       "      <th>MultipleLines</th>\n",
       "      <th>InternetService</th>\n",
       "      <th>OnlineSecurity</th>\n",
       "      <th>OnlineBackup</th>\n",
       "      <th>...</th>\n",
       "      <th>TechSupport</th>\n",
       "      <th>StreamingTV</th>\n",
       "      <th>StreamingMovies</th>\n",
       "      <th>Contract</th>\n",
       "      <th>PaperlessBilling</th>\n",
       "      <th>PaymentMethod</th>\n",
       "      <th>MonthlyCharges</th>\n",
       "      <th>TotalCharges</th>\n",
       "      <th>Churn</th>\n",
       "      <th>tenure_group</th>\n",
       "    </tr>\n",
       "    <tr>\n",
       "      <th>customerID</th>\n",
       "      <th></th>\n",
       "      <th></th>\n",
       "      <th></th>\n",
       "      <th></th>\n",
       "      <th></th>\n",
       "      <th></th>\n",
       "      <th></th>\n",
       "      <th></th>\n",
       "      <th></th>\n",
       "      <th></th>\n",
       "      <th></th>\n",
       "      <th></th>\n",
       "      <th></th>\n",
       "      <th></th>\n",
       "      <th></th>\n",
       "      <th></th>\n",
       "      <th></th>\n",
       "      <th></th>\n",
       "      <th></th>\n",
       "      <th></th>\n",
       "      <th></th>\n",
       "    </tr>\n",
       "  </thead>\n",
       "  <tbody>\n",
       "    <tr>\n",
       "      <th>7590-VHVEG</th>\n",
       "      <td>Female</td>\n",
       "      <td>No</td>\n",
       "      <td>Yes</td>\n",
       "      <td>No</td>\n",
       "      <td>1</td>\n",
       "      <td>No</td>\n",
       "      <td>No</td>\n",
       "      <td>DSL</td>\n",
       "      <td>No</td>\n",
       "      <td>Yes</td>\n",
       "      <td>...</td>\n",
       "      <td>No</td>\n",
       "      <td>No</td>\n",
       "      <td>No</td>\n",
       "      <td>Monthtomonth</td>\n",
       "      <td>Yes</td>\n",
       "      <td>Electronic check</td>\n",
       "      <td>29.85</td>\n",
       "      <td>2985.0</td>\n",
       "      <td>No</td>\n",
       "      <td>Tenure_0-12</td>\n",
       "    </tr>\n",
       "    <tr>\n",
       "      <th>5575-GNVDE</th>\n",
       "      <td>Male</td>\n",
       "      <td>No</td>\n",
       "      <td>No</td>\n",
       "      <td>No</td>\n",
       "      <td>34</td>\n",
       "      <td>Yes</td>\n",
       "      <td>No</td>\n",
       "      <td>DSL</td>\n",
       "      <td>Yes</td>\n",
       "      <td>No</td>\n",
       "      <td>...</td>\n",
       "      <td>No</td>\n",
       "      <td>No</td>\n",
       "      <td>No</td>\n",
       "      <td>One year</td>\n",
       "      <td>No</td>\n",
       "      <td>Mailed check</td>\n",
       "      <td>56.95</td>\n",
       "      <td>18895.0</td>\n",
       "      <td>No</td>\n",
       "      <td>Tenure_24-48</td>\n",
       "    </tr>\n",
       "    <tr>\n",
       "      <th>3668-QPYBK</th>\n",
       "      <td>Male</td>\n",
       "      <td>No</td>\n",
       "      <td>No</td>\n",
       "      <td>No</td>\n",
       "      <td>2</td>\n",
       "      <td>Yes</td>\n",
       "      <td>No</td>\n",
       "      <td>DSL</td>\n",
       "      <td>Yes</td>\n",
       "      <td>Yes</td>\n",
       "      <td>...</td>\n",
       "      <td>No</td>\n",
       "      <td>No</td>\n",
       "      <td>No</td>\n",
       "      <td>Monthtomonth</td>\n",
       "      <td>Yes</td>\n",
       "      <td>Mailed check</td>\n",
       "      <td>53.85</td>\n",
       "      <td>10815.0</td>\n",
       "      <td>Yes</td>\n",
       "      <td>Tenure_0-12</td>\n",
       "    </tr>\n",
       "    <tr>\n",
       "      <th>7795-CFOCW</th>\n",
       "      <td>Male</td>\n",
       "      <td>No</td>\n",
       "      <td>No</td>\n",
       "      <td>No</td>\n",
       "      <td>45</td>\n",
       "      <td>No</td>\n",
       "      <td>No</td>\n",
       "      <td>DSL</td>\n",
       "      <td>Yes</td>\n",
       "      <td>No</td>\n",
       "      <td>...</td>\n",
       "      <td>Yes</td>\n",
       "      <td>No</td>\n",
       "      <td>No</td>\n",
       "      <td>One year</td>\n",
       "      <td>No</td>\n",
       "      <td>Bank transfer automatic</td>\n",
       "      <td>42.30</td>\n",
       "      <td>184075.0</td>\n",
       "      <td>No</td>\n",
       "      <td>Tenure_24-48</td>\n",
       "    </tr>\n",
       "    <tr>\n",
       "      <th>9237-HQITU</th>\n",
       "      <td>Female</td>\n",
       "      <td>No</td>\n",
       "      <td>No</td>\n",
       "      <td>No</td>\n",
       "      <td>2</td>\n",
       "      <td>Yes</td>\n",
       "      <td>No</td>\n",
       "      <td>Fiber optic</td>\n",
       "      <td>No</td>\n",
       "      <td>No</td>\n",
       "      <td>...</td>\n",
       "      <td>No</td>\n",
       "      <td>No</td>\n",
       "      <td>No</td>\n",
       "      <td>Monthtomonth</td>\n",
       "      <td>Yes</td>\n",
       "      <td>Electronic check</td>\n",
       "      <td>70.70</td>\n",
       "      <td>15165.0</td>\n",
       "      <td>Yes</td>\n",
       "      <td>Tenure_0-12</td>\n",
       "    </tr>\n",
       "  </tbody>\n",
       "</table>\n",
       "<p>5 rows × 21 columns</p>\n",
       "</div>"
      ],
      "text/plain": [
       "            gender SeniorCitizen Partner Dependents  tenure PhoneService  \\\n",
       "customerID                                                                 \n",
       "7590-VHVEG  Female            No     Yes         No       1           No   \n",
       "5575-GNVDE    Male            No      No         No      34          Yes   \n",
       "3668-QPYBK    Male            No      No         No       2          Yes   \n",
       "7795-CFOCW    Male            No      No         No      45           No   \n",
       "9237-HQITU  Female            No      No         No       2          Yes   \n",
       "\n",
       "           MultipleLines InternetService OnlineSecurity OnlineBackup  \\\n",
       "customerID                                                             \n",
       "7590-VHVEG            No             DSL             No          Yes   \n",
       "5575-GNVDE            No             DSL            Yes           No   \n",
       "3668-QPYBK            No             DSL            Yes          Yes   \n",
       "7795-CFOCW            No             DSL            Yes           No   \n",
       "9237-HQITU            No     Fiber optic             No           No   \n",
       "\n",
       "                ...      TechSupport StreamingTV StreamingMovies  \\\n",
       "customerID      ...                                                \n",
       "7590-VHVEG      ...               No          No              No   \n",
       "5575-GNVDE      ...               No          No              No   \n",
       "3668-QPYBK      ...               No          No              No   \n",
       "7795-CFOCW      ...              Yes          No              No   \n",
       "9237-HQITU      ...               No          No              No   \n",
       "\n",
       "                Contract PaperlessBilling            PaymentMethod  \\\n",
       "customerID                                                           \n",
       "7590-VHVEG  Monthtomonth              Yes         Electronic check   \n",
       "5575-GNVDE      One year               No             Mailed check   \n",
       "3668-QPYBK  Monthtomonth              Yes             Mailed check   \n",
       "7795-CFOCW      One year               No  Bank transfer automatic   \n",
       "9237-HQITU  Monthtomonth              Yes         Electronic check   \n",
       "\n",
       "           MonthlyCharges  TotalCharges  Churn  tenure_group  \n",
       "customerID                                                    \n",
       "7590-VHVEG          29.85        2985.0     No   Tenure_0-12  \n",
       "5575-GNVDE          56.95       18895.0     No  Tenure_24-48  \n",
       "3668-QPYBK          53.85       10815.0    Yes   Tenure_0-12  \n",
       "7795-CFOCW          42.30      184075.0     No  Tenure_24-48  \n",
       "9237-HQITU          70.70       15165.0    Yes   Tenure_0-12  \n",
       "\n",
       "[5 rows x 21 columns]"
      ]
     },
     "execution_count": 41,
     "metadata": {},
     "output_type": "execute_result"
    }
   ],
   "source": [
    "df.head()"
   ]
  },
  {
   "cell_type": "code",
   "execution_count": 42,
   "metadata": {},
   "outputs": [
    {
     "name": "stdout",
     "output_type": "stream",
     "text": [
      "<class 'pandas.core.frame.DataFrame'>\n",
      "Index: 7043 entries, 7590-VHVEG to 3186-AJIEK\n",
      "Data columns (total 21 columns):\n",
      "gender              7043 non-null object\n",
      "SeniorCitizen       7043 non-null object\n",
      "Partner             7043 non-null object\n",
      "Dependents          7043 non-null object\n",
      "tenure              7043 non-null int64\n",
      "PhoneService        7043 non-null object\n",
      "MultipleLines       7043 non-null object\n",
      "InternetService     7043 non-null object\n",
      "OnlineSecurity      7043 non-null object\n",
      "OnlineBackup        7043 non-null object\n",
      "DeviceProtection    7043 non-null object\n",
      "TechSupport         7043 non-null object\n",
      "StreamingTV         7043 non-null object\n",
      "StreamingMovies     7043 non-null object\n",
      "Contract            7043 non-null object\n",
      "PaperlessBilling    7043 non-null object\n",
      "PaymentMethod       7043 non-null object\n",
      "MonthlyCharges      7043 non-null float64\n",
      "TotalCharges        7043 non-null float64\n",
      "Churn               7043 non-null object\n",
      "tenure_group        7043 non-null object\n",
      "dtypes: float64(2), int64(1), object(18)\n",
      "memory usage: 1.5+ MB\n"
     ]
    }
   ],
   "source": [
    "df.info()"
   ]
  },
  {
   "cell_type": "code",
   "execution_count": 43,
   "metadata": {},
   "outputs": [
    {
     "name": "stdout",
     "output_type": "stream",
     "text": [
      "gender  :  ['Female' 'Male']\n",
      "----------------------------------------------------------------------------------------------------\n",
      "SeniorCitizen  :  ['No' 'Yes']\n",
      "----------------------------------------------------------------------------------------------------\n",
      "Partner  :  ['Yes' 'No']\n",
      "----------------------------------------------------------------------------------------------------\n",
      "Dependents  :  ['No' 'Yes']\n",
      "----------------------------------------------------------------------------------------------------\n",
      "PhoneService  :  ['No' 'Yes']\n",
      "----------------------------------------------------------------------------------------------------\n",
      "MultipleLines  :  ['No' 'Yes']\n",
      "----------------------------------------------------------------------------------------------------\n",
      "InternetService  :  ['DSL' 'Fiber optic' 'No']\n",
      "----------------------------------------------------------------------------------------------------\n",
      "OnlineSecurity  :  ['No' 'Yes']\n",
      "----------------------------------------------------------------------------------------------------\n",
      "OnlineBackup  :  ['Yes' 'No']\n",
      "----------------------------------------------------------------------------------------------------\n",
      "DeviceProtection  :  ['No' 'Yes']\n",
      "----------------------------------------------------------------------------------------------------\n",
      "TechSupport  :  ['No' 'Yes']\n",
      "----------------------------------------------------------------------------------------------------\n",
      "StreamingTV  :  ['No' 'Yes']\n",
      "----------------------------------------------------------------------------------------------------\n",
      "StreamingMovies  :  ['No' 'Yes']\n",
      "----------------------------------------------------------------------------------------------------\n",
      "Contract  :  ['Monthtomonth' 'One year' 'Two year']\n",
      "----------------------------------------------------------------------------------------------------\n",
      "PaperlessBilling  :  ['Yes' 'No']\n",
      "----------------------------------------------------------------------------------------------------\n",
      "PaymentMethod  :  ['Electronic check' 'Mailed check' 'Bank transfer automatic'\n",
      " 'Credit card automatic']\n",
      "----------------------------------------------------------------------------------------------------\n",
      "Churn  :  ['No' 'Yes']\n",
      "----------------------------------------------------------------------------------------------------\n",
      "tenure_group  :  ['Tenure_0-12' 'Tenure_24-48' 'Tenure_12-24' 'Tenure_gt_60' 'Tenure_48-60']\n",
      "----------------------------------------------------------------------------------------------------\n"
     ]
    }
   ],
   "source": [
    "print_unique_values_in_column(df)"
   ]
  },
  {
   "cell_type": "code",
   "execution_count": 44,
   "metadata": {},
   "outputs": [
    {
     "name": "stdout",
     "output_type": "stream",
     "text": [
      "gender                 2\n",
      "SeniorCitizen          2\n",
      "Partner                2\n",
      "Dependents             2\n",
      "tenure                73\n",
      "PhoneService           2\n",
      "MultipleLines          2\n",
      "InternetService        3\n",
      "OnlineSecurity         2\n",
      "OnlineBackup           2\n",
      "DeviceProtection       2\n",
      "TechSupport            2\n",
      "StreamingTV            2\n",
      "StreamingMovies        2\n",
      "Contract               3\n",
      "PaperlessBilling       2\n",
      "PaymentMethod          4\n",
      "MonthlyCharges      1585\n",
      "TotalCharges        6433\n",
      "Churn                  2\n",
      "tenure_group           5\n",
      "dtype: int64\n",
      "['gender', 'SeniorCitizen', 'Partner', 'Dependents', 'PhoneService', 'MultipleLines', 'InternetService', 'OnlineSecurity', 'OnlineBackup', 'DeviceProtection', 'TechSupport', 'StreamingTV', 'StreamingMovies', 'Contract', 'PaperlessBilling', 'PaymentMethod', 'Churn', 'tenure_group']\n"
     ]
    }
   ],
   "source": [
    "from sklearn.preprocessing import LabelEncoder\n",
    "from sklearn.preprocessing import StandardScaler\n",
    "\n",
    "#customer id col\n",
    "Id_col     = ['customerID']\n",
    "#Target columns\n",
    "target_col = [\"Churn\"]\n",
    "\n",
    "print(df.nunique())\n",
    "#categorical columns\n",
    "cat_cols   = df.nunique()[df.nunique() < 6].keys().tolist()\n",
    "# df.nunique() :Return Series with number of distinct observations over requested axis.\n",
    "# https://pandas.pydata.org/pandas-docs/stable/generated/pandas.DataFrame.nunique.html \n",
    "print(cat_cols)\n",
    "\n",
    "cat_cols   = [x for x in cat_cols if x not in target_col]\n",
    "#numerical columns\n",
    "num_cols   = [x for x in df.columns if x not in cat_cols + target_col + Id_col]\n",
    "#Binary columns with 2 values\n",
    "bin_cols   = df.nunique()[df.nunique() == 2].keys().tolist()\n",
    "#Columns more than 2 values\n",
    "multi_cols = [i for i in cat_cols if i not in bin_cols]\n",
    "\n",
    "# df.columns = cat_cols(df.nunique() < 6) + num_cols\n",
    "# cat_cols = bin_cols + multi_cols"
   ]
  },
  {
   "cell_type": "code",
   "execution_count": 45,
   "metadata": {},
   "outputs": [
    {
     "name": "stdout",
     "output_type": "stream",
     "text": [
      "['tenure', 'MonthlyCharges', 'TotalCharges']\n",
      "--------------------------------------------------------------------------------\n",
      "['gender', 'SeniorCitizen', 'Partner', 'Dependents', 'PhoneService', 'MultipleLines', 'OnlineSecurity', 'OnlineBackup', 'DeviceProtection', 'TechSupport', 'StreamingTV', 'StreamingMovies', 'PaperlessBilling', 'Churn']\n",
      "--------------------------------------------------------------------------------\n",
      "['InternetService', 'Contract', 'PaymentMethod', 'tenure_group']\n"
     ]
    }
   ],
   "source": [
    "print(num_cols)\n",
    "print('-'*80)\n",
    "print(bin_cols)\n",
    "print('-'*80)\n",
    "print(multi_cols)"
   ]
  },
  {
   "cell_type": "code",
   "execution_count": 46,
   "metadata": {},
   "outputs": [],
   "source": [
    "#Label encoding Binary columns\n",
    "le = LabelEncoder()\n",
    "for i in bin_cols :\n",
    "    df[i] = le.fit_transform(df[i])\n",
    "    \n",
    "#Duplicating columns for multi value columns\n",
    "df = pd.get_dummies(data = df,columns = multi_cols )"
   ]
  },
  {
   "cell_type": "code",
   "execution_count": 47,
   "metadata": {
    "scrolled": true
   },
   "outputs": [
    {
     "data": {
      "text/html": [
       "<div>\n",
       "<style scoped>\n",
       "    .dataframe tbody tr th:only-of-type {\n",
       "        vertical-align: middle;\n",
       "    }\n",
       "\n",
       "    .dataframe tbody tr th {\n",
       "        vertical-align: top;\n",
       "    }\n",
       "\n",
       "    .dataframe thead th {\n",
       "        text-align: right;\n",
       "    }\n",
       "</style>\n",
       "<table border=\"1\" class=\"dataframe\">\n",
       "  <thead>\n",
       "    <tr style=\"text-align: right;\">\n",
       "      <th></th>\n",
       "      <th>gender</th>\n",
       "      <th>SeniorCitizen</th>\n",
       "      <th>Partner</th>\n",
       "      <th>Dependents</th>\n",
       "      <th>tenure</th>\n",
       "      <th>PhoneService</th>\n",
       "      <th>MultipleLines</th>\n",
       "      <th>OnlineSecurity</th>\n",
       "      <th>OnlineBackup</th>\n",
       "      <th>DeviceProtection</th>\n",
       "      <th>...</th>\n",
       "      <th>Contract_Two year</th>\n",
       "      <th>PaymentMethod_Bank transfer automatic</th>\n",
       "      <th>PaymentMethod_Credit card automatic</th>\n",
       "      <th>PaymentMethod_Electronic check</th>\n",
       "      <th>PaymentMethod_Mailed check</th>\n",
       "      <th>tenure_group_Tenure_0-12</th>\n",
       "      <th>tenure_group_Tenure_12-24</th>\n",
       "      <th>tenure_group_Tenure_24-48</th>\n",
       "      <th>tenure_group_Tenure_48-60</th>\n",
       "      <th>tenure_group_Tenure_gt_60</th>\n",
       "    </tr>\n",
       "    <tr>\n",
       "      <th>customerID</th>\n",
       "      <th></th>\n",
       "      <th></th>\n",
       "      <th></th>\n",
       "      <th></th>\n",
       "      <th></th>\n",
       "      <th></th>\n",
       "      <th></th>\n",
       "      <th></th>\n",
       "      <th></th>\n",
       "      <th></th>\n",
       "      <th></th>\n",
       "      <th></th>\n",
       "      <th></th>\n",
       "      <th></th>\n",
       "      <th></th>\n",
       "      <th></th>\n",
       "      <th></th>\n",
       "      <th></th>\n",
       "      <th></th>\n",
       "      <th></th>\n",
       "      <th></th>\n",
       "    </tr>\n",
       "  </thead>\n",
       "  <tbody>\n",
       "    <tr>\n",
       "      <th>7590-VHVEG</th>\n",
       "      <td>0</td>\n",
       "      <td>0</td>\n",
       "      <td>1</td>\n",
       "      <td>0</td>\n",
       "      <td>1</td>\n",
       "      <td>0</td>\n",
       "      <td>0</td>\n",
       "      <td>0</td>\n",
       "      <td>1</td>\n",
       "      <td>0</td>\n",
       "      <td>...</td>\n",
       "      <td>0</td>\n",
       "      <td>0</td>\n",
       "      <td>0</td>\n",
       "      <td>1</td>\n",
       "      <td>0</td>\n",
       "      <td>1</td>\n",
       "      <td>0</td>\n",
       "      <td>0</td>\n",
       "      <td>0</td>\n",
       "      <td>0</td>\n",
       "    </tr>\n",
       "    <tr>\n",
       "      <th>5575-GNVDE</th>\n",
       "      <td>1</td>\n",
       "      <td>0</td>\n",
       "      <td>0</td>\n",
       "      <td>0</td>\n",
       "      <td>34</td>\n",
       "      <td>1</td>\n",
       "      <td>0</td>\n",
       "      <td>1</td>\n",
       "      <td>0</td>\n",
       "      <td>1</td>\n",
       "      <td>...</td>\n",
       "      <td>0</td>\n",
       "      <td>0</td>\n",
       "      <td>0</td>\n",
       "      <td>0</td>\n",
       "      <td>1</td>\n",
       "      <td>0</td>\n",
       "      <td>0</td>\n",
       "      <td>1</td>\n",
       "      <td>0</td>\n",
       "      <td>0</td>\n",
       "    </tr>\n",
       "    <tr>\n",
       "      <th>3668-QPYBK</th>\n",
       "      <td>1</td>\n",
       "      <td>0</td>\n",
       "      <td>0</td>\n",
       "      <td>0</td>\n",
       "      <td>2</td>\n",
       "      <td>1</td>\n",
       "      <td>0</td>\n",
       "      <td>1</td>\n",
       "      <td>1</td>\n",
       "      <td>0</td>\n",
       "      <td>...</td>\n",
       "      <td>0</td>\n",
       "      <td>0</td>\n",
       "      <td>0</td>\n",
       "      <td>0</td>\n",
       "      <td>1</td>\n",
       "      <td>1</td>\n",
       "      <td>0</td>\n",
       "      <td>0</td>\n",
       "      <td>0</td>\n",
       "      <td>0</td>\n",
       "    </tr>\n",
       "    <tr>\n",
       "      <th>7795-CFOCW</th>\n",
       "      <td>1</td>\n",
       "      <td>0</td>\n",
       "      <td>0</td>\n",
       "      <td>0</td>\n",
       "      <td>45</td>\n",
       "      <td>0</td>\n",
       "      <td>0</td>\n",
       "      <td>1</td>\n",
       "      <td>0</td>\n",
       "      <td>1</td>\n",
       "      <td>...</td>\n",
       "      <td>0</td>\n",
       "      <td>1</td>\n",
       "      <td>0</td>\n",
       "      <td>0</td>\n",
       "      <td>0</td>\n",
       "      <td>0</td>\n",
       "      <td>0</td>\n",
       "      <td>1</td>\n",
       "      <td>0</td>\n",
       "      <td>0</td>\n",
       "    </tr>\n",
       "    <tr>\n",
       "      <th>9237-HQITU</th>\n",
       "      <td>0</td>\n",
       "      <td>0</td>\n",
       "      <td>0</td>\n",
       "      <td>0</td>\n",
       "      <td>2</td>\n",
       "      <td>1</td>\n",
       "      <td>0</td>\n",
       "      <td>0</td>\n",
       "      <td>0</td>\n",
       "      <td>0</td>\n",
       "      <td>...</td>\n",
       "      <td>0</td>\n",
       "      <td>0</td>\n",
       "      <td>0</td>\n",
       "      <td>1</td>\n",
       "      <td>0</td>\n",
       "      <td>1</td>\n",
       "      <td>0</td>\n",
       "      <td>0</td>\n",
       "      <td>0</td>\n",
       "      <td>0</td>\n",
       "    </tr>\n",
       "  </tbody>\n",
       "</table>\n",
       "<p>5 rows × 32 columns</p>\n",
       "</div>"
      ],
      "text/plain": [
       "            gender  SeniorCitizen  Partner  Dependents  tenure  PhoneService  \\\n",
       "customerID                                                                     \n",
       "7590-VHVEG       0              0        1           0       1             0   \n",
       "5575-GNVDE       1              0        0           0      34             1   \n",
       "3668-QPYBK       1              0        0           0       2             1   \n",
       "7795-CFOCW       1              0        0           0      45             0   \n",
       "9237-HQITU       0              0        0           0       2             1   \n",
       "\n",
       "            MultipleLines  OnlineSecurity  OnlineBackup  DeviceProtection  \\\n",
       "customerID                                                                  \n",
       "7590-VHVEG              0               0             1                 0   \n",
       "5575-GNVDE              0               1             0                 1   \n",
       "3668-QPYBK              0               1             1                 0   \n",
       "7795-CFOCW              0               1             0                 1   \n",
       "9237-HQITU              0               0             0                 0   \n",
       "\n",
       "                      ...              Contract_Two year  \\\n",
       "customerID            ...                                  \n",
       "7590-VHVEG            ...                              0   \n",
       "5575-GNVDE            ...                              0   \n",
       "3668-QPYBK            ...                              0   \n",
       "7795-CFOCW            ...                              0   \n",
       "9237-HQITU            ...                              0   \n",
       "\n",
       "            PaymentMethod_Bank transfer automatic  \\\n",
       "customerID                                          \n",
       "7590-VHVEG                                      0   \n",
       "5575-GNVDE                                      0   \n",
       "3668-QPYBK                                      0   \n",
       "7795-CFOCW                                      1   \n",
       "9237-HQITU                                      0   \n",
       "\n",
       "            PaymentMethod_Credit card automatic  \\\n",
       "customerID                                        \n",
       "7590-VHVEG                                    0   \n",
       "5575-GNVDE                                    0   \n",
       "3668-QPYBK                                    0   \n",
       "7795-CFOCW                                    0   \n",
       "9237-HQITU                                    0   \n",
       "\n",
       "            PaymentMethod_Electronic check  PaymentMethod_Mailed check  \\\n",
       "customerID                                                               \n",
       "7590-VHVEG                               1                           0   \n",
       "5575-GNVDE                               0                           1   \n",
       "3668-QPYBK                               0                           1   \n",
       "7795-CFOCW                               0                           0   \n",
       "9237-HQITU                               1                           0   \n",
       "\n",
       "            tenure_group_Tenure_0-12  tenure_group_Tenure_12-24  \\\n",
       "customerID                                                        \n",
       "7590-VHVEG                         1                          0   \n",
       "5575-GNVDE                         0                          0   \n",
       "3668-QPYBK                         1                          0   \n",
       "7795-CFOCW                         0                          0   \n",
       "9237-HQITU                         1                          0   \n",
       "\n",
       "            tenure_group_Tenure_24-48  tenure_group_Tenure_48-60  \\\n",
       "customerID                                                         \n",
       "7590-VHVEG                          0                          0   \n",
       "5575-GNVDE                          1                          0   \n",
       "3668-QPYBK                          0                          0   \n",
       "7795-CFOCW                          1                          0   \n",
       "9237-HQITU                          0                          0   \n",
       "\n",
       "            tenure_group_Tenure_gt_60  \n",
       "customerID                             \n",
       "7590-VHVEG                          0  \n",
       "5575-GNVDE                          0  \n",
       "3668-QPYBK                          0  \n",
       "7795-CFOCW                          0  \n",
       "9237-HQITU                          0  \n",
       "\n",
       "[5 rows x 32 columns]"
      ]
     },
     "execution_count": 47,
     "metadata": {},
     "output_type": "execute_result"
    }
   ],
   "source": [
    "df.head()"
   ]
  },
  {
   "cell_type": "code",
   "execution_count": 48,
   "metadata": {},
   "outputs": [
    {
     "data": {
      "text/plain": [
       "['gender',\n",
       " 'SeniorCitizen',\n",
       " 'Partner',\n",
       " 'Dependents',\n",
       " 'tenure',\n",
       " 'PhoneService',\n",
       " 'MultipleLines',\n",
       " 'OnlineSecurity',\n",
       " 'OnlineBackup',\n",
       " 'DeviceProtection',\n",
       " 'TechSupport',\n",
       " 'StreamingTV',\n",
       " 'StreamingMovies',\n",
       " 'PaperlessBilling',\n",
       " 'MonthlyCharges',\n",
       " 'TotalCharges',\n",
       " 'Churn',\n",
       " 'InternetService_DSL',\n",
       " 'InternetService_Fiber optic',\n",
       " 'InternetService_No',\n",
       " 'Contract_Monthtomonth',\n",
       " 'Contract_One year',\n",
       " 'Contract_Two year',\n",
       " 'PaymentMethod_Bank transfer automatic',\n",
       " 'PaymentMethod_Credit card automatic',\n",
       " 'PaymentMethod_Electronic check',\n",
       " 'PaymentMethod_Mailed check',\n",
       " 'tenure_group_Tenure_0-12',\n",
       " 'tenure_group_Tenure_12-24',\n",
       " 'tenure_group_Tenure_24-48',\n",
       " 'tenure_group_Tenure_48-60',\n",
       " 'tenure_group_Tenure_gt_60']"
      ]
     },
     "execution_count": 48,
     "metadata": {},
     "output_type": "execute_result"
    }
   ],
   "source": [
    "list(df.columns)"
   ]
  },
  {
   "cell_type": "markdown",
   "metadata": {},
   "source": [
    "## <a id='10.2'> Normalizing features </a>"
   ]
  },
  {
   "cell_type": "code",
   "execution_count": 49,
   "metadata": {},
   "outputs": [
    {
     "name": "stderr",
     "output_type": "stream",
     "text": [
      "/Library/Frameworks/Python.framework/Versions/3.5/lib/python3.5/site-packages/sklearn/preprocessing/data.py:617: DataConversionWarning: Data with input dtype int64, float64 were all converted to float64 by StandardScaler.\n",
      "  return self.partial_fit(X, y)\n",
      "/Library/Frameworks/Python.framework/Versions/3.5/lib/python3.5/site-packages/sklearn/base.py:462: DataConversionWarning: Data with input dtype int64, float64 were all converted to float64 by StandardScaler.\n",
      "  return self.fit(X, **fit_params).transform(X)\n"
     ]
    }
   ],
   "source": [
    "telcom = df\n",
    "\n",
    "#Scaling Numerical columns\n",
    "'''\n",
    "Standardize features by removing the mean and scaling to unit variance\n",
    "\n",
    "The standard score of a sample x is calculated as:  z = (x - u) / s\n",
    "\n",
    "https://scikit-learn.org/stable/modules/generated/sklearn.preprocessing.StandardScaler.html\n",
    "'''\n",
    "\n",
    "std = StandardScaler()\n",
    "\n",
    "scaled = std.fit_transform(telcom[num_cols])\n",
    "scaled = pd.DataFrame(scaled,columns=num_cols)"
   ]
  },
  {
   "cell_type": "code",
   "execution_count": 50,
   "metadata": {},
   "outputs": [
    {
     "name": "stdout",
     "output_type": "stream",
     "text": [
      "(7043, 3)\n"
     ]
    },
    {
     "data": {
      "text/html": [
       "<div>\n",
       "<style scoped>\n",
       "    .dataframe tbody tr th:only-of-type {\n",
       "        vertical-align: middle;\n",
       "    }\n",
       "\n",
       "    .dataframe tbody tr th {\n",
       "        vertical-align: top;\n",
       "    }\n",
       "\n",
       "    .dataframe thead th {\n",
       "        text-align: right;\n",
       "    }\n",
       "</style>\n",
       "<table border=\"1\" class=\"dataframe\">\n",
       "  <thead>\n",
       "    <tr style=\"text-align: right;\">\n",
       "      <th></th>\n",
       "      <th>tenure</th>\n",
       "      <th>MonthlyCharges</th>\n",
       "      <th>TotalCharges</th>\n",
       "    </tr>\n",
       "  </thead>\n",
       "  <tbody>\n",
       "    <tr>\n",
       "      <th>0</th>\n",
       "      <td>-1.277445</td>\n",
       "      <td>-1.160323</td>\n",
       "      <td>-0.640817</td>\n",
       "    </tr>\n",
       "    <tr>\n",
       "      <th>1</th>\n",
       "      <td>0.066327</td>\n",
       "      <td>-0.259629</td>\n",
       "      <td>-0.558107</td>\n",
       "    </tr>\n",
       "  </tbody>\n",
       "</table>\n",
       "</div>"
      ],
      "text/plain": [
       "     tenure  MonthlyCharges  TotalCharges\n",
       "0 -1.277445       -1.160323     -0.640817\n",
       "1  0.066327       -0.259629     -0.558107"
      ]
     },
     "execution_count": 50,
     "metadata": {},
     "output_type": "execute_result"
    }
   ],
   "source": [
    "print(scaled.shape)\n",
    "scaled.head(2)"
   ]
  },
  {
   "cell_type": "code",
   "execution_count": 51,
   "metadata": {},
   "outputs": [],
   "source": [
    "#dropping original values merging scaled values for numerical columns\n",
    "df_telcom_og = telcom.copy()\n",
    "telcom = telcom.drop(columns = num_cols,axis = 1)"
   ]
  },
  {
   "cell_type": "code",
   "execution_count": 52,
   "metadata": {},
   "outputs": [
    {
     "name": "stdout",
     "output_type": "stream",
     "text": [
      "(7043, 29)\n"
     ]
    },
    {
     "data": {
      "text/html": [
       "<div>\n",
       "<style scoped>\n",
       "    .dataframe tbody tr th:only-of-type {\n",
       "        vertical-align: middle;\n",
       "    }\n",
       "\n",
       "    .dataframe tbody tr th {\n",
       "        vertical-align: top;\n",
       "    }\n",
       "\n",
       "    .dataframe thead th {\n",
       "        text-align: right;\n",
       "    }\n",
       "</style>\n",
       "<table border=\"1\" class=\"dataframe\">\n",
       "  <thead>\n",
       "    <tr style=\"text-align: right;\">\n",
       "      <th></th>\n",
       "      <th>gender</th>\n",
       "      <th>SeniorCitizen</th>\n",
       "      <th>Partner</th>\n",
       "      <th>Dependents</th>\n",
       "      <th>PhoneService</th>\n",
       "      <th>MultipleLines</th>\n",
       "      <th>OnlineSecurity</th>\n",
       "      <th>OnlineBackup</th>\n",
       "      <th>DeviceProtection</th>\n",
       "      <th>TechSupport</th>\n",
       "      <th>...</th>\n",
       "      <th>Contract_Two year</th>\n",
       "      <th>PaymentMethod_Bank transfer automatic</th>\n",
       "      <th>PaymentMethod_Credit card automatic</th>\n",
       "      <th>PaymentMethod_Electronic check</th>\n",
       "      <th>PaymentMethod_Mailed check</th>\n",
       "      <th>tenure_group_Tenure_0-12</th>\n",
       "      <th>tenure_group_Tenure_12-24</th>\n",
       "      <th>tenure_group_Tenure_24-48</th>\n",
       "      <th>tenure_group_Tenure_48-60</th>\n",
       "      <th>tenure_group_Tenure_gt_60</th>\n",
       "    </tr>\n",
       "    <tr>\n",
       "      <th>customerID</th>\n",
       "      <th></th>\n",
       "      <th></th>\n",
       "      <th></th>\n",
       "      <th></th>\n",
       "      <th></th>\n",
       "      <th></th>\n",
       "      <th></th>\n",
       "      <th></th>\n",
       "      <th></th>\n",
       "      <th></th>\n",
       "      <th></th>\n",
       "      <th></th>\n",
       "      <th></th>\n",
       "      <th></th>\n",
       "      <th></th>\n",
       "      <th></th>\n",
       "      <th></th>\n",
       "      <th></th>\n",
       "      <th></th>\n",
       "      <th></th>\n",
       "      <th></th>\n",
       "    </tr>\n",
       "  </thead>\n",
       "  <tbody>\n",
       "    <tr>\n",
       "      <th>7590-VHVEG</th>\n",
       "      <td>0</td>\n",
       "      <td>0</td>\n",
       "      <td>1</td>\n",
       "      <td>0</td>\n",
       "      <td>0</td>\n",
       "      <td>0</td>\n",
       "      <td>0</td>\n",
       "      <td>1</td>\n",
       "      <td>0</td>\n",
       "      <td>0</td>\n",
       "      <td>...</td>\n",
       "      <td>0</td>\n",
       "      <td>0</td>\n",
       "      <td>0</td>\n",
       "      <td>1</td>\n",
       "      <td>0</td>\n",
       "      <td>1</td>\n",
       "      <td>0</td>\n",
       "      <td>0</td>\n",
       "      <td>0</td>\n",
       "      <td>0</td>\n",
       "    </tr>\n",
       "    <tr>\n",
       "      <th>5575-GNVDE</th>\n",
       "      <td>1</td>\n",
       "      <td>0</td>\n",
       "      <td>0</td>\n",
       "      <td>0</td>\n",
       "      <td>1</td>\n",
       "      <td>0</td>\n",
       "      <td>1</td>\n",
       "      <td>0</td>\n",
       "      <td>1</td>\n",
       "      <td>0</td>\n",
       "      <td>...</td>\n",
       "      <td>0</td>\n",
       "      <td>0</td>\n",
       "      <td>0</td>\n",
       "      <td>0</td>\n",
       "      <td>1</td>\n",
       "      <td>0</td>\n",
       "      <td>0</td>\n",
       "      <td>1</td>\n",
       "      <td>0</td>\n",
       "      <td>0</td>\n",
       "    </tr>\n",
       "  </tbody>\n",
       "</table>\n",
       "<p>2 rows × 29 columns</p>\n",
       "</div>"
      ],
      "text/plain": [
       "            gender  SeniorCitizen  Partner  Dependents  PhoneService  \\\n",
       "customerID                                                             \n",
       "7590-VHVEG       0              0        1           0             0   \n",
       "5575-GNVDE       1              0        0           0             1   \n",
       "\n",
       "            MultipleLines  OnlineSecurity  OnlineBackup  DeviceProtection  \\\n",
       "customerID                                                                  \n",
       "7590-VHVEG              0               0             1                 0   \n",
       "5575-GNVDE              0               1             0                 1   \n",
       "\n",
       "            TechSupport            ...              Contract_Two year  \\\n",
       "customerID                         ...                                  \n",
       "7590-VHVEG            0            ...                              0   \n",
       "5575-GNVDE            0            ...                              0   \n",
       "\n",
       "            PaymentMethod_Bank transfer automatic  \\\n",
       "customerID                                          \n",
       "7590-VHVEG                                      0   \n",
       "5575-GNVDE                                      0   \n",
       "\n",
       "            PaymentMethod_Credit card automatic  \\\n",
       "customerID                                        \n",
       "7590-VHVEG                                    0   \n",
       "5575-GNVDE                                    0   \n",
       "\n",
       "            PaymentMethod_Electronic check  PaymentMethod_Mailed check  \\\n",
       "customerID                                                               \n",
       "7590-VHVEG                               1                           0   \n",
       "5575-GNVDE                               0                           1   \n",
       "\n",
       "            tenure_group_Tenure_0-12  tenure_group_Tenure_12-24  \\\n",
       "customerID                                                        \n",
       "7590-VHVEG                         1                          0   \n",
       "5575-GNVDE                         0                          0   \n",
       "\n",
       "            tenure_group_Tenure_24-48  tenure_group_Tenure_48-60  \\\n",
       "customerID                                                         \n",
       "7590-VHVEG                          0                          0   \n",
       "5575-GNVDE                          1                          0   \n",
       "\n",
       "            tenure_group_Tenure_gt_60  \n",
       "customerID                             \n",
       "7590-VHVEG                          0  \n",
       "5575-GNVDE                          0  \n",
       "\n",
       "[2 rows x 29 columns]"
      ]
     },
     "execution_count": 52,
     "metadata": {},
     "output_type": "execute_result"
    }
   ],
   "source": [
    "print(telcom.shape)\n",
    "telcom.head(2)"
   ]
  },
  {
   "cell_type": "code",
   "execution_count": 53,
   "metadata": {},
   "outputs": [],
   "source": [
    "# telcom1 = telcom.merge(scaled,left_index=True,right_index=True,how = \"left\")\n",
    "\n",
    "# telcom1.head()\n",
    "# df_row_merged = pd.concat([telcom, scaled], axis=1, ignore_index=False)\n",
    "# df_row_merged"
   ]
  },
  {
   "cell_type": "code",
   "execution_count": 54,
   "metadata": {},
   "outputs": [
    {
     "data": {
      "text/html": [
       "<div>\n",
       "<style scoped>\n",
       "    .dataframe tbody tr th:only-of-type {\n",
       "        vertical-align: middle;\n",
       "    }\n",
       "\n",
       "    .dataframe tbody tr th {\n",
       "        vertical-align: top;\n",
       "    }\n",
       "\n",
       "    .dataframe thead th {\n",
       "        text-align: right;\n",
       "    }\n",
       "</style>\n",
       "<table border=\"1\" class=\"dataframe\">\n",
       "  <thead>\n",
       "    <tr style=\"text-align: right;\">\n",
       "      <th></th>\n",
       "      <th>gender</th>\n",
       "      <th>SeniorCitizen</th>\n",
       "      <th>Partner</th>\n",
       "      <th>Dependents</th>\n",
       "      <th>PhoneService</th>\n",
       "      <th>MultipleLines</th>\n",
       "      <th>OnlineSecurity</th>\n",
       "      <th>OnlineBackup</th>\n",
       "      <th>DeviceProtection</th>\n",
       "      <th>TechSupport</th>\n",
       "      <th>...</th>\n",
       "      <th>PaymentMethod_Electronic check</th>\n",
       "      <th>PaymentMethod_Mailed check</th>\n",
       "      <th>tenure_group_Tenure_0-12</th>\n",
       "      <th>tenure_group_Tenure_12-24</th>\n",
       "      <th>tenure_group_Tenure_24-48</th>\n",
       "      <th>tenure_group_Tenure_48-60</th>\n",
       "      <th>tenure_group_Tenure_gt_60</th>\n",
       "      <th>tenure</th>\n",
       "      <th>MonthlyCharges</th>\n",
       "      <th>TotalCharges</th>\n",
       "    </tr>\n",
       "    <tr>\n",
       "      <th>customerID</th>\n",
       "      <th></th>\n",
       "      <th></th>\n",
       "      <th></th>\n",
       "      <th></th>\n",
       "      <th></th>\n",
       "      <th></th>\n",
       "      <th></th>\n",
       "      <th></th>\n",
       "      <th></th>\n",
       "      <th></th>\n",
       "      <th></th>\n",
       "      <th></th>\n",
       "      <th></th>\n",
       "      <th></th>\n",
       "      <th></th>\n",
       "      <th></th>\n",
       "      <th></th>\n",
       "      <th></th>\n",
       "      <th></th>\n",
       "      <th></th>\n",
       "      <th></th>\n",
       "    </tr>\n",
       "  </thead>\n",
       "  <tbody>\n",
       "    <tr>\n",
       "      <th>7590-VHVEG</th>\n",
       "      <td>0</td>\n",
       "      <td>0</td>\n",
       "      <td>1</td>\n",
       "      <td>0</td>\n",
       "      <td>0</td>\n",
       "      <td>0</td>\n",
       "      <td>0</td>\n",
       "      <td>1</td>\n",
       "      <td>0</td>\n",
       "      <td>0</td>\n",
       "      <td>...</td>\n",
       "      <td>1</td>\n",
       "      <td>0</td>\n",
       "      <td>1</td>\n",
       "      <td>0</td>\n",
       "      <td>0</td>\n",
       "      <td>0</td>\n",
       "      <td>0</td>\n",
       "      <td>-1.277445</td>\n",
       "      <td>-1.160323</td>\n",
       "      <td>-0.640817</td>\n",
       "    </tr>\n",
       "    <tr>\n",
       "      <th>5575-GNVDE</th>\n",
       "      <td>1</td>\n",
       "      <td>0</td>\n",
       "      <td>0</td>\n",
       "      <td>0</td>\n",
       "      <td>1</td>\n",
       "      <td>0</td>\n",
       "      <td>1</td>\n",
       "      <td>0</td>\n",
       "      <td>1</td>\n",
       "      <td>0</td>\n",
       "      <td>...</td>\n",
       "      <td>0</td>\n",
       "      <td>1</td>\n",
       "      <td>0</td>\n",
       "      <td>0</td>\n",
       "      <td>1</td>\n",
       "      <td>0</td>\n",
       "      <td>0</td>\n",
       "      <td>0.066327</td>\n",
       "      <td>-0.259629</td>\n",
       "      <td>-0.558107</td>\n",
       "    </tr>\n",
       "    <tr>\n",
       "      <th>3668-QPYBK</th>\n",
       "      <td>1</td>\n",
       "      <td>0</td>\n",
       "      <td>0</td>\n",
       "      <td>0</td>\n",
       "      <td>1</td>\n",
       "      <td>0</td>\n",
       "      <td>1</td>\n",
       "      <td>1</td>\n",
       "      <td>0</td>\n",
       "      <td>0</td>\n",
       "      <td>...</td>\n",
       "      <td>0</td>\n",
       "      <td>1</td>\n",
       "      <td>1</td>\n",
       "      <td>0</td>\n",
       "      <td>0</td>\n",
       "      <td>0</td>\n",
       "      <td>0</td>\n",
       "      <td>-1.236724</td>\n",
       "      <td>-0.362660</td>\n",
       "      <td>-0.600112</td>\n",
       "    </tr>\n",
       "    <tr>\n",
       "      <th>7795-CFOCW</th>\n",
       "      <td>1</td>\n",
       "      <td>0</td>\n",
       "      <td>0</td>\n",
       "      <td>0</td>\n",
       "      <td>0</td>\n",
       "      <td>0</td>\n",
       "      <td>1</td>\n",
       "      <td>0</td>\n",
       "      <td>1</td>\n",
       "      <td>1</td>\n",
       "      <td>...</td>\n",
       "      <td>0</td>\n",
       "      <td>0</td>\n",
       "      <td>0</td>\n",
       "      <td>0</td>\n",
       "      <td>1</td>\n",
       "      <td>0</td>\n",
       "      <td>0</td>\n",
       "      <td>0.514251</td>\n",
       "      <td>-0.746535</td>\n",
       "      <td>0.300600</td>\n",
       "    </tr>\n",
       "    <tr>\n",
       "      <th>9237-HQITU</th>\n",
       "      <td>0</td>\n",
       "      <td>0</td>\n",
       "      <td>0</td>\n",
       "      <td>0</td>\n",
       "      <td>1</td>\n",
       "      <td>0</td>\n",
       "      <td>0</td>\n",
       "      <td>0</td>\n",
       "      <td>0</td>\n",
       "      <td>0</td>\n",
       "      <td>...</td>\n",
       "      <td>1</td>\n",
       "      <td>0</td>\n",
       "      <td>1</td>\n",
       "      <td>0</td>\n",
       "      <td>0</td>\n",
       "      <td>0</td>\n",
       "      <td>0</td>\n",
       "      <td>-1.236724</td>\n",
       "      <td>0.197365</td>\n",
       "      <td>-0.577498</td>\n",
       "    </tr>\n",
       "  </tbody>\n",
       "</table>\n",
       "<p>5 rows × 32 columns</p>\n",
       "</div>"
      ],
      "text/plain": [
       "            gender  SeniorCitizen  Partner  Dependents  PhoneService  \\\n",
       "customerID                                                             \n",
       "7590-VHVEG       0              0        1           0             0   \n",
       "5575-GNVDE       1              0        0           0             1   \n",
       "3668-QPYBK       1              0        0           0             1   \n",
       "7795-CFOCW       1              0        0           0             0   \n",
       "9237-HQITU       0              0        0           0             1   \n",
       "\n",
       "            MultipleLines  OnlineSecurity  OnlineBackup  DeviceProtection  \\\n",
       "customerID                                                                  \n",
       "7590-VHVEG              0               0             1                 0   \n",
       "5575-GNVDE              0               1             0                 1   \n",
       "3668-QPYBK              0               1             1                 0   \n",
       "7795-CFOCW              0               1             0                 1   \n",
       "9237-HQITU              0               0             0                 0   \n",
       "\n",
       "            TechSupport      ...       PaymentMethod_Electronic check  \\\n",
       "customerID                   ...                                        \n",
       "7590-VHVEG            0      ...                                    1   \n",
       "5575-GNVDE            0      ...                                    0   \n",
       "3668-QPYBK            0      ...                                    0   \n",
       "7795-CFOCW            1      ...                                    0   \n",
       "9237-HQITU            0      ...                                    1   \n",
       "\n",
       "            PaymentMethod_Mailed check  tenure_group_Tenure_0-12  \\\n",
       "customerID                                                         \n",
       "7590-VHVEG                           0                         1   \n",
       "5575-GNVDE                           1                         0   \n",
       "3668-QPYBK                           1                         1   \n",
       "7795-CFOCW                           0                         0   \n",
       "9237-HQITU                           0                         1   \n",
       "\n",
       "            tenure_group_Tenure_12-24  tenure_group_Tenure_24-48  \\\n",
       "customerID                                                         \n",
       "7590-VHVEG                          0                          0   \n",
       "5575-GNVDE                          0                          1   \n",
       "3668-QPYBK                          0                          0   \n",
       "7795-CFOCW                          0                          1   \n",
       "9237-HQITU                          0                          0   \n",
       "\n",
       "            tenure_group_Tenure_48-60  tenure_group_Tenure_gt_60    tenure  \\\n",
       "customerID                                                                   \n",
       "7590-VHVEG                          0                          0 -1.277445   \n",
       "5575-GNVDE                          0                          0  0.066327   \n",
       "3668-QPYBK                          0                          0 -1.236724   \n",
       "7795-CFOCW                          0                          0  0.514251   \n",
       "9237-HQITU                          0                          0 -1.236724   \n",
       "\n",
       "            MonthlyCharges  TotalCharges  \n",
       "customerID                                \n",
       "7590-VHVEG       -1.160323     -0.640817  \n",
       "5575-GNVDE       -0.259629     -0.558107  \n",
       "3668-QPYBK       -0.362660     -0.600112  \n",
       "7795-CFOCW       -0.746535      0.300600  \n",
       "9237-HQITU        0.197365     -0.577498  \n",
       "\n",
       "[5 rows x 32 columns]"
      ]
     },
     "execution_count": 54,
     "metadata": {},
     "output_type": "execute_result"
    }
   ],
   "source": [
    "telcom.reset_index(drop=False, inplace=True)\n",
    "\n",
    "telcom = pd.concat([telcom, scaled], axis=1)\n",
    "\n",
    "telcom.set_index('customerID', inplace=True)\n",
    "\n",
    "telcom.head()"
   ]
  },
  {
   "cell_type": "markdown",
   "metadata": {},
   "source": [
    "## <a id='10.3'> spliting train/val/test data </a>"
   ]
  },
  {
   "cell_type": "code",
   "execution_count": 55,
   "metadata": {},
   "outputs": [],
   "source": [
    "from sklearn.model_selection import train_test_split\n",
    "from sklearn.linear_model import LogisticRegression\n",
    "from sklearn.metrics import confusion_matrix,accuracy_score,classification_report\n",
    "from sklearn.metrics import roc_auc_score,roc_curve,scorer\n",
    "from sklearn.metrics import f1_score\n",
    "import statsmodels.api as sm\n",
    "from sklearn.metrics import precision_score,recall_score\n",
    "from yellowbrick.classifier import DiscriminationThreshold\n",
    "#splitting train and test data \n",
    "\n",
    "# telcom = df\n",
    "target_col = telcom[\"Churn\"]\n",
    "\n",
    "train,test = train_test_split(telcom,test_size = .25 ,random_state = 111)\n",
    "    \n",
    "##seperating dependent and independent variables\n",
    "# cols    = [i for i in telcom.columns if i not in  target_col]\n",
    "# X_train = train[cols]\n",
    "# y_train = train[\"Churn\"]\n",
    "# X_test  = test[cols]\n",
    "# y_test  = test[\"Churn\"]\n",
    "\n",
    "X_train = train.drop(['Churn'], inplace=False, axis=1)\n",
    "y_train = train[\"Churn\"]\n",
    "X_test  = test.drop([\"Churn\"], inplace=False, axis=1)\n",
    "y_test  = test[\"Churn\"]"
   ]
  },
  {
   "cell_type": "code",
   "execution_count": 56,
   "metadata": {},
   "outputs": [
    {
     "data": {
      "text/plain": [
       "((5282, 31), (5282,), (1761, 31), (1761,))"
      ]
     },
     "execution_count": 56,
     "metadata": {},
     "output_type": "execute_result"
    }
   ],
   "source": [
    "X_train.shape, y_train.shape, X_test.shape, y_test.shape"
   ]
  },
  {
   "cell_type": "code",
   "execution_count": 57,
   "metadata": {},
   "outputs": [
    {
     "data": {
      "text/plain": [
       "(            gender  SeniorCitizen  Partner  Dependents  PhoneService  \\\n",
       " customerID                                                             \n",
       " 3521-SYVOR       0              0        0           0             1   \n",
       " 8660-BUETV       0              0        0           0             1   \n",
       " 8150-QUDFX       1              0        0           0             1   \n",
       " 8800-JOOCF       0              0        0           1             1   \n",
       " 2292-XQWSV       1              0        1           1             0   \n",
       " \n",
       "             MultipleLines  OnlineSecurity  OnlineBackup  DeviceProtection  \\\n",
       " customerID                                                                  \n",
       " 3521-SYVOR              0               0             0                 0   \n",
       " 8660-BUETV              0               0             0                 0   \n",
       " 8150-QUDFX              0               0             0                 0   \n",
       " 8800-JOOCF              1               0             0                 0   \n",
       " 2292-XQWSV              0               0             1                 1   \n",
       " \n",
       "             TechSupport      ...       PaymentMethod_Electronic check  \\\n",
       " customerID                   ...                                        \n",
       " 3521-SYVOR            0      ...                                    1   \n",
       " 8660-BUETV            0      ...                                    0   \n",
       " 8150-QUDFX            0      ...                                    0   \n",
       " 8800-JOOCF            0      ...                                    1   \n",
       " 2292-XQWSV            1      ...                                    0   \n",
       " \n",
       "             PaymentMethod_Mailed check  tenure_group_Tenure_0-12  \\\n",
       " customerID                                                         \n",
       " 3521-SYVOR                           0                         0   \n",
       " 8660-BUETV                           1                         1   \n",
       " 8150-QUDFX                           1                         1   \n",
       " 8800-JOOCF                           0                         1   \n",
       " 2292-XQWSV                           1                         0   \n",
       " \n",
       "             tenure_group_Tenure_12-24  tenure_group_Tenure_24-48  \\\n",
       " customerID                                                         \n",
       " 3521-SYVOR                          0                          1   \n",
       " 8660-BUETV                          0                          0   \n",
       " 8150-QUDFX                          0                          0   \n",
       " 8800-JOOCF                          0                          0   \n",
       " 2292-XQWSV                          0                          1   \n",
       " \n",
       "             tenure_group_Tenure_48-60  tenure_group_Tenure_gt_60    tenure  \\\n",
       " customerID                                                                   \n",
       " 3521-SYVOR                          0                          0  0.188489   \n",
       " 8660-BUETV                          0                          0 -1.196004   \n",
       " 8150-QUDFX                          0                          0 -1.236724   \n",
       " 8800-JOOCF                          0                          0 -0.829521   \n",
       " 2292-XQWSV                          0                          0  0.310650   \n",
       " \n",
       "             MonthlyCharges  TotalCharges  \n",
       " customerID                                \n",
       " 3521-SYVOR       -0.000389     -0.534417  \n",
       " 8660-BUETV       -0.665107     -0.579370  \n",
       " 8150-QUDFX       -1.492682     -0.653653  \n",
       " 8800-JOOCF        0.641065     -0.153863  \n",
       " 2292-XQWSV       -0.148289     -0.529047  \n",
       " \n",
       " [5 rows x 31 columns], customerID\n",
       " 3521-SYVOR    1\n",
       " 8660-BUETV    0\n",
       " 8150-QUDFX    0\n",
       " 8800-JOOCF    0\n",
       " 2292-XQWSV    0\n",
       " Name: Churn, dtype: int64,             gender  SeniorCitizen  Partner  Dependents  PhoneService  \\\n",
       " customerID                                                             \n",
       " 5546-QUERU       1              0        0           0             1   \n",
       " 2560-QTSBS       0              0        1           1             1   \n",
       " 6077-BDPXA       0              0        0           0             1   \n",
       " 8943-URTMR       0              0        0           0             1   \n",
       " 5980-NOPLP       0              0        1           0             1   \n",
       " \n",
       "             MultipleLines  OnlineSecurity  OnlineBackup  DeviceProtection  \\\n",
       " customerID                                                                  \n",
       " 5546-QUERU              0               0             0                 0   \n",
       " 2560-QTSBS              1               0             0                 0   \n",
       " 6077-BDPXA              0               0             0                 0   \n",
       " 8943-URTMR              0               0             0                 0   \n",
       " 5980-NOPLP              1               0             0                 0   \n",
       " \n",
       "             TechSupport      ...       PaymentMethod_Electronic check  \\\n",
       " customerID                   ...                                        \n",
       " 5546-QUERU            0      ...                                    0   \n",
       " 2560-QTSBS            0      ...                                    0   \n",
       " 6077-BDPXA            0      ...                                    1   \n",
       " 8943-URTMR            0      ...                                    0   \n",
       " 5980-NOPLP            0      ...                                    1   \n",
       " \n",
       "             PaymentMethod_Mailed check  tenure_group_Tenure_0-12  \\\n",
       " customerID                                                         \n",
       " 5546-QUERU                           1                         0   \n",
       " 2560-QTSBS                           0                         0   \n",
       " 6077-BDPXA                           0                         1   \n",
       " 8943-URTMR                           1                         1   \n",
       " 5980-NOPLP                           0                         0   \n",
       " \n",
       "             tenure_group_Tenure_12-24  tenure_group_Tenure_24-48  \\\n",
       " customerID                                                         \n",
       " 5546-QUERU                          1                          0   \n",
       " 2560-QTSBS                          0                          0   \n",
       " 6077-BDPXA                          0                          0   \n",
       " 8943-URTMR                          0                          0   \n",
       " 5980-NOPLP                          0                          1   \n",
       " \n",
       "             tenure_group_Tenure_48-60  tenure_group_Tenure_gt_60    tenure  \\\n",
       " customerID                                                                   \n",
       " 5546-QUERU                          0                          0 -0.788800   \n",
       " 2560-QTSBS                          0                          1  1.613701   \n",
       " 6077-BDPXA                          0                          0 -1.196004   \n",
       " 8943-URTMR                          0                          0 -1.236724   \n",
       " 5980-NOPLP                          0                          0  0.473531   \n",
       " \n",
       "             MonthlyCharges  TotalCharges  \n",
       " customerID                                \n",
       " 5546-QUERU       -1.489359     -0.654999  \n",
       " 2560-QTSBS       -1.378018      0.187478  \n",
       " 6077-BDPXA        0.179085     -0.646239  \n",
       " 8943-URTMR        0.494827     -0.648397  \n",
       " 5980-NOPLP        1.041558     -0.429462  \n",
       " \n",
       " [5 rows x 31 columns], customerID\n",
       " 5546-QUERU    0\n",
       " 2560-QTSBS    0\n",
       " 6077-BDPXA    0\n",
       " 8943-URTMR    1\n",
       " 5980-NOPLP    1\n",
       " Name: Churn, dtype: int64)"
      ]
     },
     "execution_count": 57,
     "metadata": {},
     "output_type": "execute_result"
    }
   ],
   "source": [
    "X_train.head(), y_train.head(), X_test.head(), y_test.head()"
   ]
  },
  {
   "cell_type": "markdown",
   "metadata": {},
   "source": [
    "# <a id='11'>11. Model Building </a>"
   ]
  },
  {
   "cell_type": "code",
   "execution_count": 58,
   "metadata": {},
   "outputs": [],
   "source": [
    "from sklearn.dummy import DummyClassifier\n",
    "\n",
    "# Feature Selection and Encoding\n",
    "from sklearn.decomposition import PCA\n",
    "from sklearn.preprocessing import OneHotEncoder, LabelEncoder, label_binarize\n",
    "\n",
    "# Machine learning \n",
    "from sklearn import tree , linear_model\n",
    "from sklearn.svm import LinearSVC\n",
    "from sklearn.ensemble import RandomForestClassifier, GradientBoostingClassifier\n",
    "from sklearn.neighbors import KNeighborsClassifier\n",
    "from sklearn.naive_bayes import GaussianNB\n",
    "from sklearn.linear_model import LinearRegression, LogisticRegression, Ridge, Lasso, SGDClassifier\n",
    "from sklearn.tree import DecisionTreeClassifier\n",
    "from xgboost.sklearn import XGBClassifier"
   ]
  },
  {
   "cell_type": "code",
   "execution_count": 59,
   "metadata": {},
   "outputs": [],
   "source": [
    "# validation \n",
    "from sklearn import datasets, model_selection, metrics , preprocessing"
   ]
  },
  {
   "cell_type": "code",
   "execution_count": 60,
   "metadata": {},
   "outputs": [],
   "source": [
    "# Grid and Random Search\n",
    "import scipy.stats as st\n",
    "from scipy.stats import randint as sp_randint\n",
    "from sklearn.model_selection import GridSearchCV\n",
    "from sklearn.model_selection import RandomizedSearchCV"
   ]
  },
  {
   "cell_type": "code",
   "execution_count": 61,
   "metadata": {},
   "outputs": [],
   "source": [
    "# Metrics\n",
    "from sklearn.metrics import precision_recall_fscore_support, roc_curve, auc"
   ]
  },
  {
   "cell_type": "code",
   "execution_count": 62,
   "metadata": {},
   "outputs": [],
   "source": [
    "#utilities\n",
    "import time\n",
    "import io, os, sys, types, time, datetime, math, random"
   ]
  },
  {
   "cell_type": "code",
   "execution_count": 63,
   "metadata": {},
   "outputs": [],
   "source": [
    "# calculate the fpr and tpr for all thresholds of the classification\n",
    "def plot_roc_curve(y_test, preds):\n",
    "    fpr, tpr, threshold = metrics.roc_curve(y_test, preds)\n",
    "    roc_auc = metrics.auc(fpr, tpr)\n",
    "    plt.title('Receiver Operating Characteristic')\n",
    "    plt.plot(fpr, tpr, 'b', label = 'AUC = %0.2f' % roc_auc)\n",
    "    plt.legend(loc = 'lower right')\n",
    "    plt.plot([0, 1], [0, 1],'r--')\n",
    "    plt.xlim([-0.01, 1.01])\n",
    "    plt.ylim([-0.01, 1.01])\n",
    "    plt.ylabel('True Positive Rate')\n",
    "    plt.xlabel('False Positive Rate')\n",
    "    plt.show()\n",
    "\n",
    "    \n",
    "\n",
    "# Function that runs the requested algorithm and returns the accuracy metrics\n",
    "def fit_ml_algo(algo, X_train, y_train, X_test, cv):\n",
    "    # One Pass\n",
    "    model = algo.fit(X_train, y_train)\n",
    "    test_pred = model.predict(X_test)\n",
    "    if (isinstance(algo, (LogisticRegression, \n",
    "                          KNeighborsClassifier, \n",
    "                          GaussianNB, \n",
    "                          DecisionTreeClassifier, \n",
    "                          RandomForestClassifier,\n",
    "                          GradientBoostingClassifier))):\n",
    "        probs = model.predict_proba(X_test)[:,1]\n",
    "    else:\n",
    "        probs = \"Not Available\"\n",
    "    acc = round(model.score(X_test, y_test) * 100, 2) \n",
    "    # CV \n",
    "    train_pred = model_selection.cross_val_predict(algo, \n",
    "                                                  X_train, \n",
    "                                                  y_train, \n",
    "                                                  cv=cv, \n",
    "                                                  n_jobs = -1)\n",
    "    acc_cv = round(metrics.accuracy_score(y_train, train_pred) * 100, 2)\n",
    "    return train_pred, test_pred, acc, acc_cv, probs\n",
    "\n",
    "# Utility function to report best scores\n",
    "def report(results, n_top=5):\n",
    "    for i in range(1, n_top + 1):\n",
    "        candidates = np.flatnonzero(results['rank_test_score'] == i)\n",
    "        for candidate in candidates:\n",
    "            print(\"Model with rank: {0}\".format(i))\n",
    "            print(\"Mean validation score: {0:.3f} (std: {1:.3f})\".format(\n",
    "                  results['mean_test_score'][candidate],\n",
    "                  results['std_test_score'][candidate]))\n",
    "            print(\"Parameters: {0}\".format(results['params'][candidate]))\n",
    "            print(\"\")\n",
    "            "
   ]
  },
  {
   "cell_type": "markdown",
   "metadata": {},
   "source": [
    "### <a id='11.1'> Baseline model with DummyClassifier</a>"
   ]
  },
  {
   "cell_type": "code",
   "execution_count": 64,
   "metadata": {},
   "outputs": [
    {
     "data": {
      "text/plain": [
       "DummyClassifier(constant=None, random_state=0, strategy='most_frequent')"
      ]
     },
     "execution_count": 64,
     "metadata": {},
     "output_type": "execute_result"
    }
   ],
   "source": [
    "clf = DummyClassifier(strategy='most_frequent',random_state=0)\n",
    "clf.fit(X_train, y_train)"
   ]
  },
  {
   "cell_type": "code",
   "execution_count": 65,
   "metadata": {},
   "outputs": [
    {
     "data": {
      "text/plain": [
       "0.7535491198182851"
      ]
     },
     "execution_count": 65,
     "metadata": {},
     "output_type": "execute_result"
    }
   ],
   "source": [
    "accuracy = clf.score(X_test, y_test)  \n",
    "accuracy"
   ]
  },
  {
   "cell_type": "code",
   "execution_count": 66,
   "metadata": {},
   "outputs": [
    {
     "name": "stdout",
     "output_type": "stream",
     "text": [
      "Accuracy: 75.35\n",
      "Accuracy CV 10-Fold: 72.83\n",
      "Running Time: 0:00:01.702752\n",
      "              precision    recall  f1-score   support\n",
      "\n",
      "           0       0.73      1.00      0.84      3847\n",
      "           1       0.00      0.00      0.00      1435\n",
      "\n",
      "   micro avg       0.73      0.73      0.73      5282\n",
      "   macro avg       0.36      0.50      0.42      5282\n",
      "weighted avg       0.53      0.73      0.61      5282\n",
      "\n",
      "              precision    recall  f1-score   support\n",
      "\n",
      "           0       0.75      1.00      0.86      1327\n",
      "           1       0.00      0.00      0.00       434\n",
      "\n",
      "   micro avg       0.75      0.75      0.75      1761\n",
      "   macro avg       0.38      0.50      0.43      1761\n",
      "weighted avg       0.57      0.75      0.65      1761\n",
      "\n"
     ]
    },
    {
     "name": "stderr",
     "output_type": "stream",
     "text": [
      "/Library/Frameworks/Python.framework/Versions/3.5/lib/python3.5/site-packages/sklearn/metrics/classification.py:1143: UndefinedMetricWarning: Precision and F-score are ill-defined and being set to 0.0 in labels with no predicted samples.\n",
      "  'precision', 'predicted', average, warn_for)\n",
      "/Library/Frameworks/Python.framework/Versions/3.5/lib/python3.5/site-packages/sklearn/metrics/classification.py:1143: UndefinedMetricWarning: Precision and F-score are ill-defined and being set to 0.0 in labels with no predicted samples.\n",
      "  'precision', 'predicted', average, warn_for)\n",
      "/Library/Frameworks/Python.framework/Versions/3.5/lib/python3.5/site-packages/sklearn/metrics/classification.py:1143: UndefinedMetricWarning: Precision and F-score are ill-defined and being set to 0.0 in labels with no predicted samples.\n",
      "  'precision', 'predicted', average, warn_for)\n",
      "/Library/Frameworks/Python.framework/Versions/3.5/lib/python3.5/site-packages/sklearn/metrics/classification.py:1143: UndefinedMetricWarning: Precision and F-score are ill-defined and being set to 0.0 in labels with no predicted samples.\n",
      "  'precision', 'predicted', average, warn_for)\n",
      "/Library/Frameworks/Python.framework/Versions/3.5/lib/python3.5/site-packages/sklearn/metrics/classification.py:1143: UndefinedMetricWarning: Precision and F-score are ill-defined and being set to 0.0 in labels with no predicted samples.\n",
      "  'precision', 'predicted', average, warn_for)\n",
      "/Library/Frameworks/Python.framework/Versions/3.5/lib/python3.5/site-packages/sklearn/metrics/classification.py:1143: UndefinedMetricWarning: Precision and F-score are ill-defined and being set to 0.0 in labels with no predicted samples.\n",
      "  'precision', 'predicted', average, warn_for)\n"
     ]
    }
   ],
   "source": [
    "preds = clf.predict(X_test)\n",
    "\n",
    "\n",
    "# dummyistic Regression\n",
    "start_time = time.time()\n",
    "train_pred_dummy, test_pred_dummy, acc_dummy, acc_cv_dummy, probs_dummy = fit_ml_algo(DummyClassifier(strategy='most_frequent',random_state=0), \n",
    "                                                                 X_train, \n",
    "                                                                 y_train, \n",
    "                                                                 X_test, \n",
    "                                                                 10)\n",
    "dummy_time = (time.time() - start_time)\n",
    "print(\"Accuracy: %s\" % acc_dummy)\n",
    "print(\"Accuracy CV 10-Fold: %s\" % acc_cv_dummy)\n",
    "print(\"Running Time: %s\" % datetime.timedelta(seconds=dummy_time))\n",
    "\n",
    "print (metrics.classification_report(y_train, train_pred_dummy))\n",
    "\n",
    "print (metrics.classification_report(y_test, test_pred_dummy))\n"
   ]
  },
  {
   "cell_type": "markdown",
   "metadata": {},
   "source": [
    "## Select Candidate Algorithms\n",
    "\n",
    "### 1. KNN\n",
    "### 2. Logistic Regression\n",
    "### 3. Random Forest\n",
    "### 4. Naive Bayes\n",
    "### 5. Stochastic Gradient Decent\n",
    "### 6. Linear SVC\n",
    "### 7. Decision Tree\n",
    "### 8. Gradient Boosted Trees"
   ]
  },
  {
   "cell_type": "code",
   "execution_count": 67,
   "metadata": {},
   "outputs": [
    {
     "name": "stderr",
     "output_type": "stream",
     "text": [
      "/Library/Frameworks/Python.framework/Versions/3.5/lib/python3.5/site-packages/sklearn/model_selection/_split.py:1943: FutureWarning: You should specify a value for 'cv' instead of relying on the default value. The default value will change from 3 to 5 in version 0.22.\n",
      "  warnings.warn(CV_WARNING, FutureWarning)\n"
     ]
    },
    {
     "name": "stdout",
     "output_type": "stream",
     "text": [
      "RandomizedSearchCV took 6.57 seconds for 10 candidates parameter settings.\n",
      "Model with rank: 1\n",
      "Mean validation score: 0.797 (std: 0.005)\n",
      "Parameters: {'class_weight': None, 'penalty': 'l2', 'intercept_scaling': 79.10242888878624, 'C': 0.9162124725878782}\n",
      "\n",
      "Model with rank: 2\n",
      "Mean validation score: 0.750 (std: 0.003)\n",
      "Parameters: {'class_weight': 'balanced', 'penalty': 'l1', 'intercept_scaling': 400737778.2194741, 'C': 0.07411173640269188}\n",
      "\n",
      "Model with rank: 3\n",
      "Mean validation score: 0.747 (std: 0.002)\n",
      "Parameters: {'class_weight': 'balanced', 'penalty': 'l1', 'intercept_scaling': 0.1287985551269801, 'C': 23.885691224286095}\n",
      "\n",
      "Model with rank: 4\n",
      "Mean validation score: 0.728 (std: 0.000)\n",
      "Parameters: {'class_weight': None, 'penalty': 'l1', 'intercept_scaling': 830217568131.9769, 'C': 0.00045463803563716547}\n",
      "\n",
      "Model with rank: 4\n",
      "Mean validation score: 0.728 (std: 0.000)\n",
      "Parameters: {'class_weight': None, 'penalty': 'l2', 'intercept_scaling': 16558534687.97549, 'C': 3.1992671377973845e-10}\n",
      "\n",
      "Model with rank: 4\n",
      "Mean validation score: 0.728 (std: 0.000)\n",
      "Parameters: {'class_weight': 'balanced', 'penalty': 'l1', 'intercept_scaling': 2.229127006400369e-19, 'C': 3.74332319864344e-08}\n",
      "\n",
      "Model with rank: 4\n",
      "Mean validation score: 0.728 (std: 0.000)\n",
      "Parameters: {'class_weight': None, 'penalty': 'l2', 'intercept_scaling': 3307896824783581.0, 'C': 102447.42574412088}\n",
      "\n",
      "Model with rank: 4\n",
      "Mean validation score: 0.728 (std: 0.000)\n",
      "Parameters: {'class_weight': None, 'penalty': 'l1', 'intercept_scaling': 114500103.85340813, 'C': 7.739071675238022e-14}\n",
      "\n",
      "Model with rank: 4\n",
      "Mean validation score: 0.728 (std: 0.000)\n",
      "Parameters: {'class_weight': None, 'penalty': 'l2', 'intercept_scaling': 4.3247757817264095e+19, 'C': 1.492854225537929}\n",
      "\n"
     ]
    },
    {
     "name": "stderr",
     "output_type": "stream",
     "text": [
      "/Library/Frameworks/Python.framework/Versions/3.5/lib/python3.5/site-packages/sklearn/linear_model/logistic.py:432: FutureWarning: Default solver will be changed to 'lbfgs' in 0.22. Specify a solver to silence this warning.\n",
      "  FutureWarning)\n"
     ]
    }
   ],
   "source": [
    "# Specify parameters and distributions to sample from\n",
    "param_dist = {'penalty': ['l2', 'l1'], \n",
    "                         'class_weight': [None, 'balanced'],\n",
    "                         'C': np.logspace(-20, 20, 10000), \n",
    "                         'intercept_scaling': np.logspace(-20, 20, 10000)}\n",
    "\n",
    "\n",
    "\n",
    "# Run Randomized Search\n",
    "n_iter_search = 10\n",
    "lrc = LogisticRegression()\n",
    "random_search = RandomizedSearchCV(lrc, \n",
    "                                   n_jobs=-1, \n",
    "                                   param_distributions=param_dist, \n",
    "                                   n_iter=n_iter_search)\n",
    "\n",
    "start = time.time()\n",
    "random_search.fit(X_train, y_train)\n",
    "print(\"RandomizedSearchCV took %.2f seconds for %d candidates\"\n",
    "      \" parameter settings.\" % ((time.time() - start), n_iter_search))\n",
    "report(random_search.cv_results_)"
   ]
  },
  {
   "cell_type": "code",
   "execution_count": 68,
   "metadata": {},
   "outputs": [
    {
     "name": "stderr",
     "output_type": "stream",
     "text": [
      "/Library/Frameworks/Python.framework/Versions/3.5/lib/python3.5/site-packages/sklearn/linear_model/logistic.py:432: FutureWarning: Default solver will be changed to 'lbfgs' in 0.22. Specify a solver to silence this warning.\n",
      "  FutureWarning)\n",
      "/Library/Frameworks/Python.framework/Versions/3.5/lib/python3.5/site-packages/sklearn/linear_model/logistic.py:1296: UserWarning: 'n_jobs' > 1 does not have any effect when 'solver' is set to 'liblinear'. Got 'n_jobs' = 12.\n",
      "  \" = {}.\".format(effective_n_jobs(self.n_jobs)))\n"
     ]
    },
    {
     "name": "stdout",
     "output_type": "stream",
     "text": [
      "Accuracy: 80.86\n",
      "Accuracy CV 10-Fold: 80.08\n",
      "Running Time: 0:00:00.150966\n",
      "              precision    recall  f1-score   support\n",
      "\n",
      "           0       0.84      0.90      0.87      3847\n",
      "           1       0.67      0.53      0.59      1435\n",
      "\n",
      "   micro avg       0.80      0.80      0.80      5282\n",
      "   macro avg       0.75      0.71      0.73      5282\n",
      "weighted avg       0.79      0.80      0.79      5282\n",
      "\n",
      "              precision    recall  f1-score   support\n",
      "\n",
      "           0       0.86      0.89      0.88      1327\n",
      "           1       0.63      0.55      0.59       434\n",
      "\n",
      "   micro avg       0.81      0.81      0.81      1761\n",
      "   macro avg       0.74      0.72      0.73      1761\n",
      "weighted avg       0.80      0.81      0.80      1761\n",
      "\n"
     ]
    },
    {
     "data": {
      "image/png": "[encoded data removed]",
      "text/plain": [
       "<Figure size 576x396 with 1 Axes>"
      ]
     },
     "metadata": {},
     "output_type": "display_data"
    }
   ],
   "source": [
    "# Logistic Regression\n",
    "start_time = time.time()\n",
    "train_pred_log, test_pred_log, acc_log, acc_cv_log, probs_log = fit_ml_algo(LogisticRegression(n_jobs = -1), \n",
    "                                                                 X_train, \n",
    "                                                                 y_train, \n",
    "                                                                 X_test, \n",
    "                                                                 10)\n",
    "log_time = (time.time() - start_time)\n",
    "print(\"Accuracy: %s\" % acc_log)\n",
    "print(\"Accuracy CV 10-Fold: %s\" % acc_cv_log)\n",
    "print(\"Running Time: %s\" % datetime.timedelta(seconds=log_time))\n",
    "\n",
    "print (metrics.classification_report(y_train, train_pred_log))\n",
    "\n",
    "print (metrics.classification_report(y_test, test_pred_log))\n",
    "\n",
    "plot_roc_curve(y_test, probs_log)"
   ]
  },
  {
   "cell_type": "code",
   "execution_count": 69,
   "metadata": {},
   "outputs": [
    {
     "name": "stdout",
     "output_type": "stream",
     "text": [
      "Accuracy: 76.77\n",
      "Accuracy CV 10-Fold: 75.27\n",
      "Running Time: 0:00:00.579999\n",
      "              precision    recall  f1-score   support\n",
      "\n",
      "           0       0.82      0.84      0.83      3847\n",
      "           1       0.55      0.52      0.53      1435\n",
      "\n",
      "   micro avg       0.75      0.75      0.75      5282\n",
      "   macro avg       0.69      0.68      0.68      5282\n",
      "weighted avg       0.75      0.75      0.75      5282\n",
      "\n",
      "              precision    recall  f1-score   support\n",
      "\n",
      "           0       0.86      0.83      0.84      1327\n",
      "           1       0.53      0.58      0.55       434\n",
      "\n",
      "   micro avg       0.77      0.77      0.77      1761\n",
      "   macro avg       0.69      0.71      0.70      1761\n",
      "weighted avg       0.78      0.77      0.77      1761\n",
      "\n"
     ]
    },
    {
     "data": {
      "image/png": "[encoded data removed]",
      "text/plain": [
       "<Figure size 576x396 with 1 Axes>"
      ]
     },
     "metadata": {},
     "output_type": "display_data"
    }
   ],
   "source": [
    "# k-Nearest Neighbors\n",
    "start_time = time.time()\n",
    "train_pred_knn, test_pred_knn, acc_knn, acc_cv_knn, probs_knn = fit_ml_algo(KNeighborsClassifier(n_neighbors = 3,\n",
    "                                                                                                 n_jobs = -1), \n",
    "                                                                                                 X_train, \n",
    "                                                                                                 y_train, \n",
    "                                                                                                 X_test, \n",
    "                                                                                                 10)\n",
    "knn_time = (time.time() - start_time)\n",
    "print(\"Accuracy: %s\" % acc_knn)\n",
    "print(\"Accuracy CV 10-Fold: %s\" % acc_cv_knn)\n",
    "print(\"Running Time: %s\" % datetime.timedelta(seconds=knn_time))\n",
    "\n",
    "print (metrics.classification_report(y_train, train_pred_knn))\n",
    "\n",
    "print (metrics.classification_report(y_test, test_pred_knn))\n",
    "\n",
    "plot_roc_curve(y_test, probs_knn)"
   ]
  },
  {
   "cell_type": "code",
   "execution_count": 70,
   "metadata": {},
   "outputs": [
    {
     "name": "stdout",
     "output_type": "stream",
     "text": [
      "Accuracy: 73.54\n",
      "Accuracy CV 10-Fold: 74.61\n",
      "Running Time: 0:00:00.090579\n",
      "              precision    recall  f1-score   support\n",
      "\n",
      "           0       0.90      0.73      0.81      3847\n",
      "           1       0.52      0.78      0.63      1435\n",
      "\n",
      "   micro avg       0.75      0.75      0.75      5282\n",
      "   macro avg       0.71      0.76      0.72      5282\n",
      "weighted avg       0.80      0.75      0.76      5282\n",
      "\n",
      "              precision    recall  f1-score   support\n",
      "\n",
      "           0       0.92      0.71      0.80      1327\n",
      "           1       0.48      0.80      0.60       434\n",
      "\n",
      "   micro avg       0.74      0.74      0.74      1761\n",
      "   macro avg       0.70      0.76      0.70      1761\n",
      "weighted avg       0.81      0.74      0.75      1761\n",
      "\n"
     ]
    },
    {
     "data": {
      "image/png": "[encoded data removed]",
      "text/plain": [
       "<Figure size 576x396 with 1 Axes>"
      ]
     },
     "metadata": {},
     "output_type": "display_data"
    }
   ],
   "source": [
    "# Gaussian Naive Bayes\n",
    "start_time = time.time()\n",
    "train_pred_gaussian, test_pred_gaussian, acc_gaussian, acc_cv_gaussian, probs_gau = fit_ml_algo(GaussianNB(), \n",
    "                                                                                     X_train, \n",
    "                                                                                     y_train, \n",
    "                                                                                     X_test, \n",
    "                                                                                     10)\n",
    "gaussian_time = (time.time() - start_time)\n",
    "print(\"Accuracy: %s\" % acc_gaussian)\n",
    "print(\"Accuracy CV 10-Fold: %s\" % acc_cv_gaussian)\n",
    "print(\"Running Time: %s\" % datetime.timedelta(seconds=gaussian_time))\n",
    "\n",
    "print (metrics.classification_report(y_train, train_pred_gaussian)) \n",
    "\n",
    "print (metrics.classification_report(y_test, test_pred_gaussian)) \n",
    "\n",
    "plot_roc_curve(y_test, probs_gau)"
   ]
  },
  {
   "cell_type": "code",
   "execution_count": 71,
   "metadata": {},
   "outputs": [
    {
     "name": "stdout",
     "output_type": "stream",
     "text": [
      "Accuracy: 73.65\n",
      "Accuracy CV 10-Fold: 72.38\n",
      "Running Time: 0:00:00.138100\n",
      "              precision    recall  f1-score   support\n",
      "\n",
      "           0       0.81      0.81      0.81      3847\n",
      "           1       0.49      0.50      0.50      1435\n",
      "\n",
      "   micro avg       0.72      0.72      0.72      5282\n",
      "   macro avg       0.65      0.65      0.65      5282\n",
      "weighted avg       0.73      0.72      0.72      5282\n",
      "\n",
      "              precision    recall  f1-score   support\n",
      "\n",
      "           0       0.84      0.81      0.82      1327\n",
      "           1       0.47      0.51      0.49       434\n",
      "\n",
      "   micro avg       0.74      0.74      0.74      1761\n",
      "   macro avg       0.65      0.66      0.66      1761\n",
      "weighted avg       0.75      0.74      0.74      1761\n",
      "\n"
     ]
    },
    {
     "data": {
      "image/png": "[encoded data removed]",
      "text/plain": [
       "<Figure size 576x396 with 1 Axes>"
      ]
     },
     "metadata": {},
     "output_type": "display_data"
    }
   ],
   "source": [
    "# Decision Tree Classifier\n",
    "start_time = time.time()\n",
    "train_pred_dt, test_pred_dt, acc_dt, acc_cv_dt, probs_dt = fit_ml_algo(DecisionTreeClassifier(), \n",
    "                                                             X_train, \n",
    "                                                             y_train, \n",
    "                                                             X_test, \n",
    "                                                             10)\n",
    "dt_time = (time.time() - start_time)\n",
    "print(\"Accuracy: %s\" % acc_dt)\n",
    "print(\"Accuracy CV 10-Fold: %s\" % acc_cv_dt)\n",
    "print(\"Running Time: %s\" % datetime.timedelta(seconds=dt_time))\n",
    "\n",
    "print (metrics.classification_report(y_train, train_pred_dt))\n",
    "\n",
    "print (metrics.classification_report(y_test, test_pred_dt))\n",
    "\n",
    "plot_roc_curve(y_test, probs_dt)"
   ]
  },
  {
   "cell_type": "code",
   "execution_count": 72,
   "metadata": {},
   "outputs": [
    {
     "name": "stderr",
     "output_type": "stream",
     "text": [
      "/Library/Frameworks/Python.framework/Versions/3.5/lib/python3.5/site-packages/sklearn/model_selection/_split.py:1943: FutureWarning: You should specify a value for 'cv' instead of relying on the default value. The default value will change from 3 to 5 in version 0.22.\n",
      "  warnings.warn(CV_WARNING, FutureWarning)\n"
     ]
    },
    {
     "name": "stdout",
     "output_type": "stream",
     "text": [
      "RandomizedSearchCV took 0.68 seconds for 10 candidates parameter settings.\n",
      "Model with rank: 1\n",
      "Mean validation score: 0.794 (std: 0.001)\n",
      "Parameters: {'max_depth': 10, 'bootstrap': False, 'min_samples_split': 12, 'criterion': 'entropy', 'min_samples_leaf': 6, 'max_features': 3}\n",
      "\n",
      "Model with rank: 2\n",
      "Mean validation score: 0.793 (std: 0.008)\n",
      "Parameters: {'max_depth': None, 'bootstrap': True, 'min_samples_split': 14, 'criterion': 'gini', 'min_samples_leaf': 7, 'max_features': 5}\n",
      "\n",
      "Model with rank: 3\n",
      "Mean validation score: 0.793 (std: 0.004)\n",
      "Parameters: {'max_depth': None, 'bootstrap': False, 'min_samples_split': 3, 'criterion': 'gini', 'min_samples_leaf': 7, 'max_features': 4}\n",
      "\n",
      "Model with rank: 4\n",
      "Mean validation score: 0.793 (std: 0.007)\n",
      "Parameters: {'max_depth': 10, 'bootstrap': True, 'min_samples_split': 3, 'criterion': 'entropy', 'min_samples_leaf': 5, 'max_features': 10}\n",
      "\n",
      "Model with rank: 4\n",
      "Mean validation score: 0.793 (std: 0.002)\n",
      "Parameters: {'max_depth': 10, 'bootstrap': True, 'min_samples_split': 7, 'criterion': 'gini', 'min_samples_leaf': 5, 'max_features': 6}\n",
      "\n"
     ]
    }
   ],
   "source": [
    "# Random Forest Classifier - Random Search for Hyperparameters\n",
    "\n",
    "# Utility function to report best scores\n",
    "def report(results, n_top=5):\n",
    "    for i in range(1, n_top + 1):\n",
    "        candidates = np.flatnonzero(results['rank_test_score'] == i)\n",
    "        for candidate in candidates:\n",
    "            print(\"Model with rank: {0}\".format(i))\n",
    "            print(\"Mean validation score: {0:.3f} (std: {1:.3f})\".format(\n",
    "                  results['mean_test_score'][candidate],\n",
    "                  results['std_test_score'][candidate]))\n",
    "            print(\"Parameters: {0}\".format(results['params'][candidate]))\n",
    "            print(\"\")\n",
    "            \n",
    "# Specify parameters and distributions to sample from\n",
    "param_dist = {\"max_depth\": [10, None],\n",
    "              \"max_features\": sp_randint(1, 11),\n",
    "              \"min_samples_split\": sp_randint(2, 20),\n",
    "              \"min_samples_leaf\": sp_randint(1, 11),\n",
    "              \"bootstrap\": [True, False],\n",
    "              \"criterion\": [\"gini\", \"entropy\"]}\n",
    "\n",
    "\n",
    "# Run Randomized Search\n",
    "n_iter_search = 10\n",
    "rfc = RandomForestClassifier(n_estimators=10)\n",
    "random_search = RandomizedSearchCV(rfc, \n",
    "                                   n_jobs = -1, \n",
    "                                   param_distributions=param_dist, \n",
    "                                   n_iter=n_iter_search)\n",
    "\n",
    "start = time.time()\n",
    "random_search.fit(X_train, y_train)\n",
    "print(\"RandomizedSearchCV took %.2f seconds for %d candidates\"\n",
    "      \" parameter settings.\" % ((time.time() - start), n_iter_search))\n",
    "report(random_search.cv_results_)"
   ]
  },
  {
   "cell_type": "code",
   "execution_count": 73,
   "metadata": {},
   "outputs": [
    {
     "name": "stdout",
     "output_type": "stream",
     "text": [
      "Accuracy: 80.47\n",
      "Accuracy CV 10-Fold: 78.95\n",
      "Running Time: 0:00:00.267243\n",
      "              precision    recall  f1-score   support\n",
      "\n",
      "           0       0.83      0.89      0.86      3847\n",
      "           1       0.64      0.51      0.57      1435\n",
      "\n",
      "   micro avg       0.79      0.79      0.79      5282\n",
      "   macro avg       0.74      0.70      0.72      5282\n",
      "weighted avg       0.78      0.79      0.78      5282\n",
      "\n",
      "              precision    recall  f1-score   support\n",
      "\n",
      "           0       0.86      0.89      0.87      1327\n",
      "           1       0.62      0.54      0.58       434\n",
      "\n",
      "   micro avg       0.80      0.80      0.80      1761\n",
      "   macro avg       0.74      0.72      0.73      1761\n",
      "weighted avg       0.80      0.80      0.80      1761\n",
      "\n"
     ]
    },
    {
     "data": {
      "image/png": "[encoded data removed]",
      "text/plain": [
       "<Figure size 576x396 with 1 Axes>"
      ]
     },
     "metadata": {},
     "output_type": "display_data"
    }
   ],
   "source": [
    "# Random Forest Classifier\n",
    "start_time = time.time()\n",
    "rfc = RandomForestClassifier(n_estimators=10, \n",
    "                             min_samples_leaf=2,\n",
    "                             min_samples_split=17, \n",
    "                             criterion='gini', \n",
    "                             max_features=8)\n",
    "train_pred_rf, test_pred_rf, acc_rf, acc_cv_rf, probs_rf = fit_ml_algo(rfc, \n",
    "                                                             X_train, \n",
    "                                                             y_train, \n",
    "                                                             X_test, \n",
    "                                                             10)\n",
    "rf_time = (time.time() - start_time)\n",
    "print(\"Accuracy: %s\" % acc_rf)\n",
    "print(\"Accuracy CV 10-Fold: %s\" % acc_cv_rf)\n",
    "print(\"Running Time: %s\" % datetime.timedelta(seconds=rf_time))\n",
    "\n",
    "print (metrics.classification_report(y_train, train_pred_rf)) \n",
    "\n",
    "print (metrics.classification_report(y_test, test_pred_rf))\n",
    "\n",
    "plot_roc_curve(y_test, probs_rf)"
   ]
  },
  {
   "cell_type": "code",
   "execution_count": 74,
   "metadata": {},
   "outputs": [
    {
     "name": "stdout",
     "output_type": "stream",
     "text": [
      "Accuracy: 80.41\n",
      "Accuracy CV 10-Fold: 79.72\n",
      "Running Time: 0:00:01.263564\n",
      "              precision    recall  f1-score   support\n",
      "\n",
      "           0       0.84      0.90      0.87      3847\n",
      "           1       0.66      0.53      0.59      1435\n",
      "\n",
      "   micro avg       0.80      0.80      0.80      5282\n",
      "   macro avg       0.75      0.71      0.73      5282\n",
      "weighted avg       0.79      0.80      0.79      5282\n",
      "\n",
      "              precision    recall  f1-score   support\n",
      "\n",
      "           0       0.86      0.89      0.87      1327\n",
      "           1       0.61      0.55      0.58       434\n",
      "\n",
      "   micro avg       0.80      0.80      0.80      1761\n",
      "   macro avg       0.74      0.72      0.73      1761\n",
      "weighted avg       0.80      0.80      0.80      1761\n",
      "\n"
     ]
    },
    {
     "data": {
      "image/png": "[encoded data removed]",
      "text/plain": [
       "<Figure size 576x396 with 1 Axes>"
      ]
     },
     "metadata": {},
     "output_type": "display_data"
    }
   ],
   "source": [
    "# Gradient Boosting Trees\n",
    "start_time = time.time()\n",
    "train_pred_gbt, test_pred_gbt, acc_gbt, acc_cv_gbt, probs_gbt = fit_ml_algo(GradientBoostingClassifier(), \n",
    "                                                                 X_train, \n",
    "                                                                 y_train, \n",
    "                                                                 X_test, \n",
    "                                                                 10)\n",
    "gbt_time = (time.time() - start_time)\n",
    "print(\"Accuracy: %s\" % acc_gbt)\n",
    "print(\"Accuracy CV 10-Fold: %s\" % acc_cv_gbt)\n",
    "print(\"Running Time: %s\" % datetime.timedelta(seconds=gbt_time))\n",
    "\n",
    "print (metrics.classification_report(y_train, train_pred_gbt)) \n",
    "\n",
    "print (metrics.classification_report(y_test, test_pred_gbt))\n",
    "\n",
    "plot_roc_curve(y_test, probs_gbt)"
   ]
  },
  {
   "cell_type": "code",
   "execution_count": 75,
   "metadata": {},
   "outputs": [
    {
     "name": "stdout",
     "output_type": "stream",
     "text": [
      "[11:10:27] src/tree/updater_prune.cc:74: tree pruning end, 1 roots, 24 extra nodes, 0 pruned nodes, max_depth=4\n",
      "[0]\tvalidation_0-error:0.216585\tvalidation_1-error:0.236229\tvalidation_0-f1:0.642053\tvalidation_1-f1:0.597679\n",
      "Multiple eval metrics have been passed: 'validation_1-f1' will be used for early stopping.\n",
      "\n",
      "Will train until validation_1-f1 hasn't improved in 20 rounds.\n",
      "[11:10:27] src/tree/updater_prune.cc:74: tree pruning end, 1 roots, 24 extra nodes, 0 pruned nodes, max_depth=4\n",
      "[1]\tvalidation_0-error:0.217721\tvalidation_1-error:0.236797\tvalidation_0-f1:0.641521\tvalidation_1-f1:0.597878\n",
      "[11:10:27] src/tree/updater_prune.cc:74: tree pruning end, 1 roots, 24 extra nodes, 0 pruned nodes, max_depth=4\n",
      "[2]\tvalidation_0-error:0.215827\tvalidation_1-error:0.235662\tvalidation_0-f1:0.643304\tvalidation_1-f1:0.599807\n",
      "[11:10:28] src/tree/updater_prune.cc:74: tree pruning end, 1 roots, 22 extra nodes, 4 pruned nodes, max_depth=4\n",
      "[3]\tvalidation_0-error:0.21507\tvalidation_1-error:0.232822\tvalidation_0-f1:0.642317\tvalidation_1-f1:0.601167\n",
      "[11:10:28] src/tree/updater_prune.cc:74: tree pruning end, 1 roots, 26 extra nodes, 0 pruned nodes, max_depth=4\n",
      "[4]\tvalidation_0-error:0.214123\tvalidation_1-error:0.232254\tvalidation_0-f1:0.641066\tvalidation_1-f1:0.597044\n",
      "[11:10:28] src/tree/updater_prune.cc:74: tree pruning end, 1 roots, 22 extra nodes, 2 pruned nodes, max_depth=4\n",
      "[5]\tvalidation_0-error:0.203711\tvalidation_1-error:0.214083\tvalidation_0-f1:0.643944\tvalidation_1-f1:0.606061\n",
      "[11:10:28] src/tree/updater_prune.cc:74: tree pruning end, 1 roots, 24 extra nodes, 6 pruned nodes, max_depth=4\n",
      "[6]\tvalidation_0-error:0.207119\tvalidation_1-error:0.21749\tvalidation_0-f1:0.641547\tvalidation_1-f1:0.608784\n",
      "[11:10:28] src/tree/updater_prune.cc:74: tree pruning end, 1 roots, 20 extra nodes, 2 pruned nodes, max_depth=4\n",
      "[7]\tvalidation_0-error:0.203143\tvalidation_1-error:0.212379\tvalidation_0-f1:0.645991\tvalidation_1-f1:0.613636\n",
      "[11:10:28] src/tree/updater_prune.cc:74: tree pruning end, 1 roots, 20 extra nodes, 2 pruned nodes, max_depth=4\n",
      "[8]\tvalidation_0-error:0.202196\tvalidation_1-error:0.212379\tvalidation_0-f1:0.648915\tvalidation_1-f1:0.614433\n",
      "[11:10:28] src/tree/updater_prune.cc:74: tree pruning end, 1 roots, 24 extra nodes, 0 pruned nodes, max_depth=4\n",
      "[9]\tvalidation_0-error:0.201628\tvalidation_1-error:0.207269\tvalidation_0-f1:0.647934\tvalidation_1-f1:0.620187\n",
      "[11:10:28] src/tree/updater_prune.cc:74: tree pruning end, 1 roots, 24 extra nodes, 0 pruned nodes, max_depth=4\n",
      "[10]\tvalidation_0-error:0.202575\tvalidation_1-error:0.210676\tvalidation_0-f1:0.646631\tvalidation_1-f1:0.615544\n",
      "[11:10:28] src/tree/updater_prune.cc:74: tree pruning end, 1 roots, 28 extra nodes, 0 pruned nodes, max_depth=4\n",
      "[11]\tvalidation_0-error:0.202196\tvalidation_1-error:0.20954\tvalidation_0-f1:0.646825\tvalidation_1-f1:0.615224\n",
      "[11:10:28] src/tree/updater_prune.cc:74: tree pruning end, 1 roots, 28 extra nodes, 2 pruned nodes, max_depth=4\n",
      "[12]\tvalidation_0-error:0.203143\tvalidation_1-error:0.20954\tvalidation_0-f1:0.645758\tvalidation_1-f1:0.616822\n",
      "[11:10:28] src/tree/updater_prune.cc:74: tree pruning end, 1 roots, 22 extra nodes, 2 pruned nodes, max_depth=4\n",
      "[13]\tvalidation_0-error:0.202575\tvalidation_1-error:0.212947\tvalidation_0-f1:0.648026\tvalidation_1-f1:0.614594\n",
      "[11:10:28] src/tree/updater_prune.cc:74: tree pruning end, 1 roots, 28 extra nodes, 2 pruned nodes, max_depth=4\n",
      "[14]\tvalidation_0-error:0.202575\tvalidation_1-error:0.213515\tvalidation_0-f1:0.64872\tvalidation_1-f1:0.615542\n",
      "[11:10:28] src/tree/updater_prune.cc:74: tree pruning end, 1 roots, 22 extra nodes, 4 pruned nodes, max_depth=4\n",
      "[15]\tvalidation_0-error:0.202953\tvalidation_1-error:0.214651\tvalidation_0-f1:0.648525\tvalidation_1-f1:0.614286\n",
      "[11:10:28] src/tree/updater_prune.cc:74: tree pruning end, 1 roots, 28 extra nodes, 2 pruned nodes, max_depth=4\n",
      "[16]\tvalidation_0-error:0.202953\tvalidation_1-error:0.212379\tvalidation_0-f1:0.648294\tvalidation_1-f1:0.616016\n",
      "[11:10:28] src/tree/updater_prune.cc:74: tree pruning end, 1 roots, 22 extra nodes, 6 pruned nodes, max_depth=4\n",
      "[17]\tvalidation_0-error:0.202764\tvalidation_1-error:0.212379\tvalidation_0-f1:0.648507\tvalidation_1-f1:0.615226\n",
      "[11:10:28] src/tree/updater_prune.cc:74: tree pruning end, 1 roots, 30 extra nodes, 0 pruned nodes, max_depth=4\n",
      "[18]\tvalidation_0-error:0.200871\tvalidation_1-error:0.208972\tvalidation_0-f1:0.650642\tvalidation_1-f1:0.619048\n",
      "[11:10:28] src/tree/updater_prune.cc:74: tree pruning end, 1 roots, 26 extra nodes, 2 pruned nodes, max_depth=4\n",
      "[19]\tvalidation_0-error:0.201628\tvalidation_1-error:0.207836\tvalidation_0-f1:0.648631\tvalidation_1-f1:0.621118\n",
      "[11:10:28] src/tree/updater_prune.cc:74: tree pruning end, 1 roots, 22 extra nodes, 2 pruned nodes, max_depth=4\n",
      "[20]\tvalidation_0-error:0.200114\tvalidation_1-error:0.206133\tvalidation_0-f1:0.65173\tvalidation_1-f1:0.624612\n",
      "[11:10:28] src/tree/updater_prune.cc:74: tree pruning end, 1 roots, 30 extra nodes, 0 pruned nodes, max_depth=4\n",
      "[21]\tvalidation_0-error:0.199167\tvalidation_1-error:0.207269\tvalidation_0-f1:0.652346\tvalidation_1-f1:0.621762\n",
      "[11:10:28] src/tree/updater_prune.cc:74: tree pruning end, 1 roots, 22 extra nodes, 4 pruned nodes, max_depth=4\n",
      "[22]\tvalidation_0-error:0.19841\tvalidation_1-error:0.206701\tvalidation_0-f1:0.653668\tvalidation_1-f1:0.622407\n",
      "[11:10:28] src/tree/updater_prune.cc:74: tree pruning end, 1 roots, 24 extra nodes, 0 pruned nodes, max_depth=4\n",
      "[23]\tvalidation_0-error:0.198599\tvalidation_1-error:0.205565\tvalidation_0-f1:0.653452\tvalidation_1-f1:0.625259\n",
      "[11:10:28] src/tree/updater_prune.cc:74: tree pruning end, 1 roots, 26 extra nodes, 4 pruned nodes, max_depth=4\n",
      "[24]\tvalidation_0-error:0.197652\tvalidation_1-error:0.206701\tvalidation_0-f1:0.655673\tvalidation_1-f1:0.625514\n",
      "Stopping. Best iteration:\n",
      "[4]\tvalidation_0-error:0.214123\tvalidation_1-error:0.232254\tvalidation_0-f1:0.641066\tvalidation_1-f1:0.597044\n",
      "\n"
     ]
    }
   ],
   "source": [
    "def xgb_f1(y, t):\n",
    "    #\n",
    "    # Function to evaluate the prediction based on F1 score, this will be used as evaluation metric when training xgboost model\n",
    "    # Args:\n",
    "    #   y: label\n",
    "    #   t: predicted\n",
    "    #\n",
    "    # Return:\n",
    "    #   f1: F1 score of the actual and predicted\n",
    "    #\n",
    "    t = t.get_label()\n",
    "    y_bin = [1. if y_cont > 0.5 else 0. for y_cont in y]   # change the prob to class output\n",
    "    return 'f1', f1_score(t, y_bin)\n",
    "\n",
    "best_xgb = XGBClassifier(objective = 'binary:logistic',\n",
    "                         colsample_bylevel = 0.7,\n",
    "                         colsample_bytree = 0.8,\n",
    "                         gamma = 1,\n",
    "                         learning_rate = 0.15,\n",
    "                         max_delta_step = 3,\n",
    "                         max_depth = 4,\n",
    "                         min_child_weight = 1,\n",
    "                         n_estimators = 50,\n",
    "                         reg_lambda = 10,\n",
    "                         scale_pos_weight = 1.5,\n",
    "                         subsample = 0.9,\n",
    "                         silent = False,\n",
    "                         n_jobs = 4\n",
    "                        )\n",
    "\n",
    "xgbst = best_xgb.fit(X_train, y_train, eval_metric = xgb_f1, eval_set = [(X_train, y_train), (X_test, y_test)], \n",
    "             early_stopping_rounds = 20)"
   ]
  },
  {
   "cell_type": "code",
   "execution_count": 76,
   "metadata": {},
   "outputs": [
    {
     "name": "stdout",
     "output_type": "stream",
     "text": [
      "[11:10:28] src/tree/updater_prune.cc:74: tree pruning end, 1 roots, 24 extra nodes, 0 pruned nodes, max_depth=4\n",
      "[11:10:28] src/tree/updater_prune.cc:74: tree pruning end, 1 roots, 24 extra nodes, 0 pruned nodes, max_depth=4\n",
      "[11:10:28] src/tree/updater_prune.cc:74: tree pruning end, 1 roots, 24 extra nodes, 0 pruned nodes, max_depth=4\n",
      "[11:10:28] src/tree/updater_prune.cc:74: tree pruning end, 1 roots, 22 extra nodes, 4 pruned nodes, max_depth=4\n",
      "[11:10:28] src/tree/updater_prune.cc:74: tree pruning end, 1 roots, 26 extra nodes, 0 pruned nodes, max_depth=4\n",
      "[11:10:28] src/tree/updater_prune.cc:74: tree pruning end, 1 roots, 22 extra nodes, 2 pruned nodes, max_depth=4\n",
      "[11:10:28] src/tree/updater_prune.cc:74: tree pruning end, 1 roots, 24 extra nodes, 6 pruned nodes, max_depth=4\n",
      "[11:10:28] src/tree/updater_prune.cc:74: tree pruning end, 1 roots, 20 extra nodes, 2 pruned nodes, max_depth=4\n",
      "[11:10:28] src/tree/updater_prune.cc:74: tree pruning end, 1 roots, 20 extra nodes, 2 pruned nodes, max_depth=4\n",
      "[11:10:28] src/tree/updater_prune.cc:74: tree pruning end, 1 roots, 24 extra nodes, 0 pruned nodes, max_depth=4\n",
      "[11:10:28] src/tree/updater_prune.cc:74: tree pruning end, 1 roots, 24 extra nodes, 0 pruned nodes, max_depth=4\n",
      "[11:10:28] src/tree/updater_prune.cc:74: tree pruning end, 1 roots, 28 extra nodes, 0 pruned nodes, max_depth=4\n",
      "[11:10:28] src/tree/updater_prune.cc:74: tree pruning end, 1 roots, 28 extra nodes, 2 pruned nodes, max_depth=4\n",
      "[11:10:28] src/tree/updater_prune.cc:74: tree pruning end, 1 roots, 22 extra nodes, 2 pruned nodes, max_depth=4\n",
      "[11:10:28] src/tree/updater_prune.cc:74: tree pruning end, 1 roots, 28 extra nodes, 2 pruned nodes, max_depth=4\n",
      "[11:10:28] src/tree/updater_prune.cc:74: tree pruning end, 1 roots, 22 extra nodes, 4 pruned nodes, max_depth=4\n",
      "[11:10:28] src/tree/updater_prune.cc:74: tree pruning end, 1 roots, 28 extra nodes, 2 pruned nodes, max_depth=4\n",
      "[11:10:28] src/tree/updater_prune.cc:74: tree pruning end, 1 roots, 22 extra nodes, 6 pruned nodes, max_depth=4\n",
      "[11:10:28] src/tree/updater_prune.cc:74: tree pruning end, 1 roots, 30 extra nodes, 0 pruned nodes, max_depth=4\n",
      "[11:10:28] src/tree/updater_prune.cc:74: tree pruning end, 1 roots, 26 extra nodes, 2 pruned nodes, max_depth=4\n",
      "[11:10:28] src/tree/updater_prune.cc:74: tree pruning end, 1 roots, 22 extra nodes, 2 pruned nodes, max_depth=4\n",
      "[11:10:28] src/tree/updater_prune.cc:74: tree pruning end, 1 roots, 30 extra nodes, 0 pruned nodes, max_depth=4\n",
      "[11:10:28] src/tree/updater_prune.cc:74: tree pruning end, 1 roots, 22 extra nodes, 4 pruned nodes, max_depth=4\n",
      "[11:10:28] src/tree/updater_prune.cc:74: tree pruning end, 1 roots, 24 extra nodes, 0 pruned nodes, max_depth=4\n",
      "[11:10:28] src/tree/updater_prune.cc:74: tree pruning end, 1 roots, 26 extra nodes, 4 pruned nodes, max_depth=4\n",
      "[11:10:28] src/tree/updater_prune.cc:74: tree pruning end, 1 roots, 16 extra nodes, 4 pruned nodes, max_depth=4\n",
      "[11:10:28] src/tree/updater_prune.cc:74: tree pruning end, 1 roots, 28 extra nodes, 2 pruned nodes, max_depth=4\n",
      "[11:10:28] src/tree/updater_prune.cc:74: tree pruning end, 1 roots, 28 extra nodes, 0 pruned nodes, max_depth=4\n",
      "[11:10:28] src/tree/updater_prune.cc:74: tree pruning end, 1 roots, 20 extra nodes, 6 pruned nodes, max_depth=4\n",
      "[11:10:28] src/tree/updater_prune.cc:74: tree pruning end, 1 roots, 22 extra nodes, 6 pruned nodes, max_depth=4\n",
      "[11:10:28] src/tree/updater_prune.cc:74: tree pruning end, 1 roots, 26 extra nodes, 4 pruned nodes, max_depth=4\n",
      "[11:10:28] src/tree/updater_prune.cc:74: tree pruning end, 1 roots, 22 extra nodes, 8 pruned nodes, max_depth=4\n",
      "[11:10:28] src/tree/updater_prune.cc:74: tree pruning end, 1 roots, 30 extra nodes, 0 pruned nodes, max_depth=4\n",
      "[11:10:28] src/tree/updater_prune.cc:74: tree pruning end, 1 roots, 28 extra nodes, 2 pruned nodes, max_depth=4\n",
      "[11:10:28] src/tree/updater_prune.cc:74: tree pruning end, 1 roots, 22 extra nodes, 6 pruned nodes, max_depth=4\n",
      "[11:10:28] src/tree/updater_prune.cc:74: tree pruning end, 1 roots, 24 extra nodes, 4 pruned nodes, max_depth=4\n",
      "[11:10:28] src/tree/updater_prune.cc:74: tree pruning end, 1 roots, 30 extra nodes, 0 pruned nodes, max_depth=4\n",
      "[11:10:28] src/tree/updater_prune.cc:74: tree pruning end, 1 roots, 14 extra nodes, 0 pruned nodes, max_depth=4\n",
      "[11:10:28] src/tree/updater_prune.cc:74: tree pruning end, 1 roots, 26 extra nodes, 0 pruned nodes, max_depth=4\n",
      "[11:10:28] src/tree/updater_prune.cc:74: tree pruning end, 1 roots, 28 extra nodes, 0 pruned nodes, max_depth=4\n",
      "[11:10:28] src/tree/updater_prune.cc:74: tree pruning end, 1 roots, 26 extra nodes, 4 pruned nodes, max_depth=4\n",
      "[11:10:29] src/tree/updater_prune.cc:74: tree pruning end, 1 roots, 22 extra nodes, 6 pruned nodes, max_depth=4\n",
      "[11:10:29] src/tree/updater_prune.cc:74: tree pruning end, 1 roots, 14 extra nodes, 4 pruned nodes, max_depth=4\n",
      "[11:10:29] src/tree/updater_prune.cc:74: tree pruning end, 1 roots, 16 extra nodes, 4 pruned nodes, max_depth=4\n",
      "[11:10:29] src/tree/updater_prune.cc:74: tree pruning end, 1 roots, 30 extra nodes, 0 pruned nodes, max_depth=4\n",
      "[11:10:29] src/tree/updater_prune.cc:74: tree pruning end, 1 roots, 24 extra nodes, 6 pruned nodes, max_depth=4\n",
      "[11:10:29] src/tree/updater_prune.cc:74: tree pruning end, 1 roots, 28 extra nodes, 2 pruned nodes, max_depth=4\n",
      "[11:10:29] src/tree/updater_prune.cc:74: tree pruning end, 1 roots, 16 extra nodes, 6 pruned nodes, max_depth=4\n",
      "[11:10:29] src/tree/updater_prune.cc:74: tree pruning end, 1 roots, 24 extra nodes, 2 pruned nodes, max_depth=4\n",
      "[11:10:29] src/tree/updater_prune.cc:74: tree pruning end, 1 roots, 28 extra nodes, 0 pruned nodes, max_depth=4\n"
     ]
    }
   ],
   "source": [
    "train_pred_xgbst, test_pred_xgbst, acc_xgbst, acc_cv_xgbst, probs_xgbst = fit_ml_algo(xgbst, \n",
    "                                                             X_train, \n",
    "                                                             y_train, \n",
    "                                                             X_test, \n",
    "                                                             10)"
   ]
  },
  {
   "cell_type": "code",
   "execution_count": 77,
   "metadata": {},
   "outputs": [
    {
     "data": {
      "image/png": "[encoded data removed]",
      "text/plain": [
       "<Figure size 576x396 with 1 Axes>"
      ]
     },
     "metadata": {},
     "output_type": "display_data"
    }
   ],
   "source": [
    "import xgboost as xgb\n",
    "xgb.plot_importance(best_xgb, max_num_features = 15)\n",
    "plt.show();"
   ]
  },
  {
   "cell_type": "markdown",
   "metadata": {},
   "source": [
    "## <a id='' > Compare all models </a>"
   ]
  },
  {
   "cell_type": "code",
   "execution_count": 78,
   "metadata": {},
   "outputs": [
    {
     "data": {
      "text/html": [
       "<div>\n",
       "<style scoped>\n",
       "    .dataframe tbody tr th:only-of-type {\n",
       "        vertical-align: middle;\n",
       "    }\n",
       "\n",
       "    .dataframe tbody tr th {\n",
       "        vertical-align: top;\n",
       "    }\n",
       "\n",
       "    .dataframe thead th {\n",
       "        text-align: right;\n",
       "    }\n",
       "</style>\n",
       "<table border=\"1\" class=\"dataframe\">\n",
       "  <thead>\n",
       "    <tr style=\"text-align: right;\">\n",
       "      <th></th>\n",
       "      <th>Model</th>\n",
       "      <th>Score</th>\n",
       "    </tr>\n",
       "  </thead>\n",
       "  <tbody>\n",
       "    <tr>\n",
       "      <th>1</th>\n",
       "      <td>Logistic Regression</td>\n",
       "      <td>80.86</td>\n",
       "    </tr>\n",
       "    <tr>\n",
       "      <th>2</th>\n",
       "      <td>Random Forest</td>\n",
       "      <td>80.47</td>\n",
       "    </tr>\n",
       "    <tr>\n",
       "      <th>5</th>\n",
       "      <td>Gradient Boosting Trees</td>\n",
       "      <td>80.41</td>\n",
       "    </tr>\n",
       "    <tr>\n",
       "      <th>0</th>\n",
       "      <td>KNN</td>\n",
       "      <td>76.77</td>\n",
       "    </tr>\n",
       "    <tr>\n",
       "      <th>4</th>\n",
       "      <td>Decision Tree</td>\n",
       "      <td>73.65</td>\n",
       "    </tr>\n",
       "    <tr>\n",
       "      <th>3</th>\n",
       "      <td>Naive Bayes</td>\n",
       "      <td>73.54</td>\n",
       "    </tr>\n",
       "  </tbody>\n",
       "</table>\n",
       "</div>"
      ],
      "text/plain": [
       "                     Model  Score\n",
       "1      Logistic Regression  80.86\n",
       "2            Random Forest  80.47\n",
       "5  Gradient Boosting Trees  80.41\n",
       "0                      KNN  76.77\n",
       "4            Decision Tree  73.65\n",
       "3              Naive Bayes  73.54"
      ]
     },
     "execution_count": 78,
     "metadata": {},
     "output_type": "execute_result"
    }
   ],
   "source": [
    "models = pd.DataFrame({\n",
    "    'Model': ['KNN', 'Logistic Regression', \n",
    "              'Random Forest', 'Naive Bayes', \n",
    "               \n",
    "              'Decision Tree', \n",
    "              'Gradient Boosting Trees'],\n",
    "    'Score': [\n",
    "        acc_knn, \n",
    "        acc_log, \n",
    "        acc_rf, \n",
    "        acc_gaussian, \n",
    "        acc_dt,\n",
    "        acc_gbt,\n",
    "        \n",
    "    ]})\n",
    "models.sort_values(by='Score', ascending=False)"
   ]
  },
  {
   "cell_type": "code",
   "execution_count": 79,
   "metadata": {},
   "outputs": [],
   "source": [
    "\n",
    "models = [\n",
    "    'KNN', \n",
    "    'Logistic Regression', \n",
    "    'Random Forest', \n",
    "    'Naive Bayes', \n",
    "    'Decision Tree', \n",
    "    'Gradient Boosting Trees',\n",
    "    \n",
    "]\n",
    "probs = [\n",
    "    probs_knn,\n",
    "    probs_log,\n",
    "    probs_rf,\n",
    "    probs_gau,\n",
    "    probs_dt,\n",
    "    probs_gbt\n",
    "]\n",
    "colors = [\n",
    "    'blue',\n",
    "    'green',\n",
    "    'red',\n",
    "    'cyan',\n",
    "    'magenta',\n",
    "    'yellow',\n",
    "    'black',\n",
    "]"
   ]
  },
  {
   "cell_type": "code",
   "execution_count": 80,
   "metadata": {},
   "outputs": [
    {
     "data": {
      "image/png": "[encoded data removed]",
      "text/plain": [
       "<Figure size 576x396 with 1 Axes>"
      ]
     },
     "metadata": {},
     "output_type": "display_data"
    }
   ],
   "source": [
    "def plot_roc_curves(y_test, prob, model):\n",
    "    fpr, tpr, threshold = metrics.roc_curve(y_test, prob)\n",
    "    roc_auc = metrics.auc(fpr, tpr)\n",
    "    plt.plot(fpr, tpr, 'b', label = model + ' AUC = %0.2f' % roc_auc, color=colors[i])\n",
    "    plt.legend(loc = 'lower right')\n",
    "    \n",
    "for i, model in list(enumerate(models)):\n",
    "    plot_roc_curves(y_test, probs[i], models[i])\n",
    "    \n",
    "plt.show()"
   ]
  },
  {
   "cell_type": "markdown",
   "metadata": {},
   "source": [
    "## Interpretation "
   ]
  },
  {
   "cell_type": "markdown",
   "metadata": {},
   "source": [
    "## [To Do ] : Make Conclusions from the above graph and Probability scores from the test dataset"
   ]
  },
  {
   "cell_type": "code",
   "execution_count": null,
   "metadata": {},
   "outputs": [],
   "source": []
  },
  {
   "cell_type": "code",
   "execution_count": null,
   "metadata": {},
   "outputs": [],
   "source": []
  },
  {
   "cell_type": "code",
   "execution_count": null,
   "metadata": {},
   "outputs": [],
   "source": []
  },
  {
   "cell_type": "code",
   "execution_count": null,
   "metadata": {},
   "outputs": [],
   "source": []
  },
  {
   "cell_type": "markdown",
   "metadata": {},
   "source": [
    "# Other"
   ]
  },
  {
   "cell_type": "code",
   "execution_count": 81,
   "metadata": {},
   "outputs": [],
   "source": [
    "import pip\n",
    "\n",
    "def import_or_install(package):\n",
    "    try:\n",
    "        __import__(package)\n",
    "    except ImportError:\n",
    "        pip.main(['install', package]) \n",
    "        __import__(package)\n",
    "        \n",
    "import_or_install('xgboost')"
   ]
  },
  {
   "cell_type": "code",
   "execution_count": null,
   "metadata": {},
   "outputs": [],
   "source": []
  }
 ],
 "metadata": {
  "kernelspec": {
   "display_name": "Python 3",
   "language": "python",
   "name": "python3"
  },
  "language_info": {
   "codemirror_mode": {
    "name": "ipython",
    "version": 3
   },
   "file_extension": ".py",
   "mimetype": "text/x-python",
   "name": "python",
   "nbconvert_exporter": "python",
   "pygments_lexer": "ipython3",
   "version": "3.5.4"
  }
 },
 "nbformat": 4,
 "nbformat_minor": 2
}
